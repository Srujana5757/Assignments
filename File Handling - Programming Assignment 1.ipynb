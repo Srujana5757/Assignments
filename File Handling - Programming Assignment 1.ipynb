{
 "cells": [
  {
   "cell_type": "code",
   "execution_count": 5,
   "id": "990a5c7d",
   "metadata": {},
   "outputs": [
    {
     "name": "stdout",
     "output_type": "stream",
     "text": [
      "India vs Pakistan, T\n"
     ]
    }
   ],
   "source": [
    "# Q1.Write a statement in python to perform the following operations\n",
    "# To open a text file \"MYPT.TXT\" in write mode\n",
    "# To open a text file\"MYPT.TXT\" in read mode \n",
    "f1=open(\"MYPT.TXT\",'w')\n",
    "f1=open(\"MYPT.TXT\",'r')"
   ]
  },
  {
   "cell_type": "code",
   "execution_count": 3,
   "id": "85f6f80c",
   "metadata": {},
   "outputs": [
    {
     "name": "stdout",
     "output_type": "stream",
     "text": [
      "India vs Pakistan, T\n"
     ]
    }
   ],
   "source": [
    "f2 = open(\"file2.txt\",\"r\")   \n",
    "print(f2.read(20))"
   ]
  },
  {
   "cell_type": "code",
   "execution_count": 7,
   "id": "46f3a92d",
   "metadata": {},
   "outputs": [],
   "source": [
    "f1=open(\"file1.txt\",\"r\")\n",
    "f2=open(\"file2.txt\",\"w\")"
   ]
  },
  {
   "cell_type": "code",
   "execution_count": null,
   "id": "d149250d",
   "metadata": {},
   "outputs": [],
   "source": [
    "# Q2.What is file mode? Name the default file mode.\n",
    "A file mode governs the type of operations possible in the opened file. The default mode is read(‘r’)"
   ]
  },
  {
   "cell_type": "code",
   "execution_count": null,
   "id": "10acd5b3",
   "metadata": {},
   "outputs": [],
   "source": [
    "File mode: A file can be opened in one of four modes. The mode determines where the file is positioned\n",
    "           when opened, and what functions are allowed. After you close a file, you can reopen the \n",
    "           file in a different mode, depending on what you are doing. For example, you can create a \n",
    "            file in a create mode.\n",
    "default file mode: The default is reading in text mode. In this mode, we get strings when\n",
    "           reading from the file. On the other hand, binary mode returns bytes and this is the mode \n",
    "           to be used when dealing with non-text files like images or executable files.\n",
    "            the default file mode is 'r','t' ie.,read,text mode."
   ]
  },
  {
   "cell_type": "code",
   "execution_count": null,
   "id": "58ad6b52",
   "metadata": {},
   "outputs": [],
   "source": [
    "# Q3.Write a statement to write the string\"Welcome! Please have a seat\" in the file wel.txt,that has \n",
    "# not yet been created.\n",
    "f1=open(\"wel.txt\",'W')\n",
    "f1.write(\"Welcome! Please have a seat\")"
   ]
  },
  {
   "cell_type": "code",
   "execution_count": null,
   "id": "153b9c00",
   "metadata": {},
   "outputs": [],
   "source": [
    "# Q4.How do you find no of characters, no of words or number of lines in python text file?\n",
    "Size of file in bytes = len(file.read())\n",
    "Number of words = len(file.read().split())\n",
    "Number of lines = len(file.readlines())"
   ]
  },
  {
   "cell_type": "code",
   "execution_count": null,
   "id": "b598def7",
   "metadata": {},
   "outputs": [],
   "source": [
    "# Q5.Write a statement in python to perform the following operations\n",
    "#   To open a binary file \"LOG.DAT\" in read mode\n",
    "#   To open a binary file \"LOG.DAT\" in write mode\n",
    "Fileobj=open(“LOG.DAT”,’rb’)\n",
    "Fileobj=open(“LOG.DAT”,’wb’)"
   ]
  },
  {
   "cell_type": "code",
   "execution_count": null,
   "id": "14610d56",
   "metadata": {},
   "outputs": [],
   "source": [
    "# Q6.Write a program to count the words \"to\" and \"the\" present in a text file \"python.txt\".\n",
    "fname = \"python.txt\"\n",
    "num_words = 0\n",
    "f= open(fname, 'r')\n",
    "words = f.read().split()\n",
    "            for a in words:\n",
    "    if (a.tolower() == “to” or a.tolower() == “the” ):\n",
    "           num_words = num_words + 1\n",
    "print(\"Number of words:\", num_words)\n",
    "f.close()"
   ]
  },
  {
   "cell_type": "code",
   "execution_count": null,
   "id": "5c88d68b",
   "metadata": {},
   "outputs": [],
   "source": [
    "# Q7.Write a program to display all the lines in a file \"python.txt\" along with line/record number.\n",
    "fh=open(\"python.txt\",\"r\")\n",
    "count=0\n",
    "lines=fh.readlines()\n",
    "for a in lines:\n",
    "    count=count+1\n",
    "    print(count,a)\n",
    "fh.close()"
   ]
  },
  {
   "cell_type": "code",
   "execution_count": null,
   "id": "0fe5b9cc",
   "metadata": {},
   "outputs": [],
   "source": [
    "# Q8.Write a program to display all the lines in a file \"python.txt\" which have the word \"to\" in it.\n",
    "fh=open(\"python.txt\",\"r\")\n",
    "count=0\n",
    "lines=fh.readlines()\n",
    "for a in lines:\n",
    "    if (a.tolower().count(“to”) > 0) :\n",
    "          print(a)\n",
    "fh.close()"
   ]
  },
  {
   "cell_type": "code",
   "execution_count": null,
   "id": "6c182e6e",
   "metadata": {},
   "outputs": [],
   "source": [
    "# Q9.Observe the following code and answer the question the question that follow:\n",
    "#  File=open(\"Mydata\",\"a\")\n",
    "#  ____________# Blank 1\n",
    "#  File.close()\n",
    "#  What type (Text/Binary) of file is Mydata?\n",
    "#  File the Blank 1 with statement to write \"ABC\" in the file \"Mydata\".\n",
    "Text file\n",
    "File.write(“ABC”)"
   ]
  },
  {
   "cell_type": "code",
   "execution_count": null,
   "id": "49c12865",
   "metadata": {},
   "outputs": [],
   "source": [
    "# Q10.What are the differentiate File Attributes in python?\n",
    "closed: Returns true if file is closed, false otherwise.\n",
    "mode: Returns access mode with which file was opened.\n",
    "name: Returns name of the file.\n",
    "softspace: Returns false if space explicitly required with print, true otherwise."
   ]
  }
 ],
 "metadata": {
  "kernelspec": {
   "display_name": "Python 3 (ipykernel)",
   "language": "python",
   "name": "python3"
  },
  "language_info": {
   "codemirror_mode": {
    "name": "ipython",
    "version": 3
   },
   "file_extension": ".py",
   "mimetype": "text/x-python",
   "name": "python",
   "nbconvert_exporter": "python",
   "pygments_lexer": "ipython3",
   "version": "3.10.6"
  }
 },
 "nbformat": 4,
 "nbformat_minor": 5
}
