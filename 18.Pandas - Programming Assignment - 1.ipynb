{
 "cells": [
  {
   "cell_type": "code",
   "execution_count": 1,
   "id": "11e2aebe",
   "metadata": {},
   "outputs": [
    {
     "name": "stdout",
     "output_type": "stream",
     "text": [
      "0    1\n",
      "1    2\n",
      "2    3\n",
      "3    4\n",
      "4    5\n",
      "5    6\n",
      "dtype: int64\n"
     ]
    }
   ],
   "source": [
    "#Q1.Write a Pandas program to create and display a one-dimensional array-like object containing an \n",
    "#  array of [1,2,3,4,5,6] of data.\n",
    "import pandas as pd\n",
    "\n",
    "data = [1,2,3,4,5,6]\n",
    "\n",
    "# Create a Pandas Series from the data\n",
    "s = pd.Series(data)\n",
    "\n",
    "# Display the Series\n",
    "print(s)\n"
   ]
  },
  {
   "cell_type": "code",
   "execution_count": 2,
   "id": "d8c6671e",
   "metadata": {},
   "outputs": [
    {
     "name": "stdout",
     "output_type": "stream",
     "text": [
      "[9, 8, 7, 6, 5, 4, 3, 2, 1]\n",
      "<class 'list'>\n"
     ]
    }
   ],
   "source": [
    "#Q2.Write a Pandas program to convert a Panda module Series of [9,8,7,6,5,4,3,2,1] to Python list\n",
    "#   and it’s type.\n",
    "import pandas as pd\n",
    "\n",
    "data = [9,8,7,6,5,4,3,2,1]\n",
    "\n",
    "# Create a Pandas Series from the data\n",
    "s = pd.Series(data)\n",
    "\n",
    "# Convert the Series to a list\n",
    "lst = s.tolist()\n",
    "\n",
    "# Print the list and its type\n",
    "print(lst)\n",
    "print(type(lst))\n"
   ]
  },
  {
   "cell_type": "code",
   "execution_count": 5,
   "id": "a891e85f",
   "metadata": {},
   "outputs": [
    {
     "name": "stdout",
     "output_type": "stream",
     "text": [
      "Addition:\n",
      "0    7\n",
      "1    7\n",
      "2    7\n",
      "3    7\n",
      "4    7\n",
      "5    7\n",
      "dtype: int64\n",
      "\n",
      "Subtraction:\n",
      "0   -5\n",
      "1   -3\n",
      "2   -1\n",
      "3    1\n",
      "4    3\n",
      "5    5\n",
      "dtype: int64\n",
      "\n",
      "Multiplication:\n",
      "0     6\n",
      "1    10\n",
      "2    12\n",
      "3    12\n",
      "4    10\n",
      "5     6\n",
      "dtype: int64\n",
      "\n",
      "Division:\n",
      "0    0.166667\n",
      "1    0.400000\n",
      "2    0.750000\n",
      "3    1.333333\n",
      "4    2.500000\n",
      "5    6.000000\n",
      "dtype: float64\n"
     ]
    }
   ],
   "source": [
    "#Q3.Write a Pandas program to add, subtract, multiple and divide two Pandas Series.\n",
    "#  Sample Series: [1,2,3,4,5,6], [6,5,4,3,2,1]\n",
    "import pandas as pd\n",
    "\n",
    "data1 = [1,2,3,4,5,6]\n",
    "data2 = [6,5,4,3,2,1]\n",
    "\n",
    "# Create two Pandas Series from the data\n",
    "s1 = pd.Series(data1)\n",
    "s2 = pd.Series(data2)\n",
    "\n",
    "# Perform the calculations and store the results in new variables\n",
    "addition = s1 + s2\n",
    "subtraction = s1 - s2\n",
    "multiplication = s1 * s2\n",
    "division = s1 / s2\n",
    "\n",
    "# Print the results\n",
    "print(\"Addition:\")\n",
    "print(addition)\n",
    "print(\"\\nSubtraction:\")\n",
    "print(subtraction)\n",
    "print(\"\\nMultiplication:\")\n",
    "print(multiplication)\n",
    "print(\"\\nDivision:\")\n",
    "print(division)"
   ]
  },
  {
   "cell_type": "code",
   "execution_count": 7,
   "id": "a8564097",
   "metadata": {},
   "outputs": [
    {
     "name": "stdout",
     "output_type": "stream",
     "text": [
      "0    False\n",
      "1    False\n",
      "2    False\n",
      "3    False\n",
      "4     True\n",
      "5    False\n",
      "6    False\n",
      "7    False\n",
      "8    False\n",
      "dtype: bool\n"
     ]
    }
   ],
   "source": [
    "#Q4.Write a Pandas program to compare the elements of the two Pandas Series.\n",
    "#  Sample Series: [9,8,7,6,5,4,3,2,1]\n",
    "# [1,2, 3,4, 5,6, 7,8,9]\n",
    "import pandas as pd\n",
    "\n",
    "data1 = [9,8,7,6,5,4,3,2,1]\n",
    "data2 = [1,2,3,4,5,6,7,8,9]\n",
    "\n",
    "# Create two Pandas Series from the data\n",
    "s1 = pd.Series(data1)\n",
    "s2 = pd.Series(data2)\n",
    "\n",
    "# Compare the elements of the two Series\n",
    "result = s1 == s2\n",
    "\n",
    "# Print the result\n",
    "print(result)\n"
   ]
  },
  {
   "cell_type": "code",
   "execution_count": 8,
   "id": "5fe1f627",
   "metadata": {},
   "outputs": [
    {
     "name": "stdout",
     "output_type": "stream",
     "text": [
      "a    10\n",
      "b    20\n",
      "c    30\n",
      "d    40\n",
      "e    50\n",
      "dtype: int64\n"
     ]
    }
   ],
   "source": [
    "#Q5.Write a Pandas program to convert a dictionary to a Pandas series.\n",
    "#  Sample dictionary: d1 = {'a’': 10, 'b': 20, 'c':30, 'd':40, 'e':50}\n",
    "import pandas as pd\n",
    "\n",
    "# Create a sample dictionary\n",
    "d1 = {'a': 10, 'b': 20, 'c':30, 'd':40, 'e':50}\n",
    "\n",
    "# Convert the dictionary to a Pandas Series\n",
    "s1 = pd.Series(d1)\n",
    "\n",
    "# Print the result\n",
    "print(s1)\n"
   ]
  },
  {
   "cell_type": "code",
   "execution_count": 9,
   "id": "12c0e35a",
   "metadata": {},
   "outputs": [
    {
     "name": "stdout",
     "output_type": "stream",
     "text": [
      "0     1\n",
      "1     2\n",
      "2     3\n",
      "3     4\n",
      "4     5\n",
      "5     6\n",
      "6     7\n",
      "7     8\n",
      "8     9\n",
      "9    10\n",
      "dtype: int32\n"
     ]
    }
   ],
   "source": [
    "#Q6.Write a Pandas program to convert a NumPy array to a Pandas series.\n",
    "#  Sample NumPy array: d1 = [1, 2, 3, 4, 5,6,7,8,9,10]\n",
    "import pandas as pd\n",
    "import numpy as np\n",
    "\n",
    "# Create a sample NumPy array\n",
    "d1 = np.array([1, 2, 3, 4, 5,6,7,8,9,10])\n",
    "\n",
    "# Convert the NumPy array to a Pandas Series\n",
    "s1 = pd.Series(d1)\n",
    "\n",
    "# Print the result\n",
    "print(s1)\n"
   ]
  },
  {
   "cell_type": "code",
   "execution_count": 10,
   "id": "dabf5719",
   "metadata": {},
   "outputs": [
    {
     "name": "stdout",
     "output_type": "stream",
     "text": [
      "0      NaN\n",
      "1    10.00\n",
      "2      NaN\n",
      "3    15.03\n",
      "4    25.00\n",
      "dtype: float64\n"
     ]
    }
   ],
   "source": [
    "#Q7.Write a Pandas program to change the data types.\n",
    "# Sample Series:\n",
    "#  Actual Data Series: [ Ajay, 10, python, 15.03, 25]    dtype: object\n",
    "#  Modified Data Series : [Nan, 10.00, Nan, 15.03, 25.00]dtype: float64\n",
    "import pandas as pd\n",
    "\n",
    "# Create a sample Series\n",
    "s1 = pd.Series(['Ajay', 10, 'python', 15.03, 25])\n",
    "\n",
    "# Change the data type of the Series\n",
    "s1 = s1.apply(pd.to_numeric, errors='coerce')\n",
    "\n",
    "# Print the result\n",
    "print(s1)\n"
   ]
  },
  {
   "cell_type": "code",
   "execution_count": 11,
   "id": "e43eb254",
   "metadata": {},
   "outputs": [
    {
     "name": "stdout",
     "output_type": "stream",
     "text": [
      "0    4\n",
      "1    5\n",
      "2    6\n",
      "3    9\n",
      "4    5\n",
      "5    0\n",
      "Name: col2, dtype: int64\n"
     ]
    }
   ],
   "source": [
    "#Q8.Pandas program to convert the second column of a DataFrame as a Series\n",
    "# d = {'col1': [1, 2, 3, 4, 7, 11], 'col2': [4, 5, 6, 9, 5, 0], 'col3': [7, 5, 8, 12, 1,11]}\n",
    "import pandas as pd\n",
    "\n",
    "# Create a sample DataFrame\n",
    "d = {'col1': [1, 2, 3, 4, 7, 11], 'col2': [4, 5, 6, 9, 5, 0], 'col3': [7, 5, 8, 12, 1,11]}\n",
    "df = pd.DataFrame(d)\n",
    "\n",
    "# Convert the second column of the DataFrame as a Series\n",
    "s1 = df['col2']\n",
    "\n",
    "# Print the result\n",
    "print(s1)\n",
    " "
   ]
  },
  {
   "cell_type": "code",
   "execution_count": 12,
   "id": "534617d4",
   "metadata": {},
   "outputs": [
    {
     "name": "stdout",
     "output_type": "stream",
     "text": [
      "0    1\n",
      "1    2\n",
      "dtype: int64\n"
     ]
    }
   ],
   "source": [
    "#Q9.Write a Pandas program to get the items which are not common of two given series.\n",
    "# [1, 2, 3, 4, 5], [7,  6, 5, 4, 3]\n",
    "import pandas as pd\n",
    "\n",
    "# Create sample series\n",
    "s1 = pd.Series([1, 2, 3, 4, 5])\n",
    "s2 = pd.Series([7, 6, 5, 4, 3])\n",
    "\n",
    "# Get items which are not common to both series\n",
    "result = s1[~s1.isin(s2)]\n",
    "\n",
    "# Print the result\n",
    "print(result)\n"
   ]
  },
  {
   "cell_type": "code",
   "execution_count": 14,
   "id": "d29d5517",
   "metadata": {},
   "outputs": [
    {
     "name": "stdout",
     "output_type": "stream",
     "text": [
      "Minimum:  20\n",
      "20th Percentile:  100.0\n",
      "50th Percentile (Median):  255.0\n",
      "80th Percentile:  590.0\n",
      "Maximum:  960\n"
     ]
    }
   ],
   "source": [
    "#Q10.Pandas program to find the minimum, 20th percentile, 50th percentile, 80th, and maximum of a\n",
    "#  given series of [100, 20, 300, 250, 50, 360, 70, 180, 960, 100, 110, 320, 830, 640, 590, 260]\n",
    "import pandas as pd\n",
    "\n",
    "# Create a sample series\n",
    "s = pd.Series([100, 20, 300, 250, 50, 360, 70, 180, 960, 100, 110, 320, 830, 640, 590, 260])\n",
    "\n",
    "# Find the minimum\n",
    "minimum = s.min()\n",
    "\n",
    "# Find the 20th percentile\n",
    "twentieth_percentile = s.quantile(0.2)\n",
    "\n",
    "# Find the 50th percentile (median)\n",
    "median = s.quantile(0.5)\n",
    "\n",
    "# Find the 80th percentile\n",
    "eighty_percentile = s.quantile(0.8)\n",
    "\n",
    "# Find the maximum\n",
    "maximum = s.max()\n",
    "\n",
    "# Print the results\n",
    "print(\"Minimum: \", minimum)\n",
    "print(\"20th Percentile: \", twentieth_percentile)\n",
    "print(\"50th Percentile (Median): \", median)\n",
    "print(\"80th Percentile: \", eighty_percentile)\n",
    "print(\"Maximum: \", maximum)\n"
   ]
  },
  {
   "cell_type": "code",
   "execution_count": 15,
   "id": "52235353",
   "metadata": {},
   "outputs": [
    {
     "name": "stdout",
     "output_type": "stream",
     "text": [
      "Subset 1:  0    0\n",
      "1    1\n",
      "dtype: int64\n",
      "Subset 2:  2    2\n",
      "3    3\n",
      "dtype: int64\n",
      "Subset 3:  4    4\n",
      "5    5\n",
      "dtype: int64\n",
      "Subset 4:  6    6\n",
      "7    7\n",
      "dtype: int64\n",
      "Subset 5:  8    8\n",
      "9    9\n",
      "dtype: int64\n",
      "Subset 6:  10    10\n",
      "dtype: int64\n"
     ]
    }
   ],
   "source": [
    "#Q11.Write a Pandas program to create 6 subset of a given series of [0, 1,2,3,4,5,6,7,8,9,10]\n",
    "# based on value\n",
    "import pandas as pd\n",
    "\n",
    "# Create a sample series\n",
    "s = pd.Series([0, 1, 2, 3, 4, 5, 6, 7, 8, 9, 10])\n",
    "\n",
    "# Create 6 subsets\n",
    "subset1 = s[s < 2]\n",
    "subset2 = s[(s >= 2) & (s < 4)]\n",
    "subset3 = s[(s >= 4) & (s < 6)]\n",
    "subset4 = s[(s >= 6) & (s < 8)]\n",
    "subset5 = s[(s >= 8) & (s < 10)]\n",
    "subset6 = s[s >= 10]\n",
    "\n",
    "# Print the subsets\n",
    "print(\"Subset 1: \", subset1)\n",
    "print(\"Subset 2: \", subset2)\n",
    "print(\"Subset 3: \", subset3)\n",
    "print(\"Subset 4: \", subset4)\n",
    "print(\"Subset 5: \", subset5)\n",
    "print(\"Subset 6: \", subset6)\n"
   ]
  },
  {
   "cell_type": "code",
   "execution_count": 16,
   "id": "da211766",
   "metadata": {},
   "outputs": [
    {
     "name": "stdout",
     "output_type": "stream",
     "text": [
      "0      500\n",
      "1      420\n",
      "2      700\n",
      "3      650\n",
      "4      450\n",
      "5      760\n",
      "6      470\n",
      "7      580\n",
      "8     1360\n",
      "9      500\n",
      "10     510\n",
      "11     720\n",
      "12    1230\n",
      "13    1040\n",
      "14     990\n",
      "15     660\n",
      "dtype: int64\n"
     ]
    }
   ],
   "source": [
    "#Q12.Write a Pandas program to add 400 to data to an existing Series\n",
    "# [100, 20, 300, 250, 50, 360, 70, 180, 960, 100, 110, 320, 830, 640, 590, 260]\n",
    "import pandas as pd\n",
    "\n",
    "# Create the original series\n",
    "original_series = pd.Series([100, 20, 300, 250, 50, 360, 70, 180, 960, 100, 110, 320, 830, 640, 590, 260])\n",
    "\n",
    "# Add 400 to each value in the series\n",
    "modified_series = original_series + 400\n",
    "\n",
    "print(modified_series)\n"
   ]
  },
  {
   "cell_type": "code",
   "execution_count": 18,
   "id": "0290d850",
   "metadata": {},
   "outputs": [
    {
     "name": "stdout",
     "output_type": "stream",
     "text": [
      "1      20\n",
      "4      50\n",
      "6      70\n",
      "0     100\n",
      "9     100\n",
      "10    110\n",
      "7     180\n",
      "3     250\n",
      "15    260\n",
      "2     300\n",
      "11    320\n",
      "5     360\n",
      "14    590\n",
      "13    640\n",
      "12    830\n",
      "8     960\n",
      "dtype: int64\n"
     ]
    }
   ],
   "source": [
    "#Q13.Write a Pandas program to sort a Series \n",
    "#  [100, 20, 300, 250, 50, 360, 70, 180, 960, 100, 110, 320, 830, 640, 590, 260]\n",
    "import pandas as pd\n",
    "\n",
    "# Create the original series\n",
    "original_series = pd.Series([100, 20, 300, 250, 50, 360, 70, 180, 960, 100, 110, 320, 830, 640, 590, 260])\n",
    "\n",
    "# Sort the series\n",
    "sorted_series = original_series.sort_values()\n",
    "\n",
    "print(sorted_series)\n"
   ]
  },
  {
   "cell_type": "code",
   "execution_count": 19,
   "id": "b945fa9f",
   "metadata": {},
   "outputs": [
    {
     "name": "stdout",
     "output_type": "stream",
     "text": [
      "0    1\n",
      "1    2\n",
      "2    3\n",
      "3    4\n",
      "dtype: int64\n"
     ]
    }
   ],
   "source": [
    "#Q14.Write a Pandas program to get the items of a given series not present in another given series.\n",
    "import pandas as pd\n",
    "\n",
    "# Create the first series\n",
    "series1 = pd.Series([1, 2, 3, 4, 5, 6, 7, 8, 9, 10])\n",
    "\n",
    "# Create the second series\n",
    "series2 = pd.Series([5, 6, 7, 8, 9, 10, 11, 12, 13, 14])\n",
    "\n",
    "# Get the items of series1 not present in series2\n",
    "result = series1[~series1.isin(series2)]\n",
    "\n",
    "print(result)\n"
   ]
  },
  {
   "cell_type": "code",
   "execution_count": 21,
   "id": "b6b93e3a",
   "metadata": {},
   "outputs": [
    {
     "name": "stdout",
     "output_type": "stream",
     "text": [
      "j    10\n",
      "i     9\n",
      "h     8\n",
      "g     7\n",
      "f     6\n",
      "e     5\n",
      "d     4\n",
      "c     3\n",
      "b     2\n",
      "a     1\n",
      "dtype: int64\n"
     ]
    }
   ],
   "source": [
    "#Q15.Write a Pandas program to change the order of index of a given series.\n",
    "import pandas as pd\n",
    "\n",
    "# Create the series\n",
    "series = pd.Series([1, 2, 3, 4, 5, 6, 7, 8, 9, 10], index=['a', 'b', 'c', 'd', 'e', 'f', 'g', 'h', 'i', 'j'])\n",
    "\n",
    "# Change the order of the index\n",
    "result = series.reindex(index=['j', 'i', 'h', 'g', 'f', 'e', 'd', 'c', 'b', 'a'])\n",
    "\n",
    "print(result)\n"
   ]
  },
  {
   "cell_type": "code",
   "execution_count": null,
   "id": "c8df38cf",
   "metadata": {},
   "outputs": [],
   "source": []
  }
 ],
 "metadata": {
  "kernelspec": {
   "display_name": "Python 3 (ipykernel)",
   "language": "python",
   "name": "python3"
  },
  "language_info": {
   "codemirror_mode": {
    "name": "ipython",
    "version": 3
   },
   "file_extension": ".py",
   "mimetype": "text/x-python",
   "name": "python",
   "nbconvert_exporter": "python",
   "pygments_lexer": "ipython3",
   "version": "3.10.6"
  }
 },
 "nbformat": 4,
 "nbformat_minor": 5
}
