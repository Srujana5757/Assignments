{
 "cells": [
  {
   "cell_type": "code",
   "execution_count": 1,
   "id": "c37dfab6",
   "metadata": {},
   "outputs": [
    {
     "name": "stdout",
     "output_type": "stream",
     "text": [
      "{'wed', 'fri', 'tue', 'sun', 'mon', 'thur', 'sat'}\n"
     ]
    }
   ],
   "source": [
    "# Q1 Using union operation add to sets containing the values of days of weeks;\n",
    "s1 = {'sun','mon','tue','wed','thur'}\n",
    "s2 = {'wed','thur','fri','sat'}\n",
    "\n",
    "s = s1 | s2\n",
    "\n",
    "print(s)"
   ]
  },
  {
   "cell_type": "code",
   "execution_count": 6,
   "id": "42c63d5e",
   "metadata": {},
   "outputs": [
    {
     "name": "stdout",
     "output_type": "stream",
     "text": [
      "{'October', 'September', 'January', 'June', 'July', 'November', 'February', 'August', 'March', 'December', 'April'}\n"
     ]
    }
   ],
   "source": [
    "# Q2 Initilize a set having months as values from January to At, then add the rest of months to it:\n",
    "        # InitilizeTheSet = ('January','February','March')\n",
    "InitilizeTheSet = {'January','February','March'}\n",
    "set2 = ('April','March','June','July','August','September','October','November','December')\n",
    "InitilizeTheSet.update(set2)\n",
    "\n",
    "print(InitilizeTheSet)"
   ]
  },
  {
   "cell_type": "code",
   "execution_count": 7,
   "id": "022e1a34",
   "metadata": {},
   "outputs": [
    {
     "name": "stdout",
     "output_type": "stream",
     "text": [
      "{'Wed', 'Mon', 'Tue', 'Thur', 'Sun', 'Fri'}\n"
     ]
    }
   ],
   "source": [
    "# Q3 Create a freeze set containing name of weeks and delete the last element of the set:\n",
    "mylist = {'Sun', 'Mon', 'Tue', 'Wed', 'Thur', 'Fri', 'Sat'}\n",
    "mylist.remove('Sat')\n",
    "print(mylist)"
   ]
  },
  {
   "cell_type": "code",
   "execution_count": 29,
   "id": "85136ef1",
   "metadata": {},
   "outputs": [
    {
     "ename": "TypeError",
     "evalue": "'set' object is not subscriptable",
     "output_type": "error",
     "traceback": [
      "\u001b[1;31m---------------------------------------------------------------------------\u001b[0m",
      "\u001b[1;31mTypeError\u001b[0m                                 Traceback (most recent call last)",
      "Cell \u001b[1;32mIn [29], line 6\u001b[0m\n\u001b[0;32m      4\u001b[0m \u001b[38;5;66;03m#week = [‘Monday’, ‘Tuesday’, ‘Wednesday’, ‘Thursday’, ‘Friday’, ‘Saturday’, 3.‘Sunday’]\u001b[39;00m\n\u001b[0;32m      5\u001b[0m \u001b[38;5;28;01mwhile\u001b[39;00m days \u001b[38;5;241m<\u001b[39m \u001b[38;5;241m7\u001b[39m:\n\u001b[1;32m----> 6\u001b[0m     \u001b[38;5;28mprint\u001b[39m(\u001b[38;5;124m\"\u001b[39m\u001b[38;5;124mToday is\u001b[39m\u001b[38;5;124m\"\u001b[39m \u001b[38;5;241m+\u001b[39m my_set[days])\n\u001b[0;32m      7\u001b[0m     days \u001b[38;5;241m+\u001b[39m\u001b[38;5;241m=\u001b[39m \u001b[38;5;241m1\u001b[39m\n",
      "\u001b[1;31mTypeError\u001b[0m: 'set' object is not subscriptable"
     ]
    }
   ],
   "source": [
    "# Q4 Make a set containing week days and print the values from Monday to Sunday.\n",
    "my_set={'Mon', 'Tue', 'Wed', 'Thur', 'Fri', 'Sat','Sun'}\n",
    "days = 0\n",
    "#week = [‘Monday’, ‘Tuesday’, ‘Wednesday’, ‘Thursday’, ‘Friday’, ‘Saturday’, 3.‘Sunday’]\n",
    "while days < 7:\n",
    "    print(\"Today is\" + my_set[days])\n",
    "    days += 1\n",
    "                "
   ]
  },
  {
   "cell_type": "code",
   "execution_count": 18,
   "id": "d6edffc9",
   "metadata": {},
   "outputs": [
    {
     "name": "stdout",
     "output_type": "stream",
     "text": [
      "Enter weekday number (1-7) : 1\n",
      "\n",
      "Monday\n"
     ]
    }
   ],
   "source": [
    "weekday = int(input(\"Enter weekday number (1-7) : \"))\n",
    "\n",
    "if weekday == 1 :\n",
    "    print(\"\\nMonday\");\n",
    "\n",
    "elif weekday == 2 :\n",
    "    print(\"\\nTuesday\")\n",
    "\n",
    "elif(weekday == 3) :\n",
    "    print(\"\\nWednesday\")\n",
    "\n",
    "elif(weekday == 4) :\n",
    "    print(\"\\nThursday\")\n",
    "\n",
    "elif(weekday == 5) :\n",
    "    print(\"\\nFriday\")\n",
    "\n",
    "elif(weekday == 6) :\n",
    "    print(\"\\nSaturday\")\n",
    "\n",
    "elif (weekday == 7) :\n",
    "    print(\"\\nSunday\")\n",
    "\n",
    "else :\n",
    "    print(\"\\nPlease enter any weekday number (1-7)\")"
   ]
  },
  {
   "cell_type": "code",
   "execution_count": 15,
   "id": "a0a0ec15",
   "metadata": {},
   "outputs": [
    {
     "name": "stdout",
     "output_type": "stream",
     "text": [
      "['no']\n"
     ]
    }
   ],
   "source": [
    "# Q5 Find if the value x is in the given tuple:\n",
    "    # value=('EkeedalsTheBest') \n",
    "#x = (\"EkeedalsTheBest\")\n",
    "#print(tup)\n",
    "x = (\"EkeedalsTheBest\");n=\"\"\n",
    "t=[i for i in x if i==n]\n",
    "print([\"yes\" if t else \"no\"])                                                                              # it is the element to get output 4 times or more or less how many times we need.\n"
   ]
  },
  {
   "cell_type": "code",
   "execution_count": 16,
   "id": "f5b666a7",
   "metadata": {},
   "outputs": [
    {
     "name": "stdout",
     "output_type": "stream",
     "text": [
      "The original tuple : EkeedalsTheBest\n",
      "Does tuple contain required value ? : True\n"
     ]
    }
   ],
   "source": [
    "x = (\"EkeedalsTheBest\")\n",
    " \n",
    "# printing original tuple\n",
    "print(\"The original tuple : \" + str(x))\n",
    " \n",
    "# initialize N\n",
    "N = \"EkeedalsTheBest\"\n",
    " \n",
    "# Check if element is present in tuple\n",
    "# Using in operator\n",
    "res = N in x\n",
    " \n",
    "# printing result\n",
    "print(\"Does tuple contain required value ? : \" + str(res))\n"
   ]
  },
  {
   "cell_type": "code",
   "execution_count": 3,
   "id": "fd8a8a03",
   "metadata": {},
   "outputs": [
    {
     "name": "stdout",
     "output_type": "stream",
     "text": [
      "ekeeda\n",
      "ekeeda\n",
      "ekeeda\n",
      "ekeeda\n",
      "ekeeda\n"
     ]
    }
   ],
   "source": [
    "# Q6 print the tuple value 5 times.\n",
    "# Value=(\"ekeeda\")\n",
    "#tup=(\"ekeeda\")\n",
    "#print(tup*5)\n",
    "n = 0\n",
    "                                                                              # it is the element to get output 4 times or more or less how many times we need.\n",
    "while (n<5): # n = 3 + 1 = 4 now at 4 it will not enter the loop\n",
    "    n = n + 1\n",
    "    # n = 0 + 1 = 1                                           \n",
    "    # n = 1 + 1 = 2\n",
    "    # n = 2 + 1 = 3\n",
    "    print(\"ekeeda\")"
   ]
  },
  {
   "cell_type": "code",
   "execution_count": 11,
   "id": "2e13619d",
   "metadata": {},
   "outputs": [
    {
     "name": "stdout",
     "output_type": "stream",
     "text": [
      "{10, 20}\n",
      "{60, 70}\n"
     ]
    }
   ],
   "source": [
    "# Q7 Return a set of elements that are not present in both sets A and B:\n",
    "A= {30,40,50,60,70}\n",
    "B = {10,20,30,40,50}\n",
    "C = B.difference(A)\n",
    "print(C)\n",
    "C = A.difference(B)\n",
    "print(C)\n",
    "#print(\"Original sets:\")\n",
    "#print(A)\n",
    "#print(B)\n",
    "#print(\"Difference of A and B using difference():\")\n",
    "#print(A.difference(B))\n",
    "#print(\"Difference of B and A using difference():\")\n",
    "#print(B.difference(A))\n"
   ]
  },
  {
   "cell_type": "code",
   "execution_count": 2,
   "id": "11e34f06",
   "metadata": {},
   "outputs": [
    {
     "name": "stdout",
     "output_type": "stream",
     "text": [
      "{'y', 'b', 'c', 'x', 'a', 'z'}\n"
     ]
    }
   ],
   "source": [
    "# Q8 Add of list of elements to the set;\n",
    "# sett={\"a\",\"b\",\"c\"}\n",
    "# li=[\"x\",\"y\",\"z\"]\n",
    "#Program :\n",
    "    \n",
    "#Represents a set\n",
    "sett = {\"a\",\"b\",\"c\"}\n",
    "#Represents a list\n",
    "li = [\"x\",\"y\",\"z\"]\n",
    "# adding all elements in list to the set\n",
    "sett.update(li)\n",
    "#print('After adding list to set : ')\n",
    "print(sett)"
   ]
  },
  {
   "cell_type": "code",
   "execution_count": 4,
   "id": "4806d499",
   "metadata": {},
   "outputs": [
    {
     "name": "stdout",
     "output_type": "stream",
     "text": [
      "3\n"
     ]
    }
   ],
   "source": [
    "# Q9 Write a python program to find the total number of items an item appeared in the tuple.\n",
    "# item=2,4,5,6,2,3,4,4,7\n",
    "# tuple of vowels\n",
    "item = (2,4,5,6,2,3,4,4,7)\n",
    "\n",
    "# counts the number of i's in the tuple\n",
    "count = item.count(4)\n",
    "\n",
    "print(count)\n"
   ]
  },
  {
   "cell_type": "code",
   "execution_count": 5,
   "id": "8269e020",
   "metadata": {},
   "outputs": [
    {
     "name": "stdout",
     "output_type": "stream",
     "text": [
      "('a', 'm', 'i')\n",
      "('m', 'i', 'n', 'i', 's')\n",
      "('a', 'm', 'i', 'n')\n"
     ]
    }
   ],
   "source": [
    "# Q10 Tuple Operations;\n",
    "# Var=('p','r','o','g','r','a','m','i','n','i','s','f','u','n')\n",
    "# print values between 5-8; 6-11; 5-9\n",
    "Var=('p','r','o','g','r','a','m','i','n','i','s','f','u','n')\n",
    "splitid=Var[5:8]\n",
    "print(splitid)\n",
    "splitid=Var[6:11]\n",
    "print(splitid)\n",
    "splitid=Var[5:9]\n",
    "print(splitid)"
   ]
  },
  {
   "cell_type": "code",
   "execution_count": 5,
   "id": "01b38fd6",
   "metadata": {},
   "outputs": [
    {
     "name": "stdout",
     "output_type": "stream",
     "text": [
      "{50, 20, 40, 30}\n"
     ]
    }
   ],
   "source": [
    "# Q11 Remove the elements from the set in single operation\n",
    "# set1={10,20,30,40,50}\n",
    "set1 = {10,20,30,40,50}\n",
    " \n",
    "#Remove single element from a Set using remove()\n",
    "set1.remove(10)\n",
    " \n",
    "#Print result\n",
    "print(set1)"
   ]
  },
  {
   "cell_type": "code",
   "execution_count": 17,
   "id": "f285ac5c",
   "metadata": {},
   "outputs": [
    {
     "name": "stdout",
     "output_type": "stream",
     "text": [
      "True\n"
     ]
    }
   ],
   "source": [
    "# Q12 Evaluate if the values in the tuple are same.\n",
    "# Tup=(11,11,11,11,11)\n",
    "Tup = (11,11,11,11,11)\n",
    "\n",
    "def samevalues(Tup):\n",
    "  return any(Tup.count(elem)>1 for elem in list(Tup))\n",
    "print(samevalues(Tup))\n",
    "#print(11 in Tup)"
   ]
  },
  {
   "cell_type": "code",
   "execution_count": 6,
   "id": "058366f2",
   "metadata": {},
   "outputs": [
    {
     "data": {
      "text/plain": [
       "(('Y', 10), ('X', 20), ('Z', 33), ('Y', 45))"
      ]
     },
     "execution_count": 6,
     "metadata": {},
     "output_type": "execute_result"
    }
   ],
   "source": [
    "# Q13 Sort a Tuple of tuple of tuples based on the second item in it:\n",
    "    #tup=((X,20),(Y,10),('Y',45),('Z',33))\n",
    "tup=(('X',20),('Y',10),('Y',45),('Z',33))\n",
    "list(tup)\n",
    "sop=tuple(sorted(list(tup), key=lambda x:x[1]))\n",
    "sop"
   ]
  },
  {
   "cell_type": "code",
   "execution_count": 7,
   "id": "6e6282f3",
   "metadata": {},
   "outputs": [
    {
     "name": "stdout",
     "output_type": "stream",
     "text": [
      "Original set elements:\n",
      "{1, 2, 3, 4}\n",
      "{4, 5, 6, 7}\n",
      "{8, 9, 10}\n",
      "\n",
      "Confirm two given sets have no element(s) in common:\n",
      "\n",
      "Compare X and Y:\n",
      "False\n",
      "\n",
      "Compare X and Z:\n",
      "True\n",
      "\n",
      "Compare Y and Z:\n",
      "True\n"
     ]
    }
   ],
   "source": [
    "# Q14 Write a python program to see if the given sets have no common elements?\n",
    "# x = {1,2,3,4}\n",
    "# Y = {4,5,6,7}\n",
    "# Z = {8,9,10}\n",
    "X = {1,2,3,4}\n",
    "Y = {4,5,6,7}\n",
    "Z = {8,9,10}\n",
    "print(\"Original set elements:\")\n",
    "print(X)\n",
    "print(Y)\n",
    "print(Z)\n",
    "print(\"\\nConfirm two given sets have no element(s) in common:\")\n",
    "print(\"\\nCompare X and Y:\")\n",
    "print(X.isdisjoint(Y))\n",
    "print(\"\\nCompare X and Z:\")\n",
    "print(Z.isdisjoint(X))\n",
    "print(\"\\nCompare Y and Z:\")\n",
    "print(Y.isdisjoint(Z))\n"
   ]
  },
  {
   "cell_type": "code",
   "execution_count": 2,
   "id": "c084549a",
   "metadata": {},
   "outputs": [
    {
     "data": {
      "text/plain": [
       "[25, 2, 6, 8.2]"
      ]
     },
     "execution_count": 2,
     "metadata": {},
     "output_type": "execute_result"
    }
   ],
   "source": [
    "# Q15 Write a Python Program to compute the sum of nested tuples:\n",
    "#  nums = [(1,2,22),(2,44,-44),(2,4),(2,2,2,2.2)]\n",
    "nums = [(1,2,22),(2,44,-44),(2,4),(2,2,2,2.2)]\n",
    "def x(lst):\n",
    "    result = map(sum,lst)\n",
    "    return list(result)\n",
    "x(nums)"
   ]
  },
  {
   "cell_type": "code",
   "execution_count": null,
   "id": "a3f23b55",
   "metadata": {},
   "outputs": [],
   "source": []
  }
 ],
 "metadata": {
  "kernelspec": {
   "display_name": "Python 3 (ipykernel)",
   "language": "python",
   "name": "python3"
  },
  "language_info": {
   "codemirror_mode": {
    "name": "ipython",
    "version": 3
   },
   "file_extension": ".py",
   "mimetype": "text/x-python",
   "name": "python",
   "nbconvert_exporter": "python",
   "pygments_lexer": "ipython3",
   "version": "3.10.6"
  }
 },
 "nbformat": 4,
 "nbformat_minor": 5
}
