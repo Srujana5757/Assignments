{
 "cells": [
  {
   "cell_type": "code",
   "execution_count": null,
   "id": "ece10191",
   "metadata": {},
   "outputs": [],
   "source": [
    "# Q1.Write a simple code to make a package that contains modules\n",
    "from School.Student import Student\n",
    "\n",
    "class Main(object):\n",
    "    student =  Student();  \n",
    "    student.first_name=\"Michael\";\n",
    "    student.last_name=\"Collins\";\n",
    "    \n",
    "    student.personName();"
   ]
  },
  {
   "cell_type": "code",
   "execution_count": null,
   "id": "1b25ccda",
   "metadata": {},
   "outputs": [],
   "source": [
    "Here's an example of how to create a simple package that contains modules in Python:\n",
    "\n",
    "Create a directory for your package, for example mypackage\n",
    "Inside the package directory, create a file called __init__.py. This file is required for Python to\n",
    "treat the directory as a package. You can leave this file empty or add some initialization code, like\n",
    "import statement for modules.\n",
    "Create your modules as separate python files, for example module1.py, module2.py inside the package \n",
    "directory.\n",
    "In each of the module file, you can define functions, classes or variables\n",
    "Here's an example of how the package directory should look like:"
   ]
  },
  {
   "cell_type": "code",
   "execution_count": null,
   "id": "b292ce66",
   "metadata": {},
   "outputs": [],
   "source": [
    "mypackage/\n",
    "    __init__.py\n",
    "    module1.py\n",
    "    module2.py"
   ]
  },
  {
   "cell_type": "code",
   "execution_count": null,
   "id": "b45a1006",
   "metadata": {},
   "outputs": [],
   "source": [
    "Here's an example of how to use the package:"
   ]
  },
  {
   "cell_type": "code",
   "execution_count": null,
   "id": "c9dfb6fd",
   "metadata": {},
   "outputs": [],
   "source": [
    "import mypackage.module1\n",
    "import mypackage.module2\n",
    "\n",
    "result1 = mypackage.module1.my_function()\n",
    "result2 = mypackage.module2.my_function()\n"
   ]
  },
  {
   "cell_type": "code",
   "execution_count": null,
   "id": "20812b3d",
   "metadata": {},
   "outputs": [],
   "source": [
    "You can also use from mypackage import module1, module2 or from mypackage.module1 import my_function \n",
    "to import the package and use the modules and its functions respectively.\n",
    "\n",
    "It's worth noting that in order to use this package, the package directory should be in the same \n",
    "directory or in the python path.\n",
    "\n",
    "Creating a package allows you to organize your code in a modular way, making it easier to maintain,\n",
    "test, and reuse.\n",
    "You can also use __all__ variable in the __init__.py to define the list of modules that should be\n",
    "exposed when the package is imported. This can be useful for hiding the internal implementation\n",
    "details of the package and exposing a clean API."
   ]
  },
  {
   "cell_type": "code",
   "execution_count": 1,
   "id": "315d344a",
   "metadata": {},
   "outputs": [
    {
     "name": "stdout",
     "output_type": "stream",
     "text": [
      "['__add__', '__class__', '__class_getitem__', '__contains__', '__delattr__', '__delitem__', '__dir__', '__doc__', '__eq__', '__format__', '__ge__', '__getattribute__', '__getitem__', '__gt__', '__hash__', '__iadd__', '__imul__', '__init__', '__init_subclass__', '__iter__', '__le__', '__len__', '__lt__', '__mul__', '__ne__', '__new__', '__reduce__', '__reduce_ex__', '__repr__', '__reversed__', '__rmul__', '__setattr__', '__setitem__', '__sizeof__', '__str__', '__subclasshook__', 'append', 'clear', 'copy', 'count', 'extend', 'index', 'insert', 'pop', 'remove', 'reverse', 'sort']\n"
     ]
    }
   ],
   "source": [
    "# Q2.How to use the built-in function dir() to list all valid attributes and methods for that module?\n",
    "# Module -math\n",
    "math = [1, 2, 3]\n",
    "\n",
    "#dir with a filled list\n",
    "print(dir(math))\n",
    "\n",
    "#number2 = [ ]\n",
    "\n",
    "# dir() with an empty list\n",
    "#print(dir(number2))"
   ]
  },
  {
   "cell_type": "code",
   "execution_count": 6,
   "id": "af888a69",
   "metadata": {},
   "outputs": [
    {
     "name": "stdout",
     "output_type": "stream",
     "text": [
      "['__doc__', '__loader__', '__name__', '__package__', '__spec__', 'acos', 'acosh', 'asin', 'asinh', 'atan', 'atan2', 'atanh', 'ceil', 'comb', 'copysign', 'cos', 'cosh', 'degrees', 'dist', 'e', 'erf', 'erfc', 'exp', 'expm1', 'fabs', 'factorial', 'floor', 'fmod', 'frexp', 'fsum', 'gamma', 'gcd', 'hypot', 'inf', 'isclose', 'isfinite', 'isinf', 'isnan', 'isqrt', 'lcm', 'ldexp', 'lgamma', 'log', 'log10', 'log1p', 'log2', 'modf', 'nan', 'nextafter', 'perm', 'pi', 'pow', 'prod', 'radians', 'remainder', 'sin', 'sinh', 'sqrt', 'tan', 'tanh', 'tau', 'trunc', 'ulp']\n",
      "['__add__', '__class__', '__contains__', '__delattr__', '__dir__', '__doc__', '__eq__', '__format__', '__ge__', '__getattribute__', '__getitem__', '__getnewargs__', '__gt__', '__hash__', '__init__', '__init_subclass__', '__iter__', '__le__', '__len__', '__lt__', '__mod__', '__mul__', '__ne__', '__new__', '__reduce__', '__reduce_ex__', '__repr__', '__rmod__', '__rmul__', '__setattr__', '__sizeof__', '__str__', '__subclasshook__', 'capitalize', 'casefold', 'center', 'count', 'encode', 'endswith', 'expandtabs', 'find', 'format', 'format_map', 'index', 'isalnum', 'isalpha', 'isascii', 'isdecimal', 'isdigit', 'isidentifier', 'islower', 'isnumeric', 'isprintable', 'isspace', 'istitle', 'isupper', 'join', 'ljust', 'lower', 'lstrip', 'maketrans', 'partition', 'removeprefix', 'removesuffix', 'replace', 'rfind', 'rindex', 'rjust', 'rpartition', 'rsplit', 'rstrip', 'split', 'splitlines', 'startswith', 'strip', 'swapcase', 'title', 'translate', 'upper', 'zfill']\n",
      "['__add__', '__class__', '__contains__', '__delattr__', '__dir__', '__doc__', '__eq__', '__format__', '__ge__', '__getattribute__', '__getitem__', '__getnewargs__', '__gt__', '__hash__', '__init__', '__init_subclass__', '__iter__', '__le__', '__len__', '__lt__', '__mod__', '__mul__', '__ne__', '__new__', '__reduce__', '__reduce_ex__', '__repr__', '__rmod__', '__rmul__', '__setattr__', '__sizeof__', '__str__', '__subclasshook__', 'capitalize', 'casefold', 'center', 'count', 'encode', 'endswith', 'expandtabs', 'find', 'format', 'format_map', 'index', 'isalnum', 'isalpha', 'isascii', 'isdecimal', 'isdigit', 'isidentifier', 'islower', 'isnumeric', 'isprintable', 'isspace', 'istitle', 'isupper', 'join', 'ljust', 'lower', 'lstrip', 'maketrans', 'partition', 'removeprefix', 'removesuffix', 'replace', 'rfind', 'rindex', 'rjust', 'rpartition', 'rsplit', 'rstrip', 'split', 'splitlines', 'startswith', 'strip', 'swapcase', 'title', 'translate', 'upper', 'zfill']\n"
     ]
    }
   ],
   "source": [
    "# Q2.How to use the built-in function dir() to list all valid attributes and methods for that module?\n",
    "# Module -math\n",
    "import math\n",
    "print(dir(math))\n",
    "print(dir(str))\n",
    "a = 'hello'\n",
    "print(dir(a))\n"
   ]
  },
  {
   "cell_type": "code",
   "execution_count": 3,
   "id": "2076759e",
   "metadata": {},
   "outputs": [
    {
     "name": "stdout",
     "output_type": "stream",
     "text": [
      "_abc, _ast, _bisect, _blake2, _codecs, _codecs_cn, _codecs_hk,\n",
      "_codecs_iso2022, _codecs_jp, _codecs_kr, _codecs_tw, _collections,\n",
      "_contextvars, _csv, _datetime, _functools, _heapq, _imp, _io, _json,\n",
      "_locale, _lsprof, _md5, _multibytecodec, _opcode, _operator, _pickle,\n",
      "_random, _sha1, _sha256, _sha3, _sha512, _signal, _sre, _stat,\n",
      "_statistics, _string, _struct, _symtable, _thread, _tracemalloc,\n",
      "_warnings, _weakref, _winapi, _xxsubinterpreters, array, atexit,\n",
      "audioop, binascii, builtins, cmath, errno, faulthandler, gc,\n",
      "itertools, marshal, math, mmap, msvcrt, nt, sys, time, winreg,\n",
      "xxsubtype, zlib\n"
     ]
    }
   ],
   "source": [
    "# Q3.Write a code to see builtin modules name from a module, For example,sys\n",
    "import sys\n",
    "import textwrap\n",
    "module_name = ', '.join(sorted(sys.builtin_module_names))\n",
    "print(textwrap.fill(module_name, width=70))"
   ]
  },
  {
   "cell_type": "code",
   "execution_count": 4,
   "id": "88165f52",
   "metadata": {},
   "outputs": [
    {
     "name": "stdout",
     "output_type": "stream",
     "text": [
      "34\n"
     ]
    }
   ],
   "source": [
    "# Q4.Write a code to return the Fibonacci function into a module, on import Fibonacci it would return \n",
    "#   the Fibonacci of a number.\n",
    "# Fibonacci series using recursion\n",
    "def fibonacci(n):\n",
    "    if n <= 1:\n",
    "        return n\n",
    "    return fibonacci(n-1) + fibonacci(n-2)\n",
    " \n",
    " \n",
    "if __name__ == \"__main__\":\n",
    "    n = 9\n",
    "    print(fibonacci(n))\n",
    " "
   ]
  },
  {
   "cell_type": "code",
   "execution_count": 12,
   "id": "9de9edee",
   "metadata": {},
   "outputs": [],
   "source": [
    "# Q5.Write a program to make your own module and import the py file as a module\n",
    "''' GFG.py '''\n",
    "  \n",
    "# Python program to create\n",
    "# a module\n",
    "  \n",
    "  \n",
    "# Defining a function\n",
    "def Geeks():\n",
    "    print(\"GeeksforGeeks\")\n",
    "  \n",
    "# Defining a variable\n",
    "location = \"Noida\""
   ]
  },
  {
   "cell_type": "code",
   "execution_count": null,
   "id": "7918779d",
   "metadata": {},
   "outputs": [],
   "source": [
    "import GFG\n",
    "  \n",
    "# Use the function created\n",
    "GFG.Geeks()\n",
    "  \n",
    "# Print the variable declared\n",
    "print(GFG.location)"
   ]
  },
  {
   "cell_type": "code",
   "execution_count": 15,
   "id": "d97899d5",
   "metadata": {},
   "outputs": [],
   "source": [
    "import sum\n",
    "import mul"
   ]
  },
  {
   "cell_type": "code",
   "execution_count": 16,
   "id": "5c458922",
   "metadata": {},
   "outputs": [
    {
     "ename": "AttributeError",
     "evalue": "module 'sum' has no attribute 'Summation'",
     "output_type": "error",
     "traceback": [
      "\u001b[1;31m---------------------------------------------------------------------------\u001b[0m",
      "\u001b[1;31mAttributeError\u001b[0m                            Traceback (most recent call last)",
      "Cell \u001b[1;32mIn [16], line 1\u001b[0m\n\u001b[1;32m----> 1\u001b[0m \u001b[38;5;28mprint\u001b[39m(\u001b[38;5;28msum\u001b[39m\u001b[38;5;241m.\u001b[39mSummation(\u001b[38;5;241m1\u001b[39m,\u001b[38;5;241m2\u001b[39m))\n\u001b[0;32m      2\u001b[0m \u001b[38;5;28mprint\u001b[39m(mul\u001b[38;5;241m.\u001b[39mmultiplication(\u001b[38;5;241m1\u001b[39m,\u001b[38;5;241m2\u001b[39m))\n",
      "\u001b[1;31mAttributeError\u001b[0m: module 'sum' has no attribute 'Summation'"
     ]
    }
   ],
   "source": [
    "print(sum.Summation(1,2))\n",
    "print(mul.multiplication(1,2))"
   ]
  },
  {
   "cell_type": "code",
   "execution_count": null,
   "id": "2bca00e0",
   "metadata": {},
   "outputs": [],
   "source": [
    "# Q5.Write a program to make your own module and import the py file as a module\n"
   ]
  },
  {
   "cell_type": "code",
   "execution_count": null,
   "id": "be44bce9",
   "metadata": {},
   "outputs": [],
   "source": [
    "Here's an example of how to create a simple module and import it as a module in Python:\n",
    "\n",
    "1. Create a new file called mymodule.py in your desired location.\n",
    "2. Inside the mymodule.py file, define a function or a class, for example"
   ]
  },
  {
   "cell_type": "code",
   "execution_count": null,
   "id": "be1d603e",
   "metadata": {},
   "outputs": [],
   "source": [
    "def greet(name):\n",
    "    return f\"Hello, {name}!\""
   ]
  },
  {
   "cell_type": "code",
   "execution_count": null,
   "id": "193aa4cf",
   "metadata": {},
   "outputs": [],
   "source": [
    "3. In the same directory or in the python path, create a new file called main.py to import and use\n",
    "the function from mymodule.py file.\n",
    "4. In the main.py file, use the import statement to import the mymodule module, and then call the \n",
    "function or class defined in the module."
   ]
  },
  {
   "cell_type": "code",
   "execution_count": null,
   "id": "0a2f853c",
   "metadata": {},
   "outputs": [],
   "source": [
    "import mymodule\n",
    "\n",
    "print(mymodule.greet(\"John\"))\n"
   ]
  },
  {
   "cell_type": "code",
   "execution_count": null,
   "id": "2eaf9dff",
   "metadata": {},
   "outputs": [],
   "source": [
    "Alternatively, you can use the from statement to import specific functions or classes from the module:"
   ]
  },
  {
   "cell_type": "code",
   "execution_count": null,
   "id": "6994f47f",
   "metadata": {},
   "outputs": [],
   "source": [
    "from mymodule import greet\n",
    "\n",
    "print(greet(\"John\"))\n"
   ]
  },
  {
   "cell_type": "code",
   "execution_count": null,
   "id": "7f2dd265",
   "metadata": {},
   "outputs": [],
   "source": [
    "This code creates a module mymodule.py that defines a function greet() which takes a name as input\n",
    "and returns a greeting message. It then imports the module in the main.py file and calls the function\n",
    "with a specific name, which will print \"Hello, John!\".\n",
    "\n",
    "It's worth noting that in order to use a module, the module file should be in the same directory or\n",
    "in the python path, otherwise python will not be able to find it.\n",
    "You can also use the sys module to add the directory where your module is located to the python path.\n"
   ]
  },
  {
   "cell_type": "code",
   "execution_count": null,
   "id": "99b9a9b3",
   "metadata": {},
   "outputs": [],
   "source": [
    "import sys\n",
    "sys.path.append(\"/path/to/module\")\n"
   ]
  },
  {
   "cell_type": "code",
   "execution_count": null,
   "id": "381acd9a",
   "metadata": {},
   "outputs": [],
   "source": [
    "Creating and importing your own modules allows you to organize your code in a modular way, making\n",
    "it more readable, maintainable and reusable."
   ]
  }
 ],
 "metadata": {
  "kernelspec": {
   "display_name": "Python 3 (ipykernel)",
   "language": "python",
   "name": "python3"
  },
  "language_info": {
   "codemirror_mode": {
    "name": "ipython",
    "version": 3
   },
   "file_extension": ".py",
   "mimetype": "text/x-python",
   "name": "python",
   "nbconvert_exporter": "python",
   "pygments_lexer": "ipython3",
   "version": "3.10.6"
  }
 },
 "nbformat": 4,
 "nbformat_minor": 5
}
