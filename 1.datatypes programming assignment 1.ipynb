{
 "cells": [
  {
   "cell_type": "code",
   "execution_count": 47,
   "id": "5a869e73",
   "metadata": {},
   "outputs": [
    {
     "name": "stdout",
     "output_type": "stream",
     "text": [
      "[10, 8, 7, 6, 5, 4, 3, 2, 1]\n"
     ]
    }
   ],
   "source": [
    "a=[1,3,5,7]\n",
    "b=[2,4,6,8,10]                             # Q1 MCQ\n",
    "ab=[1,2,3,4,5,6,7,8,10]\n",
    "ab.reverse()\n",
    "print(ab)"
   ]
  },
  {
   "cell_type": "code",
   "execution_count": 48,
   "id": "90ca8e51",
   "metadata": {},
   "outputs": [
    {
     "name": "stdout",
     "output_type": "stream",
     "text": [
      "{1, 2, 3, 5.1, 'ram'}\n"
     ]
    }
   ],
   "source": [
    "ab_list = [1,2,3,\"ram\",5.1]\n",
    "ab_set = set(ab_list)                     # Q2 MCQ\n",
    "print(ab_set)\n"
   ]
  },
  {
   "cell_type": "code",
   "execution_count": 49,
   "id": "ca612e5e",
   "metadata": {},
   "outputs": [
    {
     "data": {
      "text/plain": [
       "3000"
      ]
     },
     "execution_count": 49,
     "metadata": {},
     "output_type": "execute_result"
    }
   ],
   "source": [
    "Y = [1,3,4,6,7,9,10,4+7j,\"Hello world\",[2000,3000,1000]]         # Q3 MCQ\n",
    "Y[9][1]"
   ]
  },
  {
   "cell_type": "code",
   "execution_count": 50,
   "id": "c4acbce6",
   "metadata": {},
   "outputs": [
    {
     "data": {
      "text/plain": [
       "'09'"
      ]
     },
     "execution_count": 50,
     "metadata": {},
     "output_type": "execute_result"
    }
   ],
   "source": [
    "# Extract '09' \n",
    "G = [\"2022-09-03\"]                                  # Q4 MCQ\n",
    "G[0].split()\n",
    "G[0].split(\"-\")[1]"
   ]
  },
  {
   "cell_type": "code",
   "execution_count": 51,
   "id": "76d97be4",
   "metadata": {},
   "outputs": [
    {
     "name": "stdout",
     "output_type": "stream",
     "text": [
      "{1: 1, 2: 4, 3: 9, 4: 16}\n"
     ]
    }
   ],
   "source": [
    "square_dictionary={1:1,2:4,3:9}\n",
    "                                          # Q5 MCQ\n",
    "square_dictionary[4]=16\n",
    "print(square_dictionary)"
   ]
  },
  {
   "cell_type": "code",
   "execution_count": 53,
   "id": "5bc38c8c",
   "metadata": {},
   "outputs": [
    {
     "name": "stdout",
     "output_type": "stream",
     "text": [
      "3\n"
     ]
    }
   ],
   "source": [
    "str1 = \"hello, please meet me at 4pm @coffeehouseccd or email me python@gmail.com\"\n",
    "lst_cnt = str1.count(\"me\")\n",
    "print(lst_cnt)                                  # Q6 MCQ\n",
    "str1.remove('python@gmail')\n",
    "print(str1)\n"
   ]
  },
  {
   "cell_type": "code",
   "execution_count": 1,
   "id": "6e5eca56",
   "metadata": {},
   "outputs": [
    {
     "name": "stdout",
     "output_type": "stream",
     "text": [
      "Original list 1 : [1, 2, 3, 4]\n",
      "Original list 2 : [0, 5, 2, 1]\n",
      "Resultant list is : [0, 10, 6, 4]\n"
     ]
    }
   ],
   "source": [
    "# Python code to demonstrate\n",
    "# Multiplying two lists\n",
    "# list comprehension\n",
    "\n",
    "# initializing lists\n",
    "num_list_1 = [1, 2, 3, 4]\n",
    "num_list_2 = [0, 5, 2, 1]                  # Q7 MCQ\n",
    "\n",
    "# printing original lists\n",
    "print (\"Original list 1 : \" + str(num_list_1))\n",
    "print (\"Original list 2 : \" + str(num_list_2))\n",
    "\n",
    "# using list comprehension to\n",
    "# Multiplying two lists\n",
    "res_list = [num_list_1[i] * num_list_2[i] for i in range(len(num_list_1))]\n",
    "\n",
    "# printing resultant list\n",
    "print (\"Resultant list is : \" + str(res_list))\n"
   ]
  },
  {
   "cell_type": "code",
   "execution_count": 54,
   "id": "3fd37dec",
   "metadata": {},
   "outputs": [
    {
     "name": "stdout",
     "output_type": "stream",
     "text": [
      "5\n",
      "['learn', 24, 'Blue', False, -8, 4, 7, 'Summer']\n",
      "[4, 7, 'Summer', 4, 7, 'Summer', 4, 7, 'Summer']\n"
     ]
    }
   ],
   "source": [
    "mix_list_1 = ['learn', 24, 'Blue', False, -8]\n",
    "mix_list_2 = [4, 7, 'Summer']\n",
    "print(len(mix_list_1))\n",
    "list_joined = mix_list_1 + mix_list_2                        # @8 MCQ\n",
    "print(list_joined)                                           # checking the lenght , concatenate two lists, repeaning\n",
    "mix_list_2 = [4, 7, 'Summer']\n",
    "n=3\n",
    "arr=mix_list_2*n #number of times you want to repeat\n",
    "print(arr)"
   ]
  },
  {
   "cell_type": "code",
   "execution_count": 55,
   "id": "f04b3f79",
   "metadata": {},
   "outputs": [
    {
     "name": "stdout",
     "output_type": "stream",
     "text": [
      "2\n"
     ]
    }
   ],
   "source": [
    "dataset = (\"Country\",\"India\")\n",
    "print(len(dataset))\n",
    "for id in dataset:                  # Q 09 MCQ\n",
    "    splitid = id[:2]\n",
    "    "
   ]
  },
  {
   "cell_type": "code",
   "execution_count": 56,
   "id": "83c54076",
   "metadata": {},
   "outputs": [
    {
     "name": "stdout",
     "output_type": "stream",
     "text": [
      "{1, 2, 3, 4, 5, 6, 7, 40, 71, 8, 42, 51, 54, 87}\n",
      "{3, 5, 6, 7}\n",
      "{1, 2, 4, 71, 8, 40, 42, 51, 54, 87}\n"
     ]
    }
   ],
   "source": [
    "A = {1,4,5,2,6,3,40,7,87,4,71};\n",
    "B = {3,42,51,6,7,8,54,5};\n",
    "print(A|B)                                   # Q 10 MCQ                 \n",
    "print(A&B)\n",
    "print(A^B)"
   ]
  },
  {
   "cell_type": "code",
   "execution_count": 10,
   "id": "90307143",
   "metadata": {},
   "outputs": [
    {
     "name": "stdout",
     "output_type": "stream",
     "text": [
      "{1, 2, 3, 4, 5, 6}\n",
      "{1, 2, 3, 4, 5, 6, 7}\n",
      "{1, 2, 4, 5, 6, 7}\n",
      "set()\n"
     ]
    }
   ],
   "source": [
    "num_set = {1, 2, 3, 4, 5, 6}\n",
    "print(num_set)\n",
    "num_set.add(7)\n",
    "print(num_set)                           # Q11 MCQ\n",
    "num_set.remove(3)\n",
    "print(num_set)\n",
    "num_set.clear()\n",
    "print(num_set)\n"
   ]
  },
  {
   "cell_type": "code",
   "execution_count": 57,
   "id": "14eeea32",
   "metadata": {},
   "outputs": [
    {
     "name": "stdout",
     "output_type": "stream",
     "text": [
      "(['a', 1, True], '3', 'Science', -5)\n"
     ]
    }
   ],
   "source": [
    "mix_tuple = (['a',1,True],2,'Science',-5)\n",
    "y = list(mix_tuple)\n",
    "y[1]=\"3\"                                              # Q12 MCQ\n",
    "mix_tuple=tuple(y)                                    # replacing the elements\n",
    "print(mix_tuple)"
   ]
  },
  {
   "cell_type": "code",
   "execution_count": 58,
   "id": "b61b77a6",
   "metadata": {},
   "outputs": [
    {
     "name": "stdout",
     "output_type": "stream",
     "text": [
      "3\n",
      "(4, 4, 8, 'john', 5, -2)\n",
      "('john', 5, -2, 'john', 5, -2)\n"
     ]
    }
   ],
   "source": [
    "num_tuple = (4,4,8)\n",
    "mix_tuple = 'john',5,-2\n",
    "print(len(num_tuple))                                       # Q13 MCQ\n",
    "tuple_joined = num_tuple + mix_tuple\n",
    "print(tuple_joined)\n",
    "mix_tuple = 'john',5,-2\n",
    "n=2\n",
    "arr=mix_tuple*n\n",
    "print(arr)"
   ]
  },
  {
   "cell_type": "code",
   "execution_count": 59,
   "id": "49eb1f8d",
   "metadata": {},
   "outputs": [
    {
     "name": "stdout",
     "output_type": "stream",
     "text": [
      "-2\n",
      "7\n",
      "[-2, 0, 1, 4, 5, 7]\n",
      "['apple', 'banana', 'cherry']\n",
      "[-2, 0, 1, 4, 7]\n"
     ]
    }
   ],
   "source": [
    "num_list = [4,5,7,-2,0,1]\n",
    "print(min(num_list))\n",
    "print(max(num_list))\n",
    "num_list = [4,5,7,-2,0,1]\n",
    "num_list.sort()\n",
    "print(num_list)                                                    # Q14 MCQ\n",
    "thislist = [\"apple\", \"banana\", \"cherry\"]\n",
    "mylist = thislist.copy()\n",
    "print(mylist)\n",
    "num_list.remove(5)\n",
    "print(num_list)"
   ]
  },
  {
   "cell_type": "code",
   "execution_count": 60,
   "id": "ee868f2d",
   "metadata": {},
   "outputs": [
    {
     "name": "stdout",
     "output_type": "stream",
     "text": [
      "python\n",
      "Data\n",
      "['python', 1, 2]\n",
      "['python', 2, 'Data']\n"
     ]
    }
   ],
   "source": [
    "mix_list = ['python',1,2,3,'Data',True]\n",
    "splitid=mix_list[0]\n",
    "print(splitid)\n",
    "splitid=mix_list[-2]                     # Q15 MCQ\n",
    "print(splitid)\n",
    "splitid=mix_list[0:3]\n",
    "print(splitid)\n",
    "mix_list = ['python',1,2,3,'Data',True]\n",
    "print(mix_list[::2])"
   ]
  },
  {
   "cell_type": "code",
   "execution_count": 11,
   "id": "73d3c8b7",
   "metadata": {},
   "outputs": [
    {
     "name": "stdout",
     "output_type": "stream",
     "text": [
      "('apple', 'kiwi', 'cherry')\n"
     ]
    }
   ],
   "source": [
    "x = (\"apple\", \"banana\", \"cherry\")\n",
    "y = list(x)\n",
    "y[1] = \"kiwi\"\n",
    "x = tuple(y)\n",
    "\n",
    "print(x)\n"
   ]
  },
  {
   "cell_type": "code",
   "execution_count": 1,
   "id": "970eb3a4",
   "metadata": {},
   "outputs": [
    {
     "name": "stdout",
     "output_type": "stream",
     "text": [
      "(['a', 1, True], '3', 'Science', -5)\n"
     ]
    }
   ],
   "source": [
    "mix_tuple = (['a',1,True],2,'Science',-5)\n",
    "y = list(mix_tuple)\n",
    "y[1]=\"3\"                                              # Q12 MCQ\n",
    "mix_tuple=tuple(y)                                    # replacing the elements\n",
    "print(mix_tuple)"
   ]
  },
  {
   "cell_type": "code",
   "execution_count": 27,
   "id": "e32ff0b2",
   "metadata": {},
   "outputs": [],
   "source": [
    "import union as un\n",
    "import intersection as int"
   ]
  },
  {
   "cell_type": "code",
   "execution_count": 1,
   "id": "ee638a7d",
   "metadata": {},
   "outputs": [
    {
     "name": "stdout",
     "output_type": "stream",
     "text": [
      "{1, 2, 3, 4, 5, 6, 7, 40, 71, 8, 42, 51, 54, 87}\n",
      "{3, 5, 6, 7}\n",
      "{1, 2, 4, 71, 8, 40, 42, 51, 54, 87}\n"
     ]
    }
   ],
   "source": [
    "A = {1,4,5,2,6,3,40,7,87,4,71};\n",
    "B = {3,42,51,6,7,8,54,5};\n",
    "print(A|B)                                \n",
    "print(A&B)\n",
    "print(A^B)"
   ]
  },
  {
   "cell_type": "code",
   "execution_count": 35,
   "id": "ecd58651",
   "metadata": {},
   "outputs": [
    {
     "name": "stdout",
     "output_type": "stream",
     "text": [
      "2\n"
     ]
    }
   ],
   "source": [
    "dataset = (\"Country\",\"India\")\n",
    "print(len(dataset))\n",
    "for id in dataset:                  # Q 09 MCQ\n",
    "    splitid = id[:2]\n",
    "    "
   ]
  },
  {
   "cell_type": "code",
   "execution_count": null,
   "id": "6e2cb5a7",
   "metadata": {},
   "outputs": [],
   "source": [
    "dataset = [id1, id2, id3 ... ]\n",
    "for id in dataset:\n",
    "   splitid = id[:2]"
   ]
  },
  {
   "cell_type": "code",
   "execution_count": 43,
   "id": "1d4a0987",
   "metadata": {},
   "outputs": [
    {
     "name": "stdout",
     "output_type": "stream",
     "text": [
      "5\n",
      "['learn', 24, 'Blue', False, -8, 4, 7, 'Summer']\n",
      "[4, 7, 'Summer', 4, 7, 'Summer', 4, 7, 'Summer']\n"
     ]
    }
   ],
   "source": [
    "mix_list_1 = ['learn', 24, 'Blue', False, -8]\n",
    "mix_list_2 = [4, 7, 'Summer']\n",
    "print(len(mix_list_1))\n",
    "list_joined = mix_list_1 + mix_list_2                        # @8 MCQ\n",
    "print(list_joined)                                           # checking the lenght , concatenate two lists, repeaning\n",
    "mix_list_2 = [4, 7, 'Summer']\n",
    "n=3\n",
    "arr=mix_list_2*n #number of times you want to repeat\n",
    "print(arr)"
   ]
  },
  {
   "cell_type": "code",
   "execution_count": 46,
   "id": "1ebb5581",
   "metadata": {},
   "outputs": [
    {
     "name": "stdout",
     "output_type": "stream",
     "text": [
      "3\n",
      "(4, 4, 8, 'john', 5, -2)\n",
      "('john', 5, -2, 'john', 5, -2)\n"
     ]
    }
   ],
   "source": [
    "num_tuple = (4,4,8)\n",
    "mix_tuple = 'john',5,-2\n",
    "print(len(num_tuple))                                       # Q13 MCQ\n",
    "tuple_joined = num_tuple + mix_tuple\n",
    "print(tuple_joined)\n",
    "mix_tuple = 'john',5,-2\n",
    "n=2\n",
    "arr=mix_tuple*n\n",
    "print(arr)"
   ]
  },
  {
   "cell_type": "code",
   "execution_count": 34,
   "id": "d5da8d00",
   "metadata": {},
   "outputs": [
    {
     "name": "stdout",
     "output_type": "stream",
     "text": [
      "python\n",
      "Data\n",
      "['python', 1, 2]\n",
      "['python', 2, 'Data']\n"
     ]
    }
   ],
   "source": [
    "mix_list = ['python',1,2,3,'Data',True]\n",
    "splitid=mix_list[0]\n",
    "print(splitid)\n",
    "splitid=mix_list[-2]                     # Q15 MCQ\n",
    "print(splitid)\n",
    "splitid=mix_list[0:3]\n",
    "print(splitid)\n",
    "mix_list = ['python',1,2,3,'Data',True]\n",
    "print(mix_list[::2])"
   ]
  },
  {
   "cell_type": "code",
   "execution_count": 15,
   "id": "d4b0d198",
   "metadata": {},
   "outputs": [
    {
     "name": "stdout",
     "output_type": "stream",
     "text": [
      "3\n"
     ]
    }
   ],
   "source": [
    "str1 = \"hello, please meet me at 4pm @coffeehouseccd or email me python@gmail.com\"\n",
    "lst_cnt = str1.count(\"me\")\n",
    "print(lst_cnt)                                  # Q6 MCQ\n",
    "str1.remove('python@gmail')\n",
    "print(str1)\n"
   ]
  },
  {
   "cell_type": "code",
   "execution_count": 3,
   "id": "13f15c4b",
   "metadata": {},
   "outputs": [
    {
     "data": {
      "text/plain": [
       "'09'"
      ]
     },
     "execution_count": 3,
     "metadata": {},
     "output_type": "execute_result"
    }
   ],
   "source": [
    "# Extract '09' \n",
    "G = [\"2022-09-03\"]                                  # Q4 MCQ\n",
    "G[0].split()\n",
    "G[0].split(\"-\")[1]"
   ]
  },
  {
   "cell_type": "code",
   "execution_count": 5,
   "id": "628005f7",
   "metadata": {},
   "outputs": [
    {
     "data": {
      "text/plain": [
       "3000"
      ]
     },
     "execution_count": 5,
     "metadata": {},
     "output_type": "execute_result"
    }
   ],
   "source": [
    "Y = [1,3,4,6,7,9,10,4+7j,\"Hello world\",[2000,3000,1000]]         # Q3 MCQ\n",
    "Y[9][1]"
   ]
  },
  {
   "cell_type": "code",
   "execution_count": 46,
   "id": "c3aa7373",
   "metadata": {},
   "outputs": [
    {
     "name": "stdout",
     "output_type": "stream",
     "text": [
      "-2\n",
      "7\n",
      "[-2, 0, 1, 4, 5, 7]\n",
      "['apple', 'banana', 'cherry']\n",
      "[-2, 0, 1, 4, 7]\n"
     ]
    }
   ],
   "source": [
    "num_list = [4,5,7,-2,0,1]\n",
    "print(min(num_list))\n",
    "print(max(num_list))\n",
    "num_list = [4,5,7,-2,0,1]\n",
    "num_list.sort()\n",
    "print(num_list)                                                    # Q14 MCQ\n",
    "thislist = [\"apple\", \"banana\", \"cherry\"]\n",
    "mylist = thislist.copy()\n",
    "print(mylist)\n",
    "num_list.remove(5)\n",
    "print(num_list)"
   ]
  },
  {
   "cell_type": "code",
   "execution_count": null,
   "id": "e82c9529",
   "metadata": {},
   "outputs": [],
   "source": []
  }
 ],
 "metadata": {
  "kernelspec": {
   "display_name": "Python 3 (ipykernel)",
   "language": "python",
   "name": "python3"
  },
  "language_info": {
   "codemirror_mode": {
    "name": "ipython",
    "version": 3
   },
   "file_extension": ".py",
   "mimetype": "text/x-python",
   "name": "python",
   "nbconvert_exporter": "python",
   "pygments_lexer": "ipython3",
   "version": "3.10.6"
  }
 },
 "nbformat": 4,
 "nbformat_minor": 5
}
