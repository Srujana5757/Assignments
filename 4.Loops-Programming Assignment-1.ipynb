{
 "cells": [
  {
   "cell_type": "code",
   "execution_count": 1,
   "id": "0edc2dcf",
   "metadata": {},
   "outputs": [
    {
     "name": "stdout",
     "output_type": "stream",
     "text": [
      "Yes\n",
      "No\n"
     ]
    }
   ],
   "source": [
    "# Q1.Acept a number and check whether it is palindrome or not.\n",
    "def checkPalindrome(x):\n",
    "    convertedNumber = str(x)\n",
    "    reverseString = convertedNumber[::-1]\n",
    "    return \"Yes\" if reverseString == convertedNumber else \"No\"\n",
    " \n",
    "# Some Testcases...\n",
    "num = 12321\n",
    "print(checkPalindrome(num)) # Yes\n",
    " \n",
    "number = 456\n",
    "print(checkPalindrome(number)) # No\n",
    " \n",
    "# This code is contributed by shinjanpatra"
   ]
  },
  {
   "cell_type": "code",
   "execution_count": 7,
   "id": "c6750ac3",
   "metadata": {},
   "outputs": [
    {
     "name": "stdout",
     "output_type": "stream",
     "text": [
      "Numbers divisible by 13 are [176, 242, 462, 352, 363]\n"
     ]
    }
   ],
   "source": [
    "# Q2.Write a program to display all the numbers which are divisible by 11 but not by 2 between 100&50.\n",
    "# Take a list of numbers\n",
    "# Take a list of numbers\n",
    "my_list = [176, 242, 462, 352, 363 ,244]\n",
    "\n",
    "# use anonymous function to filter\n",
    "result = list(filter(lambda x: (x % 11 == 0), my_list))\n",
    "\n",
    "# display the result\n",
    "print(\"Numbers divisible by 13 are\",result)"
   ]
  },
  {
   "cell_type": "code",
   "execution_count": 8,
   "id": "0e14785b",
   "metadata": {},
   "outputs": [
    {
     "name": "stdout",
     "output_type": "stream",
     "text": [
      "21\n"
     ]
    }
   ],
   "source": [
    "# Q3.Write a program to find the sum of the digits of a number accepted from user\n",
    "# Python program to compute\n",
    "# sum of digits in number.\n",
    " \n",
    " \n",
    "def sumDigits(no):\n",
    "    return 0 if no == 0 else int(no % 10) + sumDigits(int(no/10))\n",
    " \n",
    " \n",
    "# Driver code\n",
    "if __name__ == \"__main__\":\n",
    " \n",
    "    # Function call\n",
    "    print(sumDigits(687))\n",
    " "
   ]
  },
  {
   "cell_type": "code",
   "execution_count": 13,
   "id": "504ce9a3",
   "metadata": {},
   "outputs": [
    {
     "name": "stdout",
     "output_type": "stream",
     "text": [
      "120\n"
     ]
    }
   ],
   "source": [
    "# Q4.Write a program to find the factorial of a given number.\n",
    "import numpy as np\n",
    "n=5\n",
    "x=np.prod([i for i in range(1,n+1)])\n",
    "print(x)"
   ]
  },
  {
   "cell_type": "code",
   "execution_count": 14,
   "id": "b158400b",
   "metadata": {},
   "outputs": [
    {
     "name": "stdout",
     "output_type": "stream",
     "text": [
      "60\n"
     ]
    }
   ],
   "source": [
    "# Q5.Write a program to display the product of the digits of a number accepted from the user.\n",
    "\n",
    "# product of digits in the number.\n",
    " \n",
    "# Function to get product of digits\n",
    "def getProduct(n):\n",
    " \n",
    "    product = 1\n",
    " \n",
    "    while (n != 0):\n",
    "        product = product * (n % 10)\n",
    "        n = n // 10\n",
    " \n",
    "    return product\n",
    " \n",
    "# Driver Code\n",
    "n = 4513\n",
    "print(getProduct(n))"
   ]
  },
  {
   "cell_type": "code",
   "execution_count": 36,
   "id": "00887642",
   "metadata": {},
   "outputs": [
    {
     "name": "stdout",
     "output_type": "stream",
     "text": [
      "31.22222222222222\n"
     ]
    }
   ],
   "source": [
    "# Q6.Calculate the average of the number given in the list through loop.\n",
    "list1=[34,6,43,2,32,44,55,33,32]\n",
    "# Calculating the average of list using a for loop\n",
    "#numbers = [1,2,3,4,5,6,7,8,9]\n",
    "sum = 0\n",
    "count = 0\n",
    "for list1 in list1:\n",
    "    sum += list1\n",
    "    count += 1\n",
    "average = sum / count\n",
    "print(average)"
   ]
  },
  {
   "cell_type": "code",
   "execution_count": 2,
   "id": "d90b7432",
   "metadata": {},
   "outputs": [
    {
     "name": "stdout",
     "output_type": "stream",
     "text": [
      "{'Data Science': 1, 'Machine Learning': 2, 'SQL': 3, 'Big Data': 4}\n",
      "{1: 'Data Science', 2: 'Machine Learning', 3: 'SQL', 4: 'Big Data'}\n"
     ]
    }
   ],
   "source": [
    "# Q7.Write a program swap the keys to values and values to keys of the given dictionary.\n",
    "Module={'Data Science':1,'Machine Learning':2,'SQL':3,'Big Data':4} \n",
    "# Output:{1:'Data Science',2:'Machine Learning',3:'SQL',4:'Big Data'}\n",
    "#dict = {'a': 1, 'b': 2, 'c': 3}\n",
    "print(Module)\n",
    "\n",
    "Module= {value:key for key, value in Module.items()}\n",
    "print(Module)"
   ]
  },
  {
   "cell_type": "code",
   "execution_count": 49,
   "id": "0a3c0ee1",
   "metadata": {},
   "outputs": [
    {
     "name": "stdout",
     "output_type": "stream",
     "text": [
      "Uppercase characters: ('Monday', 'Sunday', 'Saturday')\n"
     ]
    }
   ],
   "source": [
    "# Q8.Write a program to extract the words from the list which have their first character in uppercase.\n",
    "\n",
    "\n",
    "# Days=['Monday','tuesday','friday','Sunday','Saturday'] Output: ['Monday','Sunday','Saturday']\n",
    "# Python program to print uppercase letters in the string\n",
    "\n",
    "# take input\n",
    "#string = input('Enter any string: ')\n",
    "Days=['Monday','tuesday','friday','Sunday','Saturday']\n",
    "upper = 'Monday','Sunday','Saturday'\n",
    "for char in Days:\n",
    "    #check uppercase characters\n",
    "    if char.isupper():\n",
    "        upper += char\n",
    "\n",
    "# print uppercase characters\n",
    "print('Uppercase characters:', upper)"
   ]
  },
  {
   "cell_type": "code",
   "execution_count": null,
   "id": "ecb1996a",
   "metadata": {},
   "outputs": [
    {
     "name": "stdout",
     "output_type": "stream",
     "text": [
      "Enter file name: M.Srujana.txt\n"
     ]
    }
   ],
   "source": [
    "# Q9.Write a program to count all the elements from wrong text but it should not consider space&vowels\n",
    "# wrong=\"\"\"But soft what ligth through younder window breaks it is the east and juliet is sun Arise \n",
    "#  fair\n",
    "        # sun and kill the envious moon who is already sick and pale with grief\"\"\"\n",
    "fname = input(\"Enter file name: \")\n",
    "word=input(\"Enter word to be searched:\")\n",
    "k = 0\n",
    " \n",
    "with open(fname, 'r') as f:\n",
    "    for line in f:\n",
    "        words = line.split()\n",
    "        for i in words:\n",
    "            if(i==word):\n",
    "                k=k+1\n",
    "print(\"Occurrences of the word:\")\n",
    "print(k)"
   ]
  },
  {
   "cell_type": "code",
   "execution_count": 4,
   "id": "c9033078",
   "metadata": {},
   "outputs": [
    {
     "name": "stdout",
     "output_type": "stream",
     "text": [
      "10\n",
      "[1, 3, 4, 5, 6, '0', '0', '0']\n"
     ]
    }
   ],
   "source": [
    "# 10. Remove duplicates from the given list num2 using loop.\n",
    "#  num2=[1,2,3,41,3,5,4,56,4,56,4,4,36,6,66,6,645,3,3,5,6,8]\n",
    "list = [1,1,3,4,5,5,5,6]\n",
    "count = 1\n",
    "for i in range(len(list)):\n",
    "    for k in range(len(list)):\n",
    "        if i == k :\n",
    "            continue\n",
    "        elif list[i] == list[k]:\n",
    "            del list[k]\n",
    "            list.append(\"0\")\n",
    "            count = count + 1\n",
    "\n",
    "print(count)\n",
    "print(list)\n",
    "#When I execute this , \"0\" values "
   ]
  },
  {
   "cell_type": "code",
   "execution_count": 9,
   "id": "ac70a3f7",
   "metadata": {},
   "outputs": [
    {
     "name": "stdout",
     "output_type": "stream",
     "text": [
      "The original list is : [1, 2, 3, 41, 3, 5, 4, 56, 4, 56, 4, 4, 36, 6, 66, 6, 645, 3, 3, 5, 6, 8]\n",
      "The list after removing duplicates : [1, 2, 3, 41, 5, 4, 56, 36, 6, 66, 645, 8]\n"
     ]
    }
   ],
   "source": [
    "# Q10. Remove duplicates from the given list num2 using loop.\n",
    "#  num2=[1,2,3,41,3,5,4,56,4,56,4,4,36,6,66,6,645,3,3,5,6,8]\n",
    "\n",
    "\n",
    "# Python 3 code to demonstrate\n",
    "# removing duplicates from list\n",
    " \n",
    "# initializing list\n",
    "num2=[1,2,3,41,3,5,4,56,4,56,4,4,36,6,66,6,645,3,3,5,6,8]\n",
    "\n",
    "print(\"The original list is : \" + str(num2))\n",
    " \n",
    "res = []\n",
    "for i in num2:\n",
    "    if i not in res:\n",
    "        res.append(i)\n",
    " \n",
    "# printing list after removal\n",
    "print(\"The list after removing duplicates : \" + str(res))"
   ]
  },
  {
   "cell_type": "markdown",
   "id": "cfbf45e3",
   "metadata": {},
   "source": [
    "# Amicable Numbers"
   ]
  },
  {
   "cell_type": "code",
   "execution_count": null,
   "id": "45d33725",
   "metadata": {},
   "outputs": [],
   "source": [
    "Write a Python program to check two numbers are Amicable numbers or not.\n",
    "\n",
    "Amicable numbers are two different numbers so related that the sum of the proper divisors of each is equal to the other number.\n",
    "The first ten amicable pairs are: (220, 284), (1184, 1210), (2620, 2924), (5020, 5564), (6232, 6368), (10744, 10856), (12285, 14595), (17296, 18416), (63020, 76084), and (66928, 66992).\n",
    "\n",
    "Test Data\n",
    "Input the first number: 220\n",
    "Input the second number: 284"
   ]
  },
  {
   "cell_type": "code",
   "execution_count": 10,
   "id": "3ecb4a33",
   "metadata": {},
   "outputs": [
    {
     "name": "stdout",
     "output_type": "stream",
     "text": [
      "1184\n",
      "1210\n",
      "They are Amicable numbers\n"
     ]
    }
   ],
   "source": [
    "# Q11.Wite a program to check whether two numbers are amicable or not (take the input from the user).\n",
    "x=int(input())\n",
    "y=int(input())\n",
    "sum_x=0\n",
    "sum_y=0\n",
    "for each in range(1,x):\n",
    "    if(x%each==0):\n",
    "        sum_x=sum_x+each\n",
    "for i in range(1,y):\n",
    "    if(y%i==0):\n",
    "        sum_y=sum_y+i\n",
    "if(sum_x==y and sum_y==x):\n",
    "    print(\"They are Amicable numbers\")\n",
    "else:\n",
    "    print(\"No they are not Amicable\")"
   ]
  },
  {
   "cell_type": "code",
   "execution_count": 11,
   "id": "5285d65c",
   "metadata": {},
   "outputs": [
    {
     "name": "stdout",
     "output_type": "stream",
     "text": [
      "Enter a number: 13\n",
      "13 is a prime number\n"
     ]
    }
   ],
   "source": [
    "# Q12.Write a program to check whether a number is prime or not(take the input from user).\n",
    "\n",
    "# Program to check if a number is prime or not\n",
    "#num = 29\n",
    "# To take input from the user\n",
    "num = int(input(\"Enter a number: \"))\n",
    "\n",
    "# define a flag variable\n",
    "flag = False\n",
    "\n",
    "# prime numbers are greater than 1\n",
    "if num > 1:\n",
    "    # check for factors\n",
    "    for i in range(2, num):\n",
    "        if (num % i) == 0:\n",
    "            # if factor is found, set flag to True\n",
    "            flag = True\n",
    "            # break out of loop\n",
    "            break\n",
    "\n",
    "# check if flag is True\n",
    "if flag:\n",
    "    print(num, \"is not a prime number\")\n",
    "else:\n",
    "    print(num, \"is a prime number\")"
   ]
  },
  {
   "cell_type": "code",
   "execution_count": 12,
   "id": "4b57cce9",
   "metadata": {},
   "outputs": [
    {
     "name": "stdout",
     "output_type": "stream",
     "text": [
      "Enter a number: 7\n",
      "7 is a prime number\n"
     ]
    }
   ],
   "source": [
    "# Q12.\n",
    "num = int(input(\"Enter a number: \"))\n",
    "flag = False\n",
    "if num > 1:\n",
    "    for i in range(2, num):\n",
    "        if (num % i) == 0:\n",
    "            flag = True\n",
    "            break\n",
    "if flag:\n",
    "    print(num, \"is not a prime number\")\n",
    "else:\n",
    "    print(num, \"is a prime number\")"
   ]
  },
  {
   "cell_type": "code",
   "execution_count": 1,
   "id": "4062e7e7",
   "metadata": {},
   "outputs": [
    {
     "name": "stdout",
     "output_type": "stream",
     "text": [
      "Enter the string: Programming\n",
      "The reverse string is gnimmargorP\n"
     ]
    }
   ],
   "source": [
    "# Q13.Reverse a string using for loop (take the input from user).\n",
    "# Python program to reverse a string using for loop\n",
    "\n",
    "# take inputs\n",
    "string = input('Enter the string: ')\n",
    "\n",
    "# find reverse of string\n",
    "reverse = ''\n",
    "for i in range(len(string), 0, -1):\n",
    "   reverse += string[i-1]\n",
    "\n",
    "# print reverse of string\n",
    "print('The reverse string is', reverse)"
   ]
  },
  {
   "cell_type": "markdown",
   "id": "c8ba1736",
   "metadata": {},
   "source": [
    "# Fibonacci series"
   ]
  },
  {
   "cell_type": "raw",
   "id": "8a462b00",
   "metadata": {},
   "source": [
    "# In this sample program, you will learn how to generate a Fibonacci sequence in Python and show it\n",
    "using the print() function.\n",
    "\n",
    "To understand this demo program, you should have the basic Python programming knowledge and should\n",
    "know about the following topics:\n",
    "\n",
    "...Python if else...\n",
    "...Python while loop...\n",
    "\n",
    "We’ll use both the above constructs to form the Fibonacci sequence in the sample given below. \n",
    "This series is a list of integer numbers as shown here.\n",
    "\n",
    "0, 1, 1, 2, 3, 5, 8...\n",
    "\n",
    "The above sequence starts with the two pre-defined numbers 0 and 1. Remaining other values get\n",
    "generated by adding the preceding two digits appearing in the list.\n",
    "\n",
    "It means if you wish to know the value at the index X, then it would be the sum of values at the\n",
    "(X-1) and (X-2) positions."
   ]
  },
  {
   "cell_type": "markdown",
   "id": "173d0aa0",
   "metadata": {},
   "source": [
    "# Generate a Fibonacci sequence in Python\n"
   ]
  },
  {
   "cell_type": "code",
   "execution_count": null,
   "id": "eb9f87e8",
   "metadata": {},
   "outputs": [],
   "source": [
    "In the below program, we are using two numbers X and Y to store the values for the first two elements\n",
    "(0 and 1) of the Fibonacci sequence.\n",
    "\n",
    "After that, there is a while loop to generate the next elements of the list. It is doing the sum of \n",
    "two preceding items to produce the new one.\n",
    "\n",
    "There is a swapping operation in the next line to continue the while loop until the last element of \n",
    "the sequence gets printed."
   ]
  },
  {
   "cell_type": "code",
   "execution_count": 4,
   "id": "cfc9e037",
   "metadata": {},
   "outputs": [
    {
     "name": "stdout",
     "output_type": "stream",
     "text": [
      "This Fibonacci sequence has 10 elements :\n",
      "0, 1, 1, 2, 3, 5, 8, 13, 21, 34, "
     ]
    }
   ],
   "source": [
    "# Q14.write a program for generating a fibonacci series starting with 0 to 1 for the next 10 values \n",
    "#  using a while loop.\n",
    "\n",
    "# Program to generate the Fibonacci sequence in Python\n",
    "# The length of our Fibonacci sequence\n",
    "length = 10\n",
    "# The first two values\n",
    "x = 0\n",
    "y = 1\n",
    "iteration = 0\n",
    "# Condition to check if the length has a valid input\n",
    "if length <= 0:\n",
    "   print(\"Please provide a number greater than zero\")\n",
    "elif length == 1:\n",
    "   print(\"This Fibonacci sequence has {} element\".format(length), \":\")\n",
    "   print(x)\n",
    "else:\n",
    "   print(\"This Fibonacci sequence has {} elements\".format(length), \":\")\n",
    "   while iteration < length:\n",
    "       print(x, end=', ')\n",
    "       z = x + y\n",
    "       # Modify values\n",
    "       x = y\n",
    "       y = z\n",
    "       iteration += 1"
   ]
  },
  {
   "cell_type": "markdown",
   "id": "8cb40aba",
   "metadata": {},
   "source": [
    "# Tables using while loop"
   ]
  },
  {
   "cell_type": "code",
   "execution_count": 9,
   "id": "035ac78f",
   "metadata": {},
   "outputs": [
    {
     "name": "stdout",
     "output_type": "stream",
     "text": [
      "enter table number5\n",
      "enter the number to which table is to printed10\n",
      "5 x 1 = 5\n",
      "5 x 2 = 10\n",
      "5 x 3 = 15\n",
      "5 x 4 = 20\n",
      "5 x 5 = 25\n",
      "5 x 6 = 30\n",
      "5 x 7 = 35\n",
      "5 x 8 = 40\n",
      "5 x 9 = 45\n",
      "5 x 10 = 50\n"
     ]
    }
   ],
   "source": [
    "# Q15.write a code to print table of 5 using assignment operand +=.(using while)\n",
    "a=int(input(\"enter table number\"))\n",
    "b=int(input(\"enter the number to which table is to printed\"))\n",
    "i=1\n",
    "while i<=b:\n",
    "    print(a,\"x\",i,\"=\",a*i)\n",
    "    i=i+1"
   ]
  },
  {
   "cell_type": "code",
   "execution_count": 1,
   "id": "90e671fe",
   "metadata": {},
   "outputs": [
    {
     "name": "stdout",
     "output_type": "stream",
     "text": [
      "enter a number15\n",
      "5\n"
     ]
    }
   ],
   "source": [
    "# Q5\n",
    "num = int(input(\"enter a number\"))\n",
    "\n",
    "n = num\n",
    "\n",
    "product = 1\n",
    "\n",
    "while n != 0:\n",
    "\n",
    "    rem = n % 10\n",
    "\n",
    "    product = product * rem\n",
    "\n",
    "    n = n // 10\n",
    "\n",
    "print(product)"
   ]
  },
  {
   "cell_type": "code",
   "execution_count": 3,
   "id": "4b8801b9",
   "metadata": {},
   "outputs": [
    {
     "name": "stdout",
     "output_type": "stream",
     "text": [
      "Please Enter any Number: 14\n",
      "\n",
      " Sum of the digits of Given Number = 5\n"
     ]
    }
   ],
   "source": [
    "# Q3\n",
    "Number = int(input(\"Please Enter any Number: \"))\n",
    "Sum = 0\n",
    "\n",
    "while(Number > 0):\n",
    "    Reminder = Number % 10\n",
    "    Sum = Sum + Reminder\n",
    "    Number = Number //10\n",
    "\n",
    "print(\"\\n Sum of the digits of Given Number = %d\" %Sum)"
   ]
  },
  {
   "cell_type": "code",
   "execution_count": null,
   "id": "964dce45",
   "metadata": {},
   "outputs": [],
   "source": []
  }
 ],
 "metadata": {
  "kernelspec": {
   "display_name": "Python 3 (ipykernel)",
   "language": "python",
   "name": "python3"
  },
  "language_info": {
   "codemirror_mode": {
    "name": "ipython",
    "version": 3
   },
   "file_extension": ".py",
   "mimetype": "text/x-python",
   "name": "python",
   "nbconvert_exporter": "python",
   "pygments_lexer": "ipython3",
   "version": "3.10.6"
  }
 },
 "nbformat": 4,
 "nbformat_minor": 5
}
