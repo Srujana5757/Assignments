{
 "cells": [
  {
   "cell_type": "code",
   "execution_count": 5,
   "id": "17f2b736",
   "metadata": {},
   "outputs": [
    {
     "name": "stdout",
     "output_type": "stream",
     "text": [
      "35\n"
     ]
    }
   ],
   "source": [
    "# write a program to print product of two numbers 'x' and 'y'?\n",
    "x = 5\n",
    "y = 7 \n",
    "xy = x*y\n",
    "#print(x)                                 # Q1 \n",
    "#print(y)\n",
    "print(xy)\n"
   ]
  },
  {
   "cell_type": "code",
   "execution_count": 2,
   "id": "9440e35d",
   "metadata": {},
   "outputs": [
    {
     "name": "stdout",
     "output_type": "stream",
     "text": [
      "Enter number of rows: 4\n",
      "* \n",
      "\n",
      "* * \n",
      "\n",
      "* * * \n",
      "\n",
      "* * * * \n",
      "\n"
     ]
    }
   ],
   "source": [
    "# Display the following pattern using single print()?\n",
    "# *\n",
    "# **                                                           # half pyramids\n",
    "# ***\n",
    "# ****\n",
    "rows = int(input(\"Enter number of rows: \"))\n",
    "\n",
    "for i in range(rows):\n",
    "    for j in range(i+1):\n",
    "        print(\"* \", end=\"\")\n",
    "    print(\"\\n\")\n"
   ]
  },
  {
   "cell_type": "code",
   "execution_count": null,
   "id": "a5714450",
   "metadata": {},
   "outputs": [],
   "source": [
    "import calendar"
   ]
  },
  {
   "cell_type": "code",
   "execution_count": 1,
   "id": "d1533030",
   "metadata": {},
   "outputs": [
    {
     "name": "stdout",
     "output_type": "stream",
     "text": [
      "Enter Year 'YYYY' : 2022\n",
      "Enter Month 'MM' : 10\n",
      "    October 2022\n",
      "Mo Tu We Th Fr Sa Su\n",
      "                1  2\n",
      " 3  4  5  6  7  8  9\n",
      "10 11 12 13 14 15 16\n",
      "17 18 19 20 21 22 23\n",
      "24 25 26 27 28 29 30\n",
      "31\n",
      "\n"
     ]
    }
   ],
   "source": [
    "import calendar\n",
    "year = int(input(\"Enter Year 'YYYY' : \"))\n",
    "month = int(input(\"Enter Month 'MM' : \"))\n",
    "print(calendar.month(year, month))"
   ]
  },
  {
   "cell_type": "code",
   "execution_count": 3,
   "id": "1234b1cc",
   "metadata": {},
   "outputs": [
    {
     "name": "stdout",
     "output_type": "stream",
     "text": [
      "15\n"
     ]
    }
   ],
   "source": [
    "# Display the sum of 5 + 10, using two variables: x and y.\n",
    "x = 5\n",
    "y = 10\n",
    "c = x + y\n",
    "print(c)"
   ]
  },
  {
   "cell_type": "code",
   "execution_count": 4,
   "id": "019fe88a",
   "metadata": {},
   "outputs": [
    {
     "name": "stdout",
     "output_type": "stream",
     "text": [
      "25\n"
     ]
    }
   ],
   "source": [
    "# create a variable called z, assign x + y to it, and display result.(you can take any values of x&y).\n",
    "x = 10\n",
    "y = 15\n",
    "z = x + y\n",
    "print(z)"
   ]
  },
  {
   "cell_type": "code",
   "execution_count": 11,
   "id": "53cdd675",
   "metadata": {},
   "outputs": [
    {
     "name": "stdout",
     "output_type": "stream",
     "text": [
      "Rohit Sharma\n"
     ]
    }
   ],
   "source": [
    "# write a python program which accepts the users first and last name and print them in reverse order with a space between them.\n",
    "def FullName(firstname, lastname):\n",
    "  print(firstname +\" \"+ lastname)              # ?\n",
    "\n",
    "# Calling a function\n",
    "FullName(\"Rohit\",\"Sharma\")\n"
   ]
  },
  {
   "cell_type": "code",
   "execution_count": 12,
   "id": "83a7f107",
   "metadata": {},
   "outputs": [
    {
     "name": "stdout",
     "output_type": "stream",
     "text": [
      "Enter your first name:sai\n",
      "Enter your last name:ram\n",
      "ram sai\n"
     ]
    }
   ],
   "source": [
    "# write a python program which accepts the users first and last name and print them in reverse order with a space between them.\n",
    "\n",
    "first_name = input(\"Enter your first name:\")\n",
    "last_name = input(\"Enter your last name:\")\n",
    "\n",
    "print(f\"{last_name} {first_name}\")"
   ]
  },
  {
   "cell_type": "code",
   "execution_count": 17,
   "id": "8db1f1ba",
   "metadata": {},
   "outputs": [
    {
     "name": "stdout",
     "output_type": "stream",
     "text": [
      "5\n",
      "<class 'int'>\n"
     ]
    }
   ],
   "source": [
    "# write a program to convert the value of 'pi' to integer.\n",
    "\n",
    "pi = 5.7\n",
    "pi = int(pi)\n",
    "print(pi)\n",
    "print(type(pi))"
   ]
  },
  {
   "cell_type": "code",
   "execution_count": 18,
   "id": "01e49102",
   "metadata": {},
   "outputs": [
    {
     "name": "stdout",
     "output_type": "stream",
     "text": [
      "Value of x: 50\n",
      "Value of y: 10\n"
     ]
    }
   ],
   "source": [
    "# write a program to swap the two integers passed as runtime variables.\n",
    "\n",
    "# Python program to demonstrate\n",
    "# swapping of two variables\n",
    " \n",
    "x = 10                                             #swapping\n",
    "y = 50\n",
    " \n",
    "# Swapping of two variables\n",
    "# Using third variable\n",
    "temp = x\n",
    "x = y\n",
    "y = temp\n",
    " \n",
    "print(\"Value of x:\", x)\n",
    "print(\"Value of y:\", y)"
   ]
  },
  {
   "cell_type": "code",
   "execution_count": 19,
   "id": "8c29bfaf",
   "metadata": {},
   "outputs": [
    {
     "name": "stdout",
     "output_type": "stream",
     "text": [
      "33\n"
     ]
    }
   ],
   "source": [
    "# find the remainder after dividing 542 by 16?\n",
    "\n",
    "a = 542\n",
    "b = 16\n",
    "c = 542 // 16\n",
    "print(c)"
   ]
  },
  {
   "cell_type": "code",
   "execution_count": 20,
   "id": "bc512f6d",
   "metadata": {},
   "outputs": [
    {
     "name": "stdout",
     "output_type": "stream",
     "text": [
      "299792458\n"
     ]
    }
   ],
   "source": [
    "# Assign the value 299792458 to the variable speed_of_light?\n",
    "\n",
    "speed_of_light = 299792458\n",
    "print(speed_of_light )"
   ]
  },
  {
   "cell_type": "code",
   "execution_count": 24,
   "id": "d4f048d0",
   "metadata": {},
   "outputs": [
    {
     "name": "stdout",
     "output_type": "stream",
     "text": [
      "the whole number is: 6.666666666666667 with a remainder of: 2\n"
     ]
    }
   ],
   "source": [
    "# Create a variables to hold the values 20&3\n",
    "# print the result of 20/3 as a whole number and a remainder.\n",
    "# eg: the ans is 6 with a remainder of 2                             # whole numbers\n",
    "a = 20/3\n",
    "#print(\"the whole number is :\", a)\n",
    "b = 20%3\n",
    "#print(\"the remainder is:\",b )\n",
    "print(\"the whole number is:\",a,\"with a remainder of:\",b)"
   ]
  },
  {
   "cell_type": "code",
   "execution_count": 50,
   "id": "f84460cc",
   "metadata": {},
   "outputs": [
    {
     "name": "stdout",
     "output_type": "stream",
     "text": [
      "mr. sai ram \n"
     ]
    }
   ],
   "source": [
    "# Create a three variables to hold strings-title,first and last names.\n",
    "# print \"hello<title><first><last>\" using four different print statements\n",
    "# eg: hello mr orville wright\n",
    "\n",
    "title = (\"mr. \")\n",
    "First_Name = (\"sai \")\n",
    "Last_Name = (\"ram \")\n",
    "\n",
    "print(title,end = \"sai \")\n",
    "print(Last_Name)"
   ]
  },
  {
   "cell_type": "code",
   "execution_count": 28,
   "id": "280fb4f9",
   "metadata": {},
   "outputs": [
    {
     "name": "stdout",
     "output_type": "stream",
     "text": [
      "243\n"
     ]
    }
   ],
   "source": [
    "# print the result of 3 raise to the 5th power.\n",
    "# eg: 3 raised to the 5 power is 243\n",
    "n = 3\n",
    "p = 5\n",
    "print(pow(n,p))"
   ]
  },
  {
   "cell_type": "code",
   "execution_count": 30,
   "id": "85f206a5",
   "metadata": {},
   "outputs": [
    {
     "name": "stdout",
     "output_type": "stream",
     "text": [
      "This converts to 3.33\n"
     ]
    }
   ],
   "source": [
    "# create a variable named var1 that contains the result of 10/3.\n",
    "# print the result limiting the display of the variable to 2 decimal places.\n",
    "# eg: the result is 3.33                                                #limiting\n",
    "                                                                        #decimal\n",
    "var1 = 10/3\n",
    "print(f'This converts to {var1:.2f}')"
   ]
  },
  {
   "cell_type": "code",
   "execution_count": 52,
   "id": "b6d221da",
   "metadata": {},
   "outputs": [
    {
     "name": "stdout",
     "output_type": "stream",
     "text": [
      "4\n"
     ]
    }
   ],
   "source": [
    "# create a variable named a that contains the no.4\n",
    "# create a variable named b that contains the no.5\n",
    "# create a variable named c that contains the no.a&b\n",
    "# print the result\n",
    "a = 4\n",
    "b = 5\n",
    "c = a&b\n",
    "print(c)"
   ]
  },
  {
   "cell_type": "code",
   "execution_count": null,
   "id": "9a326560",
   "metadata": {},
   "outputs": [],
   "source": []
  }
 ],
 "metadata": {
  "kernelspec": {
   "display_name": "Python 3 (ipykernel)",
   "language": "python",
   "name": "python3"
  },
  "language_info": {
   "codemirror_mode": {
    "name": "ipython",
    "version": 3
   },
   "file_extension": ".py",
   "mimetype": "text/x-python",
   "name": "python",
   "nbconvert_exporter": "python",
   "pygments_lexer": "ipython3",
   "version": "3.10.6"
  }
 },
 "nbformat": 4,
 "nbformat_minor": 5
}
