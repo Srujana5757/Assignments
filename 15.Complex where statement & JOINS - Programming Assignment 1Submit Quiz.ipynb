{
 "cells": [
  {
   "cell_type": "code",
   "execution_count": null,
   "id": "1a9b8459",
   "metadata": {},
   "outputs": [],
   "source": [
    "#REFER THE FOLLOWING DATABASES:\n",
    "#Drive link for the “products” table: SQL where statement database(products).xlsx\n",
    "\n",
    "#Drive link for the “customer” table:SQL where statement database(customer).xlsx\n",
    "\n",
    "#Drive link for the “orders” table: Joins(Orders table).xlsx\n",
    "\n",
    "#Using a very popular dataset “Northwind sample database” perform a self join in “Customers” table\n",
    "#Write a SQL statement to matched customers that are from the same city:\n",
    "\n",
    "\n",
    "SELECT c1.CustomerID, c1.City, c2.CustomerID, c2.City\n",
    "FROM Customers c1\n",
    "JOIN Customers c2 ON c1.City = c2.City AND c1.CustomerID != c2.CustomerID\n"
   ]
  },
  {
   "cell_type": "code",
   "execution_count": null,
   "id": "d4ecd528",
   "metadata": {},
   "outputs": [],
   "source": [
    "#Q2.Write a Right join SQL query to specify that we want to perform a RIGHT JOIN,specifically looking \n",
    "##for matches between the departments table and the employees table.DepartmentID is common in both \n",
    "###tables\n",
    "\n",
    "#To perform a RIGHT JOIN between the departments table and the employees table, where the\n",
    "##DepartmentID is common in both tables you can use the following SQL query:\n",
    "\n",
    "SELECT departments.*, employees.*\n",
    "FROM departments\n",
    "RIGHT JOIN employees\n",
    "ON departments.DepartmentID = employees.DepartmentID\n",
    "\n",
    "\n",
    "#This query will select all columns from the departments table as well as all columns from the \n",
    "## employees table, and return all rows from the departments table along with any matching rows from \n",
    "### the employees table where the DepartmentID is equal in both tables.\n",
    "# It means it will return all the rows from the right table (employees) and the matched rows from the\n",
    "## left table(departments) and if there's no match the department columns will be null.\n",
    "### Please note that the table and column names may differ based on the actual database structure and\n",
    "#### naming conventions used.\n",
    "\n",
    "#You can also use LEFT JOIN to get the same result and it will return all the rows from the\n",
    "#left table(departments) and the matched rows from the right table(employees) and if there's no match\n",
    "#the employee columns will be null."
   ]
  },
  {
   "cell_type": "code",
   "execution_count": null,
   "id": "eac51337",
   "metadata": {},
   "outputs": [],
   "source": [
    "#Q3.We have two tables:\n",
    "#  employees - This table contains each employee’s ID, name, and department ID.\n",
    "\n",
    "# departments - This table contains each department’s ID and name\n",
    "\n",
    "\n",
    "# try to find a column that exists in each of the tables. In this example, it is the \n",
    "#  department_id column\n",
    "\n",
    "\n",
    "SELECT employees.*, departments.*\n",
    "FROM employees\n",
    "JOIN departments ON employees.department_id = departments.department_id\n"
   ]
  },
  {
   "cell_type": "code",
   "execution_count": null,
   "id": "6c8f0b54",
   "metadata": {},
   "outputs": [],
   "source": [
    "#Q4.Write a SQL statement to join two tables Customers and orders, select all customerName from the \n",
    "# customer, ordersId from orders, and any orders they might have:\n",
    "#Left join using unique customerID column in both the tables and order the CustomersName by Ascending.\n",
    "\n",
    "SELECT Customers.customerName, Orders.ordersId\n",
    "FROM Customers\n",
    "LEFT JOIN Orders ON Customers.customerID = Orders.customerID\n",
    "ORDER BY Customers.customerName ASC\n"
   ]
  },
  {
   "cell_type": "code",
   "execution_count": null,
   "id": "6070e781",
   "metadata": {},
   "outputs": [],
   "source": [
    "#Q5.REFER THE FOLLOWING DATABASES:\n",
    "# Drive link for the “products” table: SQL where statement database(products).xlsx\n",
    "\n",
    "#Drive link for the “customer” table:SQL where statement database(customer).xlsx\n",
    "\n",
    "#Drive link for the “orders” table: Joins(Orders table).xlsx\n",
    "\n",
    "#Write a SQL statement, to join the two tables using inner join: Customer table with Orders table\n",
    " #   both have customerID common in them and extract OrderID, OrderDate from Orders, CustomerName from\n",
    "  #  Customers.\n",
    "    \n",
    "    \n",
    "   SELECT Orders.OrderID, Orders.OrderDate, Customers.CustomerName\n",
    "FROM Customers\n",
    "INNER JOIN Orders ON Customers.customerID = Orders.customerID\n",
    " "
   ]
  },
  {
   "cell_type": "code",
   "execution_count": null,
   "id": "9e2b2471",
   "metadata": {},
   "outputs": [],
   "source": []
  }
 ],
 "metadata": {
  "kernelspec": {
   "display_name": "Python 3 (ipykernel)",
   "language": "python",
   "name": "python3"
  },
  "language_info": {
   "codemirror_mode": {
    "name": "ipython",
    "version": 3
   },
   "file_extension": ".py",
   "mimetype": "text/x-python",
   "name": "python",
   "nbconvert_exporter": "python",
   "pygments_lexer": "ipython3",
   "version": "3.10.6"
  }
 },
 "nbformat": 4,
 "nbformat_minor": 5
}
