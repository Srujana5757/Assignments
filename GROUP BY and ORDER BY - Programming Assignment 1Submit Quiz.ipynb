{
 "cells": [
  {
   "cell_type": "code",
   "execution_count": 1,
   "id": "e424fe09",
   "metadata": {},
   "outputs": [],
   "source": [
    "#Q1.REFER THE FOLLOWING DATABASES:\n",
    "## Drive link for the “products” table: SQL where statement database(products).xlsx\n",
    "\n",
    "##Drive link for the “customer” table: SQL where statement database(customer).xlsx\n",
    "\n",
    "##Write SQL statement  to lists the number of customers in each country. Only include countries \n",
    "###with more than 3 customers:\n",
    "\n",
    "\n",
    "SELECT Country, COUNT(*) as NumberOfCustomers\n",
    "FROM Customers\n",
    "GROUP BY Country\n",
    "HAVING COUNT(*) > 3\n"
   ]
  },
  {
   "cell_type": "code",
   "execution_count": null,
   "id": "d33d3aa4",
   "metadata": {},
   "outputs": [],
   "source": [
    "#Q2.Write SQL statement to lists the number of orders sent by each shipper, the information is in two\n",
    "#table so join is also with Group by statement:\n",
    "#As you can see in below example the ShipperID is common in both tables Orders and Shippers.\n",
    "\n",
    "SELECT Shippers.ShipperName, COUNT(Orders.ShipperID) as NumberOfOrders\n",
    "FROM Orders\n",
    "JOIN Shippers ON Orders.ShipperID = Shippers.ShipperID\n",
    "GROUP BY Shippers.ShipperName\n"
   ]
  },
  {
   "cell_type": "code",
   "execution_count": null,
   "id": "6cba29fa",
   "metadata": {},
   "outputs": [],
   "source": [
    "#Q3.Find the number of customers in each country using group by statement\n",
    "SELECT Country, COUNT(*) as NumberOfCustomers\n",
    "FROM Customers\n",
    "GROUP BY Country\n"
   ]
  },
  {
   "cell_type": "code",
   "execution_count": null,
   "id": "0d08f22d",
   "metadata": {},
   "outputs": [],
   "source": [
    "#Q4.Write a multiple order by a statement where the county is in ascending order and the customer\n",
    "#name is in descending order from the customer's table\n",
    "\n",
    "SELECT * FROM Customers\n",
    "ORDER BY Country ASC, CustomerName DESC\n"
   ]
  },
  {
   "cell_type": "code",
   "execution_count": null,
   "id": "fce501a7",
   "metadata": {},
   "outputs": [],
   "source": [
    "#Q5.Write a SQL statement to selects all customers from the \"Customers\" table, sorted by the \"Country\"\n",
    "#column in descending order:\n",
    "\n",
    "SELECT * FROM Customers\n",
    "ORDER BY Country DESC\n"
   ]
  },
  {
   "cell_type": "code",
   "execution_count": null,
   "id": "60bca6d0",
   "metadata": {},
   "outputs": [],
   "source": [
    "#Q6.Write a SQL statement to selects all customers from the \"Customers\" table, sorted by the \n",
    "#\"Country\" column:\n",
    "\n",
    "SELECT * FROM Customers\n",
    "ORDER BY Country ASC\n",
    "           or\n",
    "SELECT * FROM Customers\n",
    "ORDER BY Country\n",
    "    "
   ]
  },
  {
   "cell_type": "code",
   "execution_count": null,
   "id": "bd0a06b3",
   "metadata": {},
   "outputs": [],
   "source": [
    "#Q7.Write a SQL statement, to select all fields from \"Customers\" where the country is \n",
    "#NOT \"Germany\" and NOT \"USA\":\n",
    "\n",
    "SELECT * FROM Customers\n",
    "WHERE Country NOT IN ('Germany', 'USA')\n"
   ]
  },
  {
   "cell_type": "code",
   "execution_count": 2,
   "id": "65cf02c9",
   "metadata": {},
   "outputs": [],
   "source": [
    "#Q8.REFER THE FOLLOWING DATABASES:\n",
    "#Drive link for the “products” table: SQL where statement database(products).xlsx\n",
    "\n",
    "#Drive link for the “customer” table: SQL where statement database(customer).xlsx\n",
    "\n",
    "#Write a SQL statement, selects all fields from \"Customers\" where the country is \"Germany\" AND city\n",
    "#must be \"Berlin\" OR \"München\" (use parenthesis to form complex expressions):\n",
    "\n",
    "SELECT * FROM Customers\n",
    "WHERE Country = 'Germany' AND (City = 'Berlin' OR City = 'München')\n"
   ]
  },
  {
   "cell_type": "code",
   "execution_count": null,
   "id": "9f29f24b",
   "metadata": {},
   "outputs": [],
   "source": []
  }
 ],
 "metadata": {
  "kernelspec": {
   "display_name": "Python 3 (ipykernel)",
   "language": "python",
   "name": "python3"
  },
  "language_info": {
   "codemirror_mode": {
    "name": "ipython",
    "version": 3
   },
   "file_extension": ".py",
   "mimetype": "text/x-python",
   "name": "python",
   "nbconvert_exporter": "python",
   "pygments_lexer": "ipython3",
   "version": "3.10.6"
  }
 },
 "nbformat": 4,
 "nbformat_minor": 5
}
