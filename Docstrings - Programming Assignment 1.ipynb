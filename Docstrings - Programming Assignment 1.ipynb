{
 "cells": [
  {
   "cell_type": "code",
   "execution_count": 1,
   "id": "78520905",
   "metadata": {},
   "outputs": [
    {
     "name": "stdout",
     "output_type": "stream",
     "text": [
      "Help on built-in function sqrt in module math:\n",
      "\n",
      "sqrt(x, /)\n",
      "    Return the square root of x.\n",
      "\n"
     ]
    }
   ],
   "source": [
    "# Q1.Write a code to get the match.sqrt function documentation:\n",
    "\n",
    "In Python, you can use the built-in help() function to get the documentation for a specific function.\n",
    "The help() function takes the function name as an argument and returns the documentation for that\n",
    "function.\n",
    "\n",
    "Here is an example of how you can get the documentation for the math.sqrt() function in Python:\n",
    "\n",
    "import math\n",
    "help(math.sqrt)\n",
    "\n",
    "This will display the documentation for the math.sqrt() function, including information on its \n",
    "parameters, return values, and any exceptions that it raises.\n",
    "\n",
    "Alternatively, you can use the ? operator in jupyter notebook or IPython, like this:"
   ]
  },
  {
   "cell_type": "code",
   "execution_count": 2,
   "id": "95ddf79c",
   "metadata": {},
   "outputs": [],
   "source": [
    "math.sqrt?\n",
    "\n",
    "This will give you the same information as the help() function, but it will be displayed in a \n",
    "separate pop-up window rather than in the console output.\n",
    "\n",
    "It's worth noting that, you can use this method for any built-in function in python, and also you \n",
    "can use it for any module installed in your python environment."
   ]
  },
  {
   "cell_type": "code",
   "execution_count": 7,
   "id": "9b9ce0c4",
   "metadata": {},
   "outputs": [
    {
     "name": "stdout",
     "output_type": "stream",
     "text": [
      "5\n",
      "\n",
      "    This function takes two numbers as input and returns the sum of those numbers.\n",
      "    \n",
      "Help on function add_numbers in module __main__:\n",
      "\n",
      "add_numbers(a, b)\n",
      "    This function takes two numbers as input and returns the sum of those numbers.\n",
      "\n"
     ]
    }
   ],
   "source": [
    "# Q2.Write a code to create your own function for adding two number and add custom docstring inside \n",
    "#     inside the function. And then print your function documentation.\n",
    "def add_numbers(a, b):\n",
    "    \"\"\"\n",
    "    This function takes two numbers as input and returns the sum of those numbers.\n",
    "    \"\"\"\n",
    "    return a + b\n",
    "result = add_numbers(2, 3)\n",
    "print(result)\n",
    "print(add_numbers.__doc__)\n",
    "help(add_numbers)\n"
   ]
  },
  {
   "cell_type": "code",
   "execution_count": null,
   "id": "cbc1e102",
   "metadata": {},
   "outputs": [],
   "source": []
  },
  {
   "cell_type": "code",
   "execution_count": 1,
   "id": "28e12f03",
   "metadata": {},
   "outputs": [
    {
     "name": "stdout",
     "output_type": "stream",
     "text": [
      "\n",
      "    This function takes in two numbers and returns their sum.\n",
      "    \n",
      "    Parameters:\n",
      "    a (int or float): The first number to be added\n",
      "    b (int or float): The second number to be added\n",
      "    \n",
      "    Returns:\n",
      "    int or float: The sum of the two input numbers\n",
      "    \n"
     ]
    }
   ],
   "source": [
    "# Q3.Write a code to create your own function for adding two number and add custom docstring inside\n",
    "#    the function. And then print your function documentation without__doc__.\n",
    "def add_numbers(a, b):\n",
    "    \"\"\"\n",
    "    This function takes in two numbers and returns their sum.\n",
    "    \n",
    "    Parameters:\n",
    "    a (int or float): The first number to be added\n",
    "    b (int or float): The second number to be added\n",
    "    \n",
    "    Returns:\n",
    "    int or float: The sum of the two input numbers\n",
    "    \"\"\"\n",
    "    return a + b\n",
    "\n",
    "print(add_numbers.__doc__)\n"
   ]
  },
  {
   "cell_type": "code",
   "execution_count": 2,
   "id": "f2a2af1e",
   "metadata": {},
   "outputs": [
    {
     "name": "stdout",
     "output_type": "stream",
     "text": [
      "Help on function add_numbers in module __main__:\n",
      "\n",
      "add_numbers(a, b)\n",
      "    This function takes in two numbers and returns their sum.\n",
      "    \n",
      "    Parameters:\n",
      "    a (int or float): The first number to be added\n",
      "    b (int or float): The second number to be added\n",
      "    \n",
      "    Returns:\n",
      "    int or float: The sum of the two input numbers\n",
      "\n"
     ]
    }
   ],
   "source": [
    "help(add_numbers)\n"
   ]
  },
  {
   "cell_type": "code",
   "execution_count": 3,
   "id": "f1cfccef",
   "metadata": {},
   "outputs": [
    {
     "name": "stdout",
     "output_type": "stream",
     "text": [
      "\n",
      "    This function takes in two numbers and returns their sum.\n",
      "    \n",
      "    Parameters:\n",
      "    a (int or float): The first number to be added\n",
      "    b (int or float): The second number to be added\n",
      "    \n",
      "    Returns:\n",
      "    int or float: The sum of the two input numbers\n",
      "    \n"
     ]
    }
   ],
   "source": [
    "print(add_numbers.__doc__)\n"
   ]
  },
  {
   "cell_type": "code",
   "execution_count": 4,
   "id": "1b8aa283",
   "metadata": {},
   "outputs": [
    {
     "name": "stdout",
     "output_type": "stream",
     "text": [
      "wrote add_numbers.html\n"
     ]
    }
   ],
   "source": [
    "import pydoc\n",
    "pydoc.writedoc(add_numbers)\n"
   ]
  },
  {
   "cell_type": "code",
   "execution_count": 5,
   "id": "740d88a7",
   "metadata": {},
   "outputs": [
    {
     "name": "stdout",
     "output_type": "stream",
     "text": [
      "(3, 'This function takes in two numbers and returns their sum.')\n"
     ]
    }
   ],
   "source": [
    "# Q4.Write a code for one liner documentationf or a custom function\n",
    "add_numbers = lambda a, b: (a + b, \"This function takes in two numbers and returns their sum.\")\n",
    "print(add_numbers(1,2))\n",
    "add_numbers.__doc__"
   ]
  },
  {
   "cell_type": "code",
   "execution_count": 3,
   "id": "cee92bdb",
   "metadata": {},
   "outputs": [],
   "source": [
    "# Q5.Here's an example of a multi-line docstring for a custom Python function:"
   ]
  },
  {
   "cell_type": "code",
   "execution_count": 6,
   "id": "08741529",
   "metadata": {},
   "outputs": [
    {
     "name": "stdout",
     "output_type": "stream",
     "text": [
      "\n",
      "    This function takes in two numbers and returns their sum.\n",
      "    \n",
      "    Parameters:\n",
      "    a (int or float): The first number to be added\n",
      "    b (int or float): The second number to be added\n",
      "    \n",
      "    Returns:\n",
      "    int or float: The sum of the two input numbers\n",
      "    \n",
      "    Examples:\n",
      "    >>> add_numbers(1, 2)\n",
      "    3\n",
      "    >>> add_numbers(5.5, 6.5)\n",
      "    12.0\n",
      "    \n"
     ]
    }
   ],
   "source": [
    "# Q5.Write a multi-line Docstrings code?\n",
    "def add_numbers(a, b):\n",
    "    \"\"\"\n",
    "    This function takes in two numbers and returns their sum.\n",
    "    \n",
    "    Parameters:\n",
    "    a (int or float): The first number to be added\n",
    "    b (int or float): The second number to be added\n",
    "    \n",
    "    Returns:\n",
    "    int or float: The sum of the two input numbers\n",
    "    \n",
    "    Examples:\n",
    "    >>> add_numbers(1, 2)\n",
    "    3\n",
    "    >>> add_numbers(5.5, 6.5)\n",
    "    12.0\n",
    "    \"\"\"\n",
    "    return a + b\n",
    "\n",
    "print(add_numbers.__doc__)\n"
   ]
  },
  {
   "cell_type": "code",
   "execution_count": null,
   "id": "e0f8d0a1",
   "metadata": {},
   "outputs": [],
   "source": [
    "This docstring uses triple quotes to define a multi-line string, and includes information about the\n",
    "function's parameters, return value, and examples of usage. This format follows the Google python \n",
    "style guide and is widely used."
   ]
  },
  {
   "cell_type": "code",
   "execution_count": null,
   "id": "16c5e1f8",
   "metadata": {},
   "outputs": [],
   "source": []
  }
 ],
 "metadata": {
  "kernelspec": {
   "display_name": "Python 3 (ipykernel)",
   "language": "python",
   "name": "python3"
  },
  "language_info": {
   "codemirror_mode": {
    "name": "ipython",
    "version": 3
   },
   "file_extension": ".py",
   "mimetype": "text/x-python",
   "name": "python",
   "nbconvert_exporter": "python",
   "pygments_lexer": "ipython3",
   "version": "3.10.6"
  }
 },
 "nbformat": 4,
 "nbformat_minor": 5
}
