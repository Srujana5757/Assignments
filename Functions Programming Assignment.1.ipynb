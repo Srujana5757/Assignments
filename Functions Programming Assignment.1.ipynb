{
 "cells": [
  {
   "cell_type": "code",
   "execution_count": 1,
   "id": "cdb6e6f2",
   "metadata": {},
   "outputs": [
    {
     "name": "stdout",
     "output_type": "stream",
     "text": [
      "11\n",
      "-1\n"
     ]
    }
   ],
   "source": [
    "# Q1.Write a program to add and subtract two numbers using a function.\n",
    "# Addition,subtraction = calculation(5,6)\n",
    "a = 5\n",
    "b = 6\n",
    "ab = a + b\n",
    "print(ab)\n",
    "c = 5\n",
    "d = 6\n",
    "cd = 5 - 6\n",
    "print(cd)\n"
   ]
  },
  {
   "cell_type": "code",
   "execution_count": 3,
   "id": "92f0d29c",
   "metadata": {},
   "outputs": [
    {
     "name": "stdout",
     "output_type": "stream",
     "text": [
      "Enter the Two Numbers:\n",
      "5\n",
      "6\n",
      "Addition of two Numbers is:  11\n",
      "Subtraction of two Numbers is:  -1\n"
     ]
    }
   ],
   "source": [
    "# Q1.\"\"\" This function calculating additon of two numbers. \"\"\"\n",
    "def addition_two_numbers(num1, num2):\n",
    "    '''Calculating the sum of two numbers'''\n",
    "    return num1 + num2\n",
    "\n",
    "\n",
    "\"\"\" This function calculating subtraction of two numbers. \"\"\"\n",
    "def subtraction_two_numbers(num1, num2):\n",
    "    \"\"\" Calculating the subtraction of two numbers \"\"\"\n",
    "    return num1 - num2\n",
    "\"\"\" Get the input of two variables \"\"\"\n",
    "print(\"Enter the Two Numbers:\")\n",
    "num1 = int(input())\n",
    "num2 = int(input())\n",
    "\"\"\" Call Function addition_two_numbers, subtraction_two_numbers,  \n",
    "     multiplication_two_numbers, and division_two_numbers with two Parameters \"\"\"\n",
    "add = addition_two_numbers(num1, num2)\n",
    "sub = subtraction_two_numbers(num1, num2)\n",
    "\"\"\" Display sum, Subtraction, Multiplication, and Division of two numbers\"\"\"\n",
    "print(\"Addition of two Numbers is: \", add)\n",
    "print(\"Subtraction of two Numbers is: \", sub)"
   ]
  },
  {
   "cell_type": "code",
   "execution_count": 9,
   "id": "7fe7bcbe",
   "metadata": {},
   "outputs": [
    {
     "name": "stdout",
     "output_type": "stream",
     "text": [
      "Sai ram studies in DAV Schools\n",
      "Sai priya studies in DAV Schools\n",
      "sai ram studies in DAV Schools\n",
      "priya DAV studies in DAV Schools\n"
     ]
    }
   ],
   "source": [
    "# Q2.Create a function containing names of your friends; with default value of schools as DAV.\n",
    "def friends(firstname, lastname ='ram', schools ='DAV'):\n",
    "     print(firstname, lastname, 'studies in', schools, 'Schools')\n",
    " \n",
    "# 1 positional argument\n",
    "friends('Sai')\n",
    " \n",
    "# 3 positional arguments                        \n",
    "friends('Sai', 'priya',)    \n",
    " \n",
    "# 2 positional arguments \n",
    "friends('sai', 'ram')                 \n",
    "friends('priya', 'DAV')"
   ]
  },
  {
   "cell_type": "code",
   "execution_count": null,
   "id": "3eda8927",
   "metadata": {},
   "outputs": [],
   "source": [
    "# Q3.The given function is called using friends(\"name\") now call it using different name like amigo\n",
    "# def friends(name):\n",
    "  # print(\"Name:\",name)\n",
    "    \n",
    "    \n",
    "# friends(\"x\")\n",
    "def amigo():\n",
    "\n",
    "   # printing welcome\n",
    "   print(\"welcome to python call function tutorials!\")\n",
    "\n",
    "# python call function\n",
    "hello()"
   ]
  },
  {
   "cell_type": "code",
   "execution_count": 2,
   "id": "d2192641",
   "metadata": {},
   "outputs": [
    {
     "name": "stdout",
     "output_type": "stream",
     "text": [
      "Name: hi\n"
     ]
    }
   ],
   "source": [
    "# Q3.\n",
    "def amigo(name):\n",
    "  print(\"Name:\",name)\n",
    "    \n",
    "    \n",
    "amigo(\"hi\")"
   ]
  },
  {
   "cell_type": "code",
   "execution_count": 12,
   "id": "40c8dffe",
   "metadata": {},
   "outputs": [
    {
     "name": "stdout",
     "output_type": "stream",
     "text": [
      "Enter the start of range: 1\n",
      "Enter the end of range: 50\n",
      "2 4 6 8 10 12 14 16 18 20 22 24 26 28 30 32 34 36 38 40 42 44 46 48 50 "
     ]
    }
   ],
   "source": [
    "# Q4.Write a function which prints all the even numbers between 1-50:\n",
    "\n",
    "\n",
    "\n",
    "# Python program to print Even Numbers in given range\n",
    " \n",
    "start = int(input(\"Enter the start of range: \"))\n",
    "end = int(input(\"Enter the end of range: \"))\n",
    " \n",
    "# iterating each number in list             # taking range limit from user input\n",
    "for num in range(start, end + 1):\n",
    " \n",
    "    # checking condition\n",
    "    if num % 2 == 0:\n",
    "        print(num, end=\" \")"
   ]
  },
  {
   "cell_type": "code",
   "execution_count": 15,
   "id": "381bb7bf",
   "metadata": {},
   "outputs": [
    {
     "name": "stdout",
     "output_type": "stream",
     "text": [
      "2 4 6 8 10 12 14 16 18 20 22 24 26 28 30 32 34 36 38 40 42 44 46 48 50 "
     ]
    }
   ],
   "source": [
    "# Q4.Write a function which prints all the even numbers between 1-50:\n",
    "def even(num1,num2):\n",
    "    if num1>num2:\n",
    "        return\n",
    "    print(num1,end=\" \")          # recurssion method\n",
    "    return even(num1+2,num2)\n",
    "num1=2;num2=50\n",
    "even(num1,num2)"
   ]
  },
  {
   "cell_type": "code",
   "execution_count": 16,
   "id": "c0cfd270",
   "metadata": {},
   "outputs": [
    {
     "name": "stdout",
     "output_type": "stream",
     "text": [
      "62\n"
     ]
    }
   ],
   "source": [
    "# Q5.Return sum of all numbers from a list;\n",
    "   # Nums = (1,2,3,4,5,6,7,7,8,9,10)\n",
    "Nums = (1,2,3,4,5,6,7,7,8,9,10) \n",
    "s=[i for i in Nums]\n",
    "print(sum(s))"
   ]
  },
  {
   "cell_type": "code",
   "execution_count": 18,
   "id": "df345919",
   "metadata": {},
   "outputs": [
    {
     "name": "stdout",
     "output_type": "stream",
     "text": [
      "Sum of all elements in given list:  62\n"
     ]
    }
   ],
   "source": [
    "# Q5.Return sum of all numbers from a list;\n",
    "   # Nums = (1,2,3,4,5,6,7,7,8,9,10)\n",
    "    \n",
    "    \n",
    "# Python program to find sum of all\n",
    "# elements in list using recursion\n",
    " \n",
    "# creating a list\n",
    "Nums = (1,2,3,4,5,6,7,7,8,9,10)\n",
    " \n",
    "# creating sum_list function                       # recusive way method\n",
    "                                                 \n",
    " \n",
    "def sumOfList(list, size):\n",
    "    if (size == 0):\n",
    "        return 0\n",
    "    else:\n",
    "        return list[size - 1] + sumOfList(list, size - 1)\n",
    " \n",
    " \n",
    "# Driver code\n",
    "total = sumOfList(Nums, len(Nums))\n",
    " \n",
    "print(\"Sum of all elements in given list: \", total)"
   ]
  },
  {
   "cell_type": "code",
   "execution_count": 20,
   "id": "4d043712",
   "metadata": {},
   "outputs": [
    {
     "name": "stdout",
     "output_type": "stream",
     "text": [
      "dcba4321\n"
     ]
    }
   ],
   "source": [
    "# Q6.WAP to print reverse of a string;\n",
    "# String = \"1234abcd\"\n",
    "String = \"1234abcd\"[::-1]                                    #txt = \"Hello World\"[::-1]\n",
    "print(String)                                                #print(txt)\n",
    "\n",
    "# reversing a string"
   ]
  },
  {
   "cell_type": "code",
   "execution_count": 21,
   "id": "82bf81d2",
   "metadata": {},
   "outputs": [
    {
     "name": "stdout",
     "output_type": "stream",
     "text": [
      "dcba4321\n"
     ]
    }
   ],
   "source": [
    "# Q6.WAP to print reverse of a string;\n",
    "# String = \"1234abcd\"\n",
    "def my_function(x):                                # Method : Create a function\n",
    "  return x[::-1]\n",
    "\n",
    "String = my_function(\"1234abcd\")\n",
    "\n",
    "print(String)\n"
   ]
  },
  {
   "cell_type": "code",
   "execution_count": 24,
   "id": "66c5accf",
   "metadata": {},
   "outputs": [
    {
     "name": "stdout",
     "output_type": "stream",
     "text": [
      "2 4 6 8 10 12 "
     ]
    }
   ],
   "source": [
    "# Q7.WAP to print even numbers from a list;\n",
    "#  Lii = [1,2,3,4,5,6,7,8,9,10,11,12]\n",
    "# Python program to print Even Numbers in a List\n",
    " \n",
    "# list of numbers\n",
    "Lii = [1,2,3,4,5,6,7,8,9,10,11,12]\n",
    " \n",
    "# iterating each number in list              # using for loop method\n",
    "for num in Lii:\n",
    " \n",
    "    # checking condition\n",
    "    if num % 2 == 0:\n",
    "        print(num, end=\" \")"
   ]
  },
  {
   "cell_type": "code",
   "execution_count": 27,
   "id": "c115fa5a",
   "metadata": {},
   "outputs": [
    {
     "name": "stdout",
     "output_type": "stream",
     "text": [
      "9\n"
     ]
    }
   ],
   "source": [
    "# Q8.WAP to print maximum of a three numbers given;\n",
    "#   Nums = [4,2,9]\n",
    "Nums = [4,2,9]\n",
    "print(max(4,2,9))"
   ]
  },
  {
   "cell_type": "code",
   "execution_count": 28,
   "id": "fb947eca",
   "metadata": {},
   "outputs": [
    {
     "name": "stdout",
     "output_type": "stream",
     "text": [
      "[1, 2, 3, 4, 5, 6, 7, 8]\n"
     ]
    }
   ],
   "source": [
    "# Q9.WAP to eliminate duplicate numbers from a list;\n",
    "# Lii = [1,2,2,2,3,4,4,5,6,7,8,8]\n",
    "Lii = [1,2,2,2,3,4,4,5,6,7,8,8]              # method easy implementation\n",
    "print(list(set(Lii)))"
   ]
  },
  {
   "cell_type": "code",
   "execution_count": 29,
   "id": "27397402",
   "metadata": {},
   "outputs": [
    {
     "name": "stdout",
     "output_type": "stream",
     "text": [
      "[1, 2, 3, 4, 5, 6, 7, 8]\n"
     ]
    }
   ],
   "source": [
    "# Q9.WAP to eliminate duplicate numbers from a list;\n",
    "# Lii = [1,2,2,2,3,4,4,5,6,7,8,8]                       \n",
    "\n",
    "Lii = [1,2,2,2,3,4,4,5,6,7,8,8]        # Method: Using dict.fromkeys()\n",
    "mylist = list(dict.fromkeys(Lii))\n",
    "print(mylist)"
   ]
  },
  {
   "cell_type": "code",
   "execution_count": 38,
   "id": "c324e278",
   "metadata": {},
   "outputs": [
    {
     "name": "stdout",
     "output_type": "stream",
     "text": [
      "3628800\n"
     ]
    }
   ],
   "source": [
    "# Q10.WAP to print factorial of a number:\n",
    "#     Numm = 10\n",
    "import numpy as np\n",
    "n=10\n",
    "x=np.prod([i for i in range(1,n+1)])\n",
    "print(x)"
   ]
  },
  {
   "cell_type": "code",
   "execution_count": 39,
   "id": "90861c92",
   "metadata": {},
   "outputs": [
    {
     "name": "stdout",
     "output_type": "stream",
     "text": [
      "Factorial of 10 is 3628800\n"
     ]
    }
   ],
   "source": [
    "# Q10.\n",
    "# Python 3 program to find\n",
    "# factorial of given number\n",
    "import math\n",
    "                                               # Method : by using in-built function\n",
    "def factorial(n):\n",
    "    return(math.factorial(n))\n",
    " \n",
    " \n",
    "# Driver Code\n",
    "numm = 10\n",
    "print(\"Factorial of\", numm, \"is\",\n",
    "      factorial(numm))\n",
    " \n",
    "# This code is contributed by Ashutosh Pandit"
   ]
  },
  {
   "cell_type": "code",
   "execution_count": 40,
   "id": "1d318b2d",
   "metadata": {},
   "outputs": [
    {
     "name": "stdout",
     "output_type": "stream",
     "text": [
      "The number of lowercase characters is: 25\n",
      "The number of uppercase characters is: 12\n"
     ]
    }
   ],
   "source": [
    "# Q11.WAP to calculate number of uppercase and lowercase characters in a string \n",
    "#  String = \"Ekeeda is The Best Destination for DS\"\n",
    "String = \"Ekeeda is The Best Destination for DS\"\n",
    "lower=0\n",
    "upper=0\n",
    "for i in String:\n",
    "      if(i.islower()):\n",
    "            lower+=1                                # using built-in methods\n",
    "      else:\n",
    "            upper+=1\n",
    "print(\"The number of lowercase characters is:\",lower)\n",
    "print(\"The number of uppercase characters is:\",upper)"
   ]
  },
  {
   "cell_type": "code",
   "execution_count": 41,
   "id": "6f2dfc0a",
   "metadata": {},
   "outputs": [
    {
     "name": "stdout",
     "output_type": "stream",
     "text": [
      "25\n",
      "12\n"
     ]
    }
   ],
   "source": [
    "print(lower)\n",
    "print(upper)"
   ]
  },
  {
   "cell_type": "code",
   "execution_count": 1,
   "id": "b1d13172",
   "metadata": {},
   "outputs": [
    {
     "name": "stdout",
     "output_type": "stream",
     "text": [
      "11 is a prime number\n"
     ]
    }
   ],
   "source": [
    "# Q12.WAP to check if number is prime or not;\n",
    "num = 11\n",
    "# If given number is greater than 1\n",
    "if num > 1:\n",
    "    # Iterate from 2 to n / 2\n",
    "    for i in range(2, int(num/2)+1):\n",
    "        # If num is divisible by any number between\n",
    "        # 2 and n / 2, it is not prime\n",
    "        if (num % i) == 0:\n",
    "            print(num, \"is not a prime number\")\n",
    "            break\n",
    "    else:\n",
    "        print(num, \"is a prime number\")\n",
    "else:\n",
    "    print(num, \"is not a prime number\")"
   ]
  },
  {
   "cell_type": "code",
   "execution_count": 4,
   "id": "4506d2cd",
   "metadata": {},
   "outputs": [
    {
     "name": "stdout",
     "output_type": "stream",
     "text": [
      "Yes\n"
     ]
    }
   ],
   "source": [
    "# Q13.WAP to check a string is palindrome or not\n",
    "# Hint: palindrome is a string that is same forwards and backwards\n",
    "# Eg: MOM/Mam/MAdam ; it is same if you read it backwards\n",
    "\n",
    "\n",
    "# function which return reverse of a string\n",
    " \n",
    "def isPalindrome(s):\n",
    "    return s == s[::-1]\n",
    " \n",
    " \n",
    "# Driver code\n",
    "s = \"mam\"\n",
    "ans = isPalindrome(s)\n",
    " \n",
    "if ans:\n",
    "    print(\"Yes\")\n",
    "else:\n",
    "    print(\"No\")"
   ]
  },
  {
   "cell_type": "code",
   "execution_count": 7,
   "id": "831e841d",
   "metadata": {},
   "outputs": [
    {
     "name": "stdout",
     "output_type": "stream",
     "text": [
      "[1, 4, 9, 16, 25, 36, 49, 64, 81, 100]\n"
     ]
    }
   ],
   "source": [
    "# Q14.WAP to print the square of numbers between range 1-10 both included\n",
    "def printSquares():\n",
    "  l = list()\n",
    "  for i in range(1,11):\n",
    "    l.append(i**2)\n",
    "  print(l)\n",
    " \n",
    "printSquares()\n",
    " "
   ]
  },
  {
   "cell_type": "code",
   "execution_count": 1,
   "id": "7f2d6869",
   "metadata": {},
   "outputs": [
    {
     "name": "stdout",
     "output_type": "stream",
     "text": [
      "2.0\n"
     ]
    }
   ],
   "source": [
    "# Q15.WAP that takes a squareroot of a number and runs after a specified delay;\n",
    "# Hint: you have to import time module with sleep;\n",
    "import time\n",
    "\n",
    "def delayed_sqrt(num, delay):\n",
    "   \n",
    "    time.sleep(delay)\n",
    "    return num ** 0.5\n",
    "\n",
    "print(delayed_sqrt(4, 2))\n"
   ]
  },
  {
   "cell_type": "code",
   "execution_count": 2,
   "id": "18b9b4e5",
   "metadata": {},
   "outputs": [
    {
     "name": "stdout",
     "output_type": "stream",
     "text": [
      "2.0\n"
     ]
    }
   ],
   "source": [
    "import time\n",
    "\n",
    "def delayed_sqrt(num, delay):\n",
    "    \"\"\"\n",
    "    This function takes in a number and calculates its square root after a specified delay.\n",
    "    Parameters:\n",
    "    num (float): The number whose square root is to be calculated\n",
    "    delay (float): The delay in seconds before the square root is calculated\n",
    "    \n",
    "    Returns:\n",
    "    float: The square root of the input number\n",
    "    \"\"\"\n",
    "    time.sleep(delay)\n",
    "    return num ** 0.5\n",
    "\n",
    "print(delayed_sqrt(4, 2))\n"
   ]
  },
  {
   "cell_type": "code",
   "execution_count": null,
   "id": "6f7bbd4b",
   "metadata": {},
   "outputs": [],
   "source": []
  }
 ],
 "metadata": {
  "kernelspec": {
   "display_name": "Python 3 (ipykernel)",
   "language": "python",
   "name": "python3"
  },
  "language_info": {
   "codemirror_mode": {
    "name": "ipython",
    "version": 3
   },
   "file_extension": ".py",
   "mimetype": "text/x-python",
   "name": "python",
   "nbconvert_exporter": "python",
   "pygments_lexer": "ipython3",
   "version": "3.10.6"
  }
 },
 "nbformat": 4,
 "nbformat_minor": 5
}
