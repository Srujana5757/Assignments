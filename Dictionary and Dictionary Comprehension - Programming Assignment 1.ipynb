{
 "cells": [
  {
   "cell_type": "code",
   "execution_count": 1,
   "id": "49709ab5",
   "metadata": {},
   "outputs": [
    {
     "name": "stdout",
     "output_type": "stream",
     "text": [
      "{'E': 4, 'K': 2, 'D': 5, 'A': 6}\n"
     ]
    }
   ],
   "source": [
    "# Q1.Use dictionary comprehension to make dictionary from following keys and values given;\n",
    "# keys = ['E','K','E','E','D','A']\n",
    "# values = [1,2,3,4,5,6].\n",
    "\n",
    "\n",
    "\n",
    "# Python code to demonstrate dictionary\n",
    "# comprehension\n",
    " \n",
    "# Lists to represent keys and values\n",
    "keys = ['E','K','E','E','D','A']\n",
    "values = [1,2,3,4,5,6] \n",
    " \n",
    "# but this line shows dict comprehension here \n",
    "myDict = { k:v for (k,v) in zip(keys, values)} \n",
    " \n",
    "# We can use below too\n",
    "# myDict = dict(zip(keys, values)) \n",
    " \n",
    "print (myDict)"
   ]
  },
  {
   "cell_type": "code",
   "execution_count": 12,
   "id": "ea288926",
   "metadata": {},
   "outputs": [
    {
     "name": "stdout",
     "output_type": "stream",
     "text": [
      "{0: 'a', 1: 'a'}\n",
      "{0: 'a', 1: 'a', 2: 'a'}\n"
     ]
    }
   ],
   "source": [
    "# Q2.Write a python program to add a key to a dictionary.\n",
    "# Dicti = {0;'a',1:'a'}\n",
    "Dicti = {0:'a',1:'a'}\n",
    "new_dict = {**Dicti, **{2:'a'}}\n",
    " \n",
    "print(Dicti)\n",
    "print(new_dict)"
   ]
  },
  {
   "cell_type": "code",
   "execution_count": 5,
   "id": "cd3a2725",
   "metadata": {},
   "outputs": [
    {
     "name": "stdout",
     "output_type": "stream",
     "text": [
      "{1: 10, 2: 20, 3: 30, 4: 40, 5: 50, 6: 60}\n"
     ]
    }
   ],
   "source": [
    "# Q3.Write a program to concatenate the given dictionaries;\n",
    "#   dictt1={1:10, 2:20}\n",
    "#   dictt2={3:30, 4:40}\n",
    "#   dictt3={5:50, 6:60}\n",
    "dictt1={1:10, 2:20}\n",
    "dictt2={3:30, 4:40}\n",
    "dictt3={5:50, 6:60}\n",
    "dictt4 = {}\n",
    "for d in (dictt1, dictt2, dictt3): dictt4.update(d)\n",
    "print(dictt4)    "
   ]
  },
  {
   "cell_type": "markdown",
   "id": "ffcd442e",
   "metadata": {},
   "source": [
    "# Convert dictionary to list of tuples:"
   ]
  },
  {
   "cell_type": "markdown",
   "id": "77de2359",
   "metadata": {},
   "source": [
    "###### Given a dictionary, write a Python program to convert the given dictionary into list of tuples. \n",
    "\n",
    "Examples: \n",
    "\n",
    "Input: { 'Geeks': 10, 'for': 12, 'Geek': 31 }\n",
    "Output : [ ('Geeks', 10), ('for', 12), ('Geek', 31) ]\n",
    "\n",
    "Input: { 'dict': 11, 'to': 22, 'list_of_tup': 33}\n",
    "Output : [ ('dict', 11), ('to', 22), ('list_of_tup', 33) ]"
   ]
  },
  {
   "cell_type": "markdown",
   "id": "6859d256",
   "metadata": {},
   "source": [
    "##### Below are various methods to convert dictionary to list of tuples"
   ]
  },
  {
   "cell_type": "markdown",
   "id": "89379038",
   "metadata": {},
   "source": [
    "## Method #1: Using list comprehension "
   ]
  },
  {
   "cell_type": "code",
   "execution_count": 9,
   "id": "69d25eb3",
   "metadata": {},
   "outputs": [
    {
     "name": "stdout",
     "output_type": "stream",
     "text": [
      "[('Ram', 10), ('Srujana', 12), ('Priya', 31)]\n"
     ]
    }
   ],
   "source": [
    "# Q4.Write a python program to convert given a dictionary to a list of tuples.\n",
    "\n",
    "# Python code to convert dictionary into list of tuples\n",
    " \n",
    "# Initialization of dictionary\n",
    "dict = { 'Ram': 10, 'Srujana': 12, 'Priya': 31 }\n",
    " \n",
    "# Converting into list of tuple\n",
    "list = [(i, j) for i, j in dict.items()]\n",
    " \n",
    "# Printing list of tuple\n",
    "print(list)"
   ]
  },
  {
   "cell_type": "markdown",
   "id": "94f78742",
   "metadata": {},
   "source": [
    "## Method #2 : Using items() "
   ]
  },
  {
   "cell_type": "code",
   "execution_count": 16,
   "id": "ce7967b6",
   "metadata": {},
   "outputs": [
    {
     "ename": "TypeError",
     "evalue": "'list' object is not callable",
     "output_type": "error",
     "traceback": [
      "\u001b[1;31m---------------------------------------------------------------------------\u001b[0m",
      "\u001b[1;31mTypeError\u001b[0m                                 Traceback (most recent call last)",
      "Cell \u001b[1;32mIn [16], line 7\u001b[0m\n\u001b[0;32m      4\u001b[0m \u001b[38;5;28mdict\u001b[39m \u001b[38;5;241m=\u001b[39m { \u001b[38;5;124m'\u001b[39m\u001b[38;5;124mRam\u001b[39m\u001b[38;5;124m'\u001b[39m: \u001b[38;5;241m10\u001b[39m, \u001b[38;5;124m'\u001b[39m\u001b[38;5;124mSrujana\u001b[39m\u001b[38;5;124m'\u001b[39m: \u001b[38;5;241m12\u001b[39m, \u001b[38;5;124m'\u001b[39m\u001b[38;5;124mPriya\u001b[39m\u001b[38;5;124m'\u001b[39m: \u001b[38;5;241m31\u001b[39m }\n\u001b[0;32m      6\u001b[0m \u001b[38;5;66;03m# Converting into list of tuple                     # it is correct only but not comming output\u001b[39;00m\n\u001b[1;32m----> 7\u001b[0m \u001b[38;5;28mlist\u001b[39m \u001b[38;5;241m=\u001b[39m \u001b[38;5;28mlist\u001b[39m(\u001b[38;5;28mdict\u001b[39m\u001b[38;5;241m.\u001b[39mitems())\n\u001b[0;32m      9\u001b[0m \u001b[38;5;66;03m# Printing list of tuple\u001b[39;00m\n\u001b[0;32m     10\u001b[0m \u001b[38;5;28mprint\u001b[39m(\u001b[38;5;28mlist\u001b[39m)\n",
      "\u001b[1;31mTypeError\u001b[0m: 'list' object is not callable"
     ]
    }
   ],
   "source": [
    "# Python code to convert dictionary into list of tuples\n",
    " \n",
    "# Initialization of dictionary\n",
    "dict = { 'Ram': 10, 'Srujana': 12, 'Priya': 31 }\n",
    " \n",
    "# Converting into list of tuple                     # it is correct only but not comming output\n",
    "list = list(dict.items())\n",
    " \n",
    "# Printing list of tuple\n",
    "print(list)"
   ]
  },
  {
   "cell_type": "markdown",
   "id": "114f5cd9",
   "metadata": {},
   "source": [
    "## Method #3: Using zip "
   ]
  },
  {
   "cell_type": "code",
   "execution_count": 18,
   "id": "a5856f8c",
   "metadata": {},
   "outputs": [
    {
     "ename": "TypeError",
     "evalue": "'list' object is not callable",
     "output_type": "error",
     "traceback": [
      "\u001b[1;31m---------------------------------------------------------------------------\u001b[0m",
      "\u001b[1;31mTypeError\u001b[0m                                 Traceback (most recent call last)",
      "Cell \u001b[1;32mIn [18], line 10\u001b[0m\n\u001b[0;32m      7\u001b[0m listt \u001b[38;5;241m=\u001b[39m \u001b[38;5;28mzip\u001b[39m(\u001b[38;5;28mdict\u001b[39m\u001b[38;5;241m.\u001b[39mkeys(), \u001b[38;5;28mdict\u001b[39m\u001b[38;5;241m.\u001b[39mvalues())\n\u001b[0;32m      9\u001b[0m \u001b[38;5;66;03m# Converting from zip object to list object\u001b[39;00m\n\u001b[1;32m---> 10\u001b[0m listt \u001b[38;5;241m=\u001b[39m \u001b[38;5;28mlist\u001b[39m(listt)\n\u001b[0;32m     12\u001b[0m \u001b[38;5;66;03m# Printing list\u001b[39;00m\n\u001b[0;32m     13\u001b[0m \u001b[38;5;28mprint\u001b[39m(listt)\n",
      "\u001b[1;31mTypeError\u001b[0m: 'list' object is not callable"
     ]
    }
   ],
   "source": [
    "# Python code to convert dictionary into list of tuples\n",
    " \n",
    "# Initialization of dictionary\n",
    "dict = { 'Geeks': 10, 'for': 12, 'Geek': 31 }\n",
    " \n",
    "# Using zip\n",
    "listt = zip(dict.keys(), dict.values())\n",
    " \n",
    "# Converting from zip object to list object\n",
    "listt = list(listt)\n",
    " \n",
    "# Printing list\n",
    "print(listt)"
   ]
  },
  {
   "cell_type": "markdown",
   "id": "93f60476",
   "metadata": {},
   "source": [
    "## Method #4 : Using iteration "
   ]
  },
  {
   "cell_type": "code",
   "execution_count": 20,
   "id": "ca7acded",
   "metadata": {},
   "outputs": [
    {
     "name": "stdout",
     "output_type": "stream",
     "text": [
      "[('Ram', 10), ('Srujana', 12), ('Priya', 31)]\n"
     ]
    }
   ],
   "source": [
    "# Python code to convert dictionary into list of tuples\n",
    " \n",
    "# Initialization of dictionary\n",
    "dict = { 'Ram': 10, 'Srujana': 12, 'Priya': 31 }\n",
    " \n",
    "# Initialization of empty list\n",
    "list = []\n",
    " \n",
    "# Iteration\n",
    "for i in dict:\n",
    "   k = (i, dict[i])\n",
    "   list.append(k)\n",
    " \n",
    "# Printing list\n",
    "print(list)"
   ]
  },
  {
   "cell_type": "markdown",
   "id": "07fb1647",
   "metadata": {},
   "source": [
    "## Method #5 : Using collection "
   ]
  },
  {
   "cell_type": "code",
   "execution_count": 21,
   "id": "e34cce94",
   "metadata": {},
   "outputs": [
    {
     "ename": "TypeError",
     "evalue": "'list' object is not callable",
     "output_type": "error",
     "traceback": [
      "\u001b[1;31m---------------------------------------------------------------------------\u001b[0m",
      "\u001b[1;31mTypeError\u001b[0m                                 Traceback (most recent call last)",
      "Cell \u001b[1;32mIn [21], line 12\u001b[0m\n\u001b[0;32m      9\u001b[0m \u001b[38;5;66;03m# Converting\u001b[39;00m\n\u001b[0;32m     10\u001b[0m list_of_tuple \u001b[38;5;241m=\u001b[39m collections\u001b[38;5;241m.\u001b[39mnamedtuple(\u001b[38;5;124m'\u001b[39m\u001b[38;5;124mList\u001b[39m\u001b[38;5;124m'\u001b[39m, \u001b[38;5;124m'\u001b[39m\u001b[38;5;124mname value\u001b[39m\u001b[38;5;124m'\u001b[39m)\n\u001b[1;32m---> 12\u001b[0m lists \u001b[38;5;241m=\u001b[39m \u001b[38;5;28mlist\u001b[39m(list_of_tuple(\u001b[38;5;241m*\u001b[39mitem) \u001b[38;5;28;01mfor\u001b[39;00m item \u001b[38;5;129;01min\u001b[39;00m \u001b[38;5;28mdict\u001b[39m\u001b[38;5;241m.\u001b[39mitems())\n\u001b[0;32m     14\u001b[0m \u001b[38;5;66;03m# Printing list\u001b[39;00m\n\u001b[0;32m     15\u001b[0m \u001b[38;5;28mprint\u001b[39m(lists)\n",
      "\u001b[1;31mTypeError\u001b[0m: 'list' object is not callable"
     ]
    }
   ],
   "source": [
    "# Python code to convert dictionary into list of tuples\n",
    " \n",
    "# Initialization of dictionary\n",
    "dict = { 'Geeks': 10, 'for': 12, 'Geek': 31 }\n",
    " \n",
    "# Importing\n",
    "import collections\n",
    " \n",
    "# Converting\n",
    "list_of_tuple = collections.namedtuple('List', 'name value')\n",
    " \n",
    "lists = list(list_of_tuple(*item) for item in dict.items())\n",
    " \n",
    "# Printing list\n",
    "print(lists)"
   ]
  },
  {
   "cell_type": "code",
   "execution_count": 1,
   "id": "251b44ee",
   "metadata": {},
   "outputs": [
    {
     "name": "stdout",
     "output_type": "stream",
     "text": [
      "<class 'dict'>\n"
     ]
    }
   ],
   "source": [
    "# Q5.Write a program to make dictionary ranging between keys 7-14(both excluded) and the values are square of the keys.\n",
    "dictt = {i:i**2 for i in range(7,14)}\n",
    "dictt\n",
    "print(type(dictt))"
   ]
  },
  {
   "cell_type": "code",
   "execution_count": 3,
   "id": "df81bcaf",
   "metadata": {},
   "outputs": [
    {
     "name": "stdout",
     "output_type": "stream",
     "text": [
      "{'name': 'Ram', 'age': 24}\n",
      "{'name': 'Ram', 'age': 24, 'hobbies': 'Playing Cricket'}\n"
     ]
    }
   ],
   "source": [
    "# Q6.Write a program to create a dictionary containing some values and add all the values from that dictionary;\n",
    "my_dictionary = {'name':'Ram','age':24}\n",
    "print(my_dictionary)\n",
    "#add a key-value pair to the empty dictionary\n",
    "my_dictionary['hobbies'] = \"Playing Cricket\"\n",
    "\n",
    "#print dictionary\n",
    "print(my_dictionary)\n",
    "\n",
    "#output\n",
    "\n",
    "#{'name': 'John Doe'}"
   ]
  },
  {
   "cell_type": "code",
   "execution_count": 4,
   "id": "e3bf3ced",
   "metadata": {},
   "outputs": [
    {
     "name": "stdout",
     "output_type": "stream",
     "text": [
      "{'dh': 5, 'ani': 6, 'zimb': 8, 'ram': 5, 'priya': 6, 'srujana': 8}\n"
     ]
    }
   ],
   "source": [
    "# Q7.From the dictionary given below,sort the elements based on the keys;\n",
    "#       dictt = {'dh':5,'ani':6,'zimb':8}\n",
    "dictt = {'dh':5,'ani':6,'zimb':8}\n",
    "dictt['ram'] = 5\n",
    "dictt['priya'] = 6\n",
    "dictt['srujana'] = 8\n",
    "print(dictt)"
   ]
  },
  {
   "cell_type": "code",
   "execution_count": 5,
   "id": "561c349c",
   "metadata": {},
   "outputs": [
    {
     "name": "stdout",
     "output_type": "stream",
     "text": [
      "Aex\n",
      "class : V\n",
      "rolld_id : 2\n",
      "Puja\n",
      "class : V\n",
      "roll_id : 3\n"
     ]
    }
   ],
   "source": [
    "# Q8.Create a data for 2 students using dictionary and print it line by line;\n",
    "students = {'Aex':{'class':'V','rolld_id':2},'Puja':{'class':'V','roll_id':3}}\n",
    "for a in students:\n",
    "    print(a)\n",
    "    for b in students[a]:\n",
    "        print (b,':',students[a][b])"
   ]
  },
  {
   "cell_type": "code",
   "execution_count": 12,
   "id": "7922ddf7",
   "metadata": {},
   "outputs": [],
   "source": [
    "import pandas as pd"
   ]
  },
  {
   "cell_type": "code",
   "execution_count": 13,
   "id": "39af05b2",
   "metadata": {},
   "outputs": [
    {
     "name": "stdout",
     "output_type": "stream",
     "text": [
      "Empty DataFrame\n",
      "Columns: []\n",
      "Index: []\n"
     ]
    }
   ],
   "source": [
    "df = pd.DataFrame()\n",
    "print(df)"
   ]
  },
  {
   "cell_type": "code",
   "execution_count": 19,
   "id": "f113687c",
   "metadata": {},
   "outputs": [
    {
     "name": "stdout",
     "output_type": "stream",
     "text": [
      "   num alpha\n",
      "0    1     a\n",
      "1    2     b\n",
      "2    3     c\n",
      "3    4     d\n",
      "4    5     e\n",
      "5    6     f\n"
     ]
    }
   ],
   "source": [
    "# Q9.Print a dictionary with key values in a table manner;\n",
    "#   dict_num = {1:'a',2:'b',3:'c',4:'d',5:'e',6:f}\n",
    "#dict_num = {1:'a',2:'b',3:'c',4:'d',5:'e',6:f}\n",
    "dict_num = [[1,'a'],[2,'b'],[3,'c'],[4,'d'],[5,'e'],[6,'f']]\n",
    "df = pd.DataFrame(dict_num, columns = ['num', 'alpha'])\n",
    "print(df)"
   ]
  },
  {
   "cell_type": "code",
   "execution_count": 20,
   "id": "da045cb4",
   "metadata": {},
   "outputs": [
    {
     "name": "stdout",
     "output_type": "stream",
     "text": [
      "Original Dictionary:\n",
      "{1: 'a', 2: 'b', 3: 'c', 4: 'd', 5: 'e', 6: None}\n",
      "New Dictionary after dropping empty items:\n",
      "{1: 'a', 2: 'b', 3: 'c', 4: 'd', 5: 'e'}\n"
     ]
    }
   ],
   "source": [
    "# Q10.Print the dictionary where we drop the empty value from the dictionary;\n",
    "#     dict_num = {1:'a',2:'b',3:'c',4:'d',5:'e',6:None}\n",
    "dict_num = {1:'a',2:'b',3:'c',4:'d',5:'e',6:None}\n",
    "print(\"Original Dictionary:\")\n",
    "print(dict_num)\n",
    "print(\"New Dictionary after dropping empty items:\")\n",
    "dict_num = {key:value for (key, value) in dict_num.items() if value is not None}\n",
    "print(dict_num)\n"
   ]
  },
  {
   "cell_type": "code",
   "execution_count": 21,
   "id": "cc5cb9ea",
   "metadata": {},
   "outputs": [
    {
     "data": {
      "text/plain": [
       "True"
      ]
     },
     "execution_count": 21,
     "metadata": {},
     "output_type": "execute_result"
    }
   ],
   "source": [
    "# Q11. Check if there's a particular value in a dict;\n",
    ">>> d = {'1': 'one', '3': 'three', '2': 'two', '5': 'five', '4': 'four'}\n",
    ">>> 'one' in d.values()"
   ]
  },
  {
   "cell_type": "code",
   "execution_count": 28,
   "id": "d0cd0c4c",
   "metadata": {},
   "outputs": [
    {
     "name": "stdout",
     "output_type": "stream",
     "text": [
      "The original dictionary is : {'Physics': 82, 'Math': 65, 'history': 75}\n",
      "Keys with minimum values are : ['Math']\n"
     ]
    }
   ],
   "source": [
    "# Q12.Check the key for the minimum value in a dictionary;\n",
    "#     dictt = {'Physics':82,'Math':65,'history':75}\n",
    "\n",
    "\n",
    "\n",
    "# Python3 code to demonstrate working of\n",
    "# Finding min value keys in dictionary\n",
    "# Using min() + list comprehension + values()\n",
    "  \n",
    "# initializing dictionary\n",
    "dictt= {'Physics':82,'Math':65,'history':75}\n",
    "  \n",
    "# printing original dictionary\n",
    "print(\"The original dictionary is : \" + str(dictt))\n",
    "  \n",
    "# Using min() + list comprehension + values()\n",
    "# Finding min value keys in dictionary\n",
    "temp = min(dictt.values())\n",
    "res = [key for key in dictt if dictt[key] == temp]\n",
    "  \n",
    "# printing result \n",
    "print(\"Keys with minimum values are : \" + str(res))"
   ]
  },
  {
   "cell_type": "code",
   "execution_count": 30,
   "id": "60a2355f",
   "metadata": {},
   "outputs": [
    {
     "name": "stdout",
     "output_type": "stream",
     "text": [
      "{'person': {'Name': 'Simulen', 'City': 'CA', 'Country': 'USA'}, 'ram': 'super', 'priya': 'excellent', 'srujana': 'good'}\n"
     ]
    }
   ],
   "source": [
    "# Q13.Write a program to add multiple keys into dictionary;\n",
    "#      dictt = {'person':{\"Name\":\"Simulen\",\"City\":\"CA\",\"Country\":\"USA\"}}\n",
    "dictt = {'person':{\"Name\":\"Simulen\",\"City\":\"CA\",\"Country\":\"USA\"}};\n",
    "dictt.update({'ram':'super','priya':'excellent','srujana':'good'});\n",
    "print(dictt);"
   ]
  },
  {
   "cell_type": "code",
   "execution_count": 1,
   "id": "d2fe4dfb",
   "metadata": {},
   "outputs": [
    {
     "name": "stdout",
     "output_type": "stream",
     "text": [
      "{'ekeeda': 'elearning'}\n"
     ]
    }
   ],
   "source": [
    "# Q14.Convert string to dictionary;\n",
    "#       stringg='ekeeda'\n",
    "import json\n",
    "stringg = '{\"ekeeda\": \"elearning\"}'\n",
    "dictionary = json.loads(stringg)\n",
    "print(dictionary)\n"
   ]
  },
  {
   "cell_type": "code",
   "execution_count": 3,
   "id": "d23de8af",
   "metadata": {},
   "outputs": [
    {
     "name": "stdout",
     "output_type": "stream",
     "text": [
      "{0: 0, 1: 1, 2: 4, 3: 9, 4: 16, 5: 25, 6: 36, 7: 49, 8: 64, 9: 81, 10: 100}\n"
     ]
    }
   ],
   "source": [
    "# Q15.Create a dictionary having values=key*key and keys ranging from 1 to n\n",
    "dictt = {1:1,2:2,3:3,4:4,5:5}\n",
    "n=11\n",
    "#for i in range(1,n):\n",
    "  #print(n, 'x',i,'=',n*i)\n",
    "op={i:i**2 for i in range(11)}\n",
    "print(op)"
   ]
  },
  {
   "cell_type": "code",
   "execution_count": null,
   "id": "3adac98b",
   "metadata": {},
   "outputs": [],
   "source": []
  },
  {
   "cell_type": "code",
   "execution_count": null,
   "id": "05b6b16a",
   "metadata": {},
   "outputs": [],
   "source": []
  }
 ],
 "metadata": {
  "kernelspec": {
   "display_name": "Python 3 (ipykernel)",
   "language": "python",
   "name": "python3"
  },
  "language_info": {
   "codemirror_mode": {
    "name": "ipython",
    "version": 3
   },
   "file_extension": ".py",
   "mimetype": "text/x-python",
   "name": "python",
   "nbconvert_exporter": "python",
   "pygments_lexer": "ipython3",
   "version": "3.10.6"
  }
 },
 "nbformat": 4,
 "nbformat_minor": 5
}
