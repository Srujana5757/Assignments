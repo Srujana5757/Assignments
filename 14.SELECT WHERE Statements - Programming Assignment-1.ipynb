{
 "cells": [
  {
   "cell_type": "code",
   "execution_count": 1,
   "id": "1f7881f3",
   "metadata": {},
   "outputs": [],
   "source": [
    "#Q1.Select all the columns from the table Customers where the country is Germany and City is Berlin.\n",
    "\n",
    "\n",
    "#To select all columns from the table Customers where the country is Germany and City is Berlin, you\n",
    "##  would use the following SQL query:\n",
    "\n",
    "SELECT * FROM Customers\n",
    "WHERE Country = 'Germany' AND City = 'Berlin'\n",
    "\n",
    "#This query will select all columns (*) from the table Customers where the value in the Country\n",
    "##column is 'Germany' and the value in the City column is 'Berlin'."
   ]
  },
  {
   "cell_type": "code",
   "execution_count": 2,
   "id": "b126b3f0",
   "metadata": {},
   "outputs": [],
   "source": [
    "#Q2.Write a query to find out the city where the city is Paris and London from the Customers table\n",
    "\n",
    "#To select the City column from the table Customers where the City is either 'Paris' or 'London',\n",
    "##you would use the following SQL query:\n",
    "\n",
    "\n",
    "SELECT City FROM Customers\n",
    "WHERE City IN ('Paris', 'London')\n",
    "\n",
    "#This query will select the City column from the Customers table where the City is either 'Paris' or \n",
    "##'London'."
   ]
  },
  {
   "cell_type": "code",
   "execution_count": 3,
   "id": "8eca1bef",
   "metadata": {},
   "outputs": [],
   "source": [
    "#Q3.Write a query to find out the city where the city is Paris and London from the Customers table\n",
    "SELECT City FROM Customers\n",
    "WHERE City IN ('Paris', 'London')"
   ]
  },
  {
   "cell_type": "code",
   "execution_count": 4,
   "id": "b3276f8d",
   "metadata": {},
   "outputs": [],
   "source": [
    "#Q4.Write a query to find out the prices between 50 and 100 from the products table\n",
    "\n",
    "#To select the Price column from the products table where the price is between 50 and 100, you would\n",
    "##  use the following SQL query:\n",
    "\n",
    "SELECT Price FROM products\n",
    "WHERE Price BETWEEN 50 AND 100\n",
    "\n",
    "#This query will select the Price column from the products table where the Price is greater than or\n",
    "## equal to 50 and less than or equal to 100."
   ]
  },
  {
   "cell_type": "code",
   "execution_count": 5,
   "id": "2cd0c7e4",
   "metadata": {},
   "outputs": [],
   "source": [
    "#Q5.Write a query to find out the price of items that are not equal to 30 from the products table.\n",
    "\n",
    "#To select the Price column from the products table where the price is not equal to 30, you would use\n",
    "##the following SQL query:\n",
    "\n",
    "SELECT Price FROM products\n",
    "WHERE Price != 30\n",
    "\n",
    "          or\n",
    "\n",
    "SELECT Price FROM products\n",
    "WHERE Price <> 30\n",
    "\n",
    "#This query will select the Price column from the products table where the Price is not equal to 30."
   ]
  },
  {
   "cell_type": "code",
   "execution_count": 6,
   "id": "65eb1df7",
   "metadata": {},
   "outputs": [],
   "source": [
    "#Q6.Write a statement to find out the price of a product greater than 50\n",
    "\n",
    "#To select the Price column from the products table where the price is greater than 50, you would use\n",
    "##the following SQL query:\n",
    "\n",
    "SELECT Price FROM products\n",
    "WHERE Price > 50\n",
    "\n",
    "#This query will select the Price column from the products table where the Price is greater than 50."
   ]
  },
  {
   "cell_type": "code",
   "execution_count": 7,
   "id": "95fedb26",
   "metadata": {},
   "outputs": [],
   "source": [
    "#Q7.Write a query to find out the price of items greater than 30 and equal to 30 from the products\n",
    "#  table.\n",
    "\n",
    "#To select the Price column from the products table where the price is greater than 30 and equal to \n",
    "## 30,you would use the following SQL query:\n",
    "\n",
    "SELECT Price FROM products\n",
    "WHERE Price >= 30\n",
    "\n",
    "#This query will select the Price column from the products table where the Price is greater than or\n",
    "## equal to 30."
   ]
  },
  {
   "cell_type": "code",
   "execution_count": 8,
   "id": "b225e8ed",
   "metadata": {},
   "outputs": [],
   "source": [
    "#Q8.Write a statement and get a price from the product table where the price is greater than 30\n",
    "\n",
    "#To select the Price column from the products table where the price is greater than 30, you would use \n",
    "## the following SQL query:\n",
    "\n",
    "SELECT Price FROM products\n",
    "WHERE Price > 30\n",
    "\n",
    "#This query will select the Price column from the products table where the Price is greater than 30."
   ]
  },
  {
   "cell_type": "code",
   "execution_count": 9,
   "id": "84776b70",
   "metadata": {},
   "outputs": [],
   "source": [
    "#Q9.Write a statement to find the fruit which is red on the basket table\n",
    "\n",
    "#To select the Fruit column from the basket table where the color is red, you would use the following\n",
    "## SQL query:\n",
    "\n",
    "SELECT Fruit FROM basket\n",
    "WHERE color = 'red'\n",
    "\n",
    "#This query will select the Fruit column from the basket table where the color is 'red'\n",
    "\n",
    "# Please note that the table name and column names may differ based on the actual database structure\n",
    "## and naming conventions used. Also, the column name 'color' should exist in the basket table for the \n",
    "### above query to work."
   ]
  },
  {
   "cell_type": "code",
   "execution_count": null,
   "id": "dc8f5ec0",
   "metadata": {},
   "outputs": [],
   "source": [
    "#Q10.Write a SQL statement to select all the customers from the country \"USA\", in the \"Clients\" table:\n",
    "\n",
    "#To select all columns from the Clients table where the country is USA, you would use the following\n",
    "## SQL query:\n",
    "\n",
    "SELECT * FROM Clients\n",
    "WHERE Country = 'USA'\n",
    "\n",
    "#This query will select all columns (*) from the Clients table where the value in the Country column\n",
    "## is 'USA'."
   ]
  }
 ],
 "metadata": {
  "kernelspec": {
   "display_name": "Python 3 (ipykernel)",
   "language": "python",
   "name": "python3"
  },
  "language_info": {
   "codemirror_mode": {
    "name": "ipython",
    "version": 3
   },
   "file_extension": ".py",
   "mimetype": "text/x-python",
   "name": "python",
   "nbconvert_exporter": "python",
   "pygments_lexer": "ipython3",
   "version": "3.10.6"
  }
 },
 "nbformat": 4,
 "nbformat_minor": 5
}
