{
 "cells": [
  {
   "cell_type": "code",
   "execution_count": 3,
   "id": "405b0e49",
   "metadata": {},
   "outputs": [
    {
     "name": "stdout",
     "output_type": "stream",
     "text": [
      "[0 2 0 4 0]\n"
     ]
    }
   ],
   "source": [
    "#Q1.Write a NumPy program to replace the negative values in a NumPy array with 0.\n",
    "\n",
    "import numpy as np\n",
    "\n",
    "arr = np.array([-1, 2, -3, 4, -5])\n",
    "\n",
    "# Replace negative values with 0\n",
    "arr = np.clip(arr, 0, None)\n",
    "\n",
    "print(arr)\n"
   ]
  },
  {
   "cell_type": "code",
   "execution_count": 4,
   "id": "9237b2ce",
   "metadata": {},
   "outputs": [
    {
     "name": "stdout",
     "output_type": "stream",
     "text": [
      "[0 2 0 4 0]\n"
     ]
    }
   ],
   "source": [
    "import numpy as np\n",
    "arr = np.array([-1, 2, -3, 4, -5])\n",
    "\n",
    "# Replace negative values with 0\n",
    "arr = np.where(np.less(arr,0),0,arr)\n",
    "\n",
    "print(arr)\n"
   ]
  },
  {
   "cell_type": "code",
   "execution_count": 5,
   "id": "112289ad",
   "metadata": {},
   "outputs": [
    {
     "name": "stdout",
     "output_type": "stream",
     "text": [
      "Original array:\n",
      "[[0.42436315 0.48558583 0.32924763]\n",
      " [0.5        0.5        0.38213418]\n",
      " [0.5        0.34528799 0.1563123 ]]\n"
     ]
    }
   ],
   "source": [
    "#Q2.Write a NumPy program to replace all elements of a NumPy array that are greater than the\n",
    "##    specified array.[Expected Output:\n",
    "#Original array:\n",
    "#          [[ 0.42436315 0.48558583 0.32924763]\n",
    "#           [ 0.7439979 0.58220701 0.38213418]\n",
    "#           [ 0.5097581 0.34528799 0.1563123 ]]\n",
    "#  Replace all elements of the said array with .5 which are greater than. 5\n",
    "#           [[ 0.42436315 0.48558583 0.32924763]\n",
    "#           [ 0.5 0.5 0.38213418]\n",
    "#           [ 0.5 0.34528799 0.1563123 ]]] \n",
    "\n",
    "\n",
    "\n",
    "import numpy as np\n",
    "\n",
    "arr = np.array([[0.42436315, 0.48558583, 0.32924763],\n",
    "                [0.7439979, 0.58220701, 0.38213418],\n",
    "                [0.5097581, 0.34528799, 0.1563123]])\n",
    "\n",
    "# Replace all elements greater than 0.5 with 0.5\n",
    "arr = np.where(arr > 0.5, 0.5, arr)\n",
    "\n",
    "print(\"Original array:\")\n",
    "print(arr)\n"
   ]
  },
  {
   "cell_type": "code",
   "execution_count": 6,
   "id": "f7d86b45",
   "metadata": {},
   "outputs": [
    {
     "name": "stdout",
     "output_type": "stream",
     "text": [
      "[1, 2, 3, 4, 5]\n"
     ]
    }
   ],
   "source": [
    "#Q3.Write a NumPy program to convert a NumPy array into Python list structure.\n",
    "import numpy as np\n",
    "\n",
    "arr = np.array([1, 2, 3, 4, 5])\n",
    "\n",
    "# Convert NumPy array to Python list\n",
    "python_list = arr.tolist()\n",
    "\n",
    "print(python_list)\n"
   ]
  },
  {
   "cell_type": "code",
   "execution_count": 7,
   "id": "87e717e8",
   "metadata": {},
   "outputs": [
    {
     "name": "stdout",
     "output_type": "stream",
     "text": [
      "[[1, 2], [3, 4], [5, 6]]\n"
     ]
    }
   ],
   "source": [
    "import numpy as np\n",
    "\n",
    "arr = np.array([[1, 2], [3, 4], [5, 6]])\n",
    "\n",
    "# Convert NumPy array to Python list\n",
    "python_list = arr.tolist()\n",
    "\n",
    "print(python_list)\n"
   ]
  },
  {
   "cell_type": "code",
   "execution_count": 8,
   "id": "f361dc0b",
   "metadata": {},
   "outputs": [
    {
     "name": "stdout",
     "output_type": "stream",
     "text": [
      "[ 1  2  7 10  3  5  0  6  8  4  9]\n"
     ]
    }
   ],
   "source": [
    "#Q4.Write a NumPy program to shuffle numbers between 0 and 10 (inclusive).\n",
    "import numpy as np\n",
    "\n",
    "# create an array of numbers between 0 and 10\n",
    "arr = np.arange(11)\n",
    "\n",
    "# shuffle the array\n",
    "np.random.shuffle(arr)\n",
    "\n",
    "print(arr)\n"
   ]
  },
  {
   "cell_type": "code",
   "execution_count": 9,
   "id": "27ebe990",
   "metadata": {},
   "outputs": [
    {
     "data": {
      "text/plain": [
       "array([ 1,  9,  3, 10,  8,  5,  0,  6,  2,  4,  7])"
      ]
     },
     "execution_count": 9,
     "metadata": {},
     "output_type": "execute_result"
    }
   ],
   "source": [
    "import numpy as np\n",
    "arr = np.arange(11)\n",
    "np.random.permutation(arr)\n"
   ]
  },
  {
   "cell_type": "code",
   "execution_count": 13,
   "id": "9766bd5c",
   "metadata": {},
   "outputs": [
    {
     "name": "stdout",
     "output_type": "stream",
     "text": [
      "[[10 40]\n",
      " [20 50]\n",
      " [30 60]]\n"
     ]
    }
   ],
   "source": [
    "#Q5.Write a NumPy program to convert 1-D arrays as columns into a 2-D array.\n",
    "##Sample array: (10,20,30), (40,50,60)\n",
    "import numpy as np\n",
    "\n",
    "# Sample 1-D arrays\n",
    "array1 = np.array([10, 20, 30])\n",
    "array2 = np.array([40, 50, 60])\n",
    "\n",
    "# Convert 1-D arrays as columns into a 2-D array\n",
    "result = np.column_stack((array1, array2))\n",
    "\n",
    "print(result)\n"
   ]
  },
  {
   "cell_type": "code",
   "execution_count": 14,
   "id": "b36bc852",
   "metadata": {},
   "outputs": [],
   "source": [
    "#You can also use the numpy.vstack() function to stack the 1-D arrays vertically and get the same \n",
    "##    result.\n",
    "result = np.vstack((array1, array2)).T\n"
   ]
  },
  {
   "cell_type": "code",
   "execution_count": 15,
   "id": "0c866c27",
   "metadata": {},
   "outputs": [
    {
     "name": "stdout",
     "output_type": "stream",
     "text": [
      "[[ 0  1  3]\n",
      " [ 5  7  9]\n",
      " [ 0  2  4]\n",
      " [ 6  8 10]]\n"
     ]
    }
   ],
   "source": [
    "#Q6.Write a NumPy program to concatenate two 2-dimensional arrays.\n",
    "## Sample arrays: ([[0, 1, 3], [5, 7, 9]], [[0, 2, 4], [6, 8, 10]]\n",
    "\n",
    "import numpy as np\n",
    "\n",
    "# Sample 2-dimensional arrays\n",
    "array1 = np.array([[0, 1, 3], [5, 7, 9]])\n",
    "array2 = np.array([[0, 2, 4], [6, 8, 10]])\n",
    "\n",
    "# Concatenate two 2-dimensional arrays\n",
    "result = np.concatenate((array1, array2), axis=0)\n",
    "\n",
    "print(result)\n"
   ]
  },
  {
   "cell_type": "code",
   "execution_count": null,
   "id": "c9b66269",
   "metadata": {},
   "outputs": [],
   "source": []
  },
  {
   "cell_type": "code",
   "execution_count": 16,
   "id": "d65ef07f",
   "metadata": {},
   "outputs": [
    {
     "name": "stdout",
     "output_type": "stream",
     "text": [
      "[[0 1 2 3 4]\n",
      " [0 1 2 3 4]\n",
      " [0 1 2 3 4]\n",
      " [0 1 2 3 4]\n",
      " [0 1 2 3 4]]\n"
     ]
    }
   ],
   "source": [
    "#Q7.Write a NumPy program to create a 5x5 matrix with row values ranging from 0 to 4.\n",
    "import numpy as np\n",
    "\n",
    "# Create a 5x5 matrix with row values ranging from 0 to 4\n",
    "matrix = np.matrix(np.arange(5))\n",
    "matrix = np.tile(matrix,(5,1))\n",
    "print(matrix)\n"
   ]
  },
  {
   "cell_type": "code",
   "execution_count": 19,
   "id": "fc0f1f6e",
   "metadata": {},
   "outputs": [
    {
     "name": "stdout",
     "output_type": "stream",
     "text": [
      "[[ 0  1  2  3  4]\n",
      " [ 5  6  7  8  9]\n",
      " [10 11 12 13 14]\n",
      " [15 16 17 18 19]\n",
      " [20 21 22 23 24]]\n"
     ]
    }
   ],
   "source": [
    "import numpy as np\n",
    "matrix = np.matrix(np.arange(25)).reshape(5,5)\n",
    "print(matrix)"
   ]
  },
  {
   "cell_type": "code",
   "execution_count": 20,
   "id": "ae35c0b3",
   "metadata": {},
   "outputs": [
    {
     "name": "stdout",
     "output_type": "stream",
     "text": [
      "[[0. 1. 2. 3. 4.]\n",
      " [0. 1. 2. 3. 4.]\n",
      " [0. 1. 2. 3. 4.]\n",
      " [0. 1. 2. 3. 4.]\n",
      " [0. 1. 2. 3. 4.]]\n"
     ]
    }
   ],
   "source": [
    "matrix = np.zeros((5,5))\n",
    "matrix = np.add(matrix, np.arange(5))\n",
    "print(matrix)"
   ]
  },
  {
   "cell_type": "code",
   "execution_count": 21,
   "id": "8abbf89a",
   "metadata": {},
   "outputs": [
    {
     "name": "stdout",
     "output_type": "stream",
     "text": [
      "(4, 2, 3)\n",
      "(3, 4, 2)\n"
     ]
    }
   ],
   "source": [
    "#Q8.Write a NumPy program to move axes of an array to new positions. Other axes remain in their \n",
    "##   original order.[Expected Output:\n",
    "#     (3, 4, 2)\n",
    "#     (4, 2, 3)]\n",
    "\n",
    "import numpy as np\n",
    "\n",
    "# Create an array with shape (3, 4, 2)\n",
    "arr = np.random.rand(3, 4, 2)\n",
    "\n",
    "# Move axis 0 to position 2\n",
    "result1 = np.moveaxis(arr, 0, 2)\n",
    "\n",
    "# Move axis 2 to position 0\n",
    "result2 = np.moveaxis(result1, 2, 0)\n",
    "\n",
    "print(result1.shape)\n",
    "print(result2.shape)\n"
   ]
  },
  {
   "cell_type": "code",
   "execution_count": 23,
   "id": "907b38aa",
   "metadata": {},
   "outputs": [
    {
     "name": "stdout",
     "output_type": "stream",
     "text": [
      "[[1 2 3]]\n",
      "(1, 3)\n",
      "[[[1]\n",
      "  [2]\n",
      "  [3]]\n",
      "\n",
      " [[4]\n",
      "  [5]\n",
      "  [6]]]\n",
      "(2, 3, 1)\n"
     ]
    }
   ],
   "source": [
    "#Q9.Write a NumPy program to view inputs as arrays with at least two dimensions, three dimensions.\n",
    "import numpy as np\n",
    "\n",
    "# Create a 1-D array\n",
    "arr1d = np.array([1, 2, 3])\n",
    "\n",
    "# View input as array with at least 2 dimensions\n",
    "arr2d = np.atleast_2d(arr1d)\n",
    "\n",
    "print(arr2d)\n",
    "print(arr2d.shape)\n",
    "\n",
    "\n",
    "# Create a 2-D array\n",
    "arr2d = np.array([[1, 2, 3], [4, 5, 6]])\n",
    "\n",
    "# View input as array with at least 3 dimensions\n",
    "arr3d = np.atleast_3d(arr2d)\n",
    "\n",
    "print(arr3d)\n",
    "print(arr3d.shape)\n"
   ]
  },
  {
   "cell_type": "code",
   "execution_count": 24,
   "id": "707f5a78",
   "metadata": {},
   "outputs": [
    {
     "name": "stdout",
     "output_type": "stream",
     "text": [
      "[[ 4  2  3  1]\n",
      " [ 8  6  7  5]\n",
      " [12 10 11  9]\n",
      " [16 14 15 13]]\n"
     ]
    }
   ],
   "source": [
    "#Q10.Write a NumPy program to create a 4x4 array, now create a new array from the said array\n",
    "##  swapping first and last, second and third columns.\n",
    "import numpy as np\n",
    "\n",
    "# Create a 4x4 array\n",
    "arr = np.array([[1, 2, 3, 4], [5, 6, 7, 8], [9, 10, 11, 12], [13, 14, 15, 16]])\n",
    "\n",
    "# Create a new array by swapping first and last columns\n",
    "result = np.array(arr[:,[3,1,2,0]])\n",
    "\n",
    "print(result)\n"
   ]
  },
  {
   "cell_type": "code",
   "execution_count": 25,
   "id": "32bb14e2",
   "metadata": {},
   "outputs": [
    {
     "name": "stdout",
     "output_type": "stream",
     "text": [
      "[ 4 10 18]\n"
     ]
    }
   ],
   "source": [
    "#Q11.Write a NumPy program to multiply two given arrays of the same size element-by-element.\n",
    "import numpy as np\n",
    "\n",
    "# Create two arrays\n",
    "arr1 = np.array([1, 2, 3])\n",
    "arr2 = np.array([4, 5, 6])\n",
    "\n",
    "# Multiply the arrays element-by-element\n",
    "result = np.multiply(arr1, arr2)\n",
    "\n",
    "print(result)\n"
   ]
  },
  {
   "cell_type": "code",
   "execution_count": 26,
   "id": "03e0007f",
   "metadata": {},
   "outputs": [
    {
     "name": "stdout",
     "output_type": "stream",
     "text": [
      "[[0. 0. 0. 1.]\n",
      " [0. 0. 1. 0.]\n",
      " [0. 1. 0. 0.]\n",
      " [1. 0. 0. 0.]]\n"
     ]
    }
   ],
   "source": [
    "#Q12.Write a NumPy program to create a 4x4 matrix in which 0 and 1 are staggered, with zeros on the\n",
    "##  main diagonal.\n",
    "import numpy as np\n",
    "\n",
    "# Create a 4x4 matrix of zeros\n",
    "matrix = np.zeros((4,4))\n",
    "# Create a 4x4 identity matrix\n",
    "eye = np.eye(4)\n",
    "# Adding the identity matrix to the zeros matrix\n",
    "matrix = matrix + eye\n",
    "# Flipping the matrix\n",
    "matrix = np.fliplr(matrix)\n",
    "\n",
    "print(matrix)\n"
   ]
  },
  {
   "cell_type": "code",
   "execution_count": 28,
   "id": "c4b59570",
   "metadata": {},
   "outputs": [
    {
     "name": "stdout",
     "output_type": "stream",
     "text": [
      "[[1. 0. 0.]\n",
      " [0. 1. 0.]\n",
      " [0. 0. 1.]]\n"
     ]
    }
   ],
   "source": [
    "#Q13.Write a NumPy program to create a 3x3 identity matrix\n",
    "import numpy as np\n",
    "\n",
    "# Create a 3x3 identity matrix\n",
    "matrix = np.eye(3)\n",
    "\n",
    "print(matrix)\n"
   ]
  },
  {
   "cell_type": "code",
   "execution_count": 29,
   "id": "a29eaacd",
   "metadata": {},
   "outputs": [
    {
     "name": "stdout",
     "output_type": "stream",
     "text": [
      "[[1. 0. 0.]\n",
      " [0. 1. 0.]\n",
      " [0. 0. 1.]]\n"
     ]
    }
   ],
   "source": [
    "matrix = np.identity(3)\n",
    "print(matrix)"
   ]
  },
  {
   "cell_type": "code",
   "execution_count": 30,
   "id": "7a8c4a51",
   "metadata": {},
   "outputs": [
    {
     "name": "stdout",
     "output_type": "stream",
     "text": [
      "[0. 0. 0. 0. 0. 0. 0. 0. 0. 0. 1. 1. 1. 1. 1. 1. 1. 1. 1. 1. 5. 5. 5. 5.\n",
      " 5. 5. 5. 5. 5. 5.]\n"
     ]
    }
   ],
   "source": [
    "#Q14.Write a NumPy program to create an array of 10 zeros, 10 ones, 10 fives.\n",
    "import numpy as np\n",
    "\n",
    "# Create an array of 10 zeros\n",
    "zeros = np.zeros(10)\n",
    "# Create an array of 10 ones\n",
    "ones = np.ones(10)\n",
    "# Create an array of 10 fives\n",
    "fives = np.full(10, 5)\n",
    "\n",
    "# Create an array of zeros, ones, and fives\n",
    "result = np.concatenate((zeros, ones, fives))\n",
    "\n",
    "print(result)\n"
   ]
  },
  {
   "cell_type": "code",
   "execution_count": 31,
   "id": "d74bdece",
   "metadata": {},
   "outputs": [
    {
     "name": "stdout",
     "output_type": "stream",
     "text": [
      "[0. 0. 0. 0. 0. 0. 0. 0. 0. 0. 1. 1. 1. 1. 1. 1. 1. 1. 1. 1. 5. 5. 5. 5.\n",
      " 5. 5. 5. 5. 5. 5.]\n"
     ]
    }
   ],
   "source": [
    "result = np.hstack((zeros, ones, fives))\n",
    "print(result)"
   ]
  },
  {
   "cell_type": "code",
   "execution_count": 32,
   "id": "d597f8f4",
   "metadata": {},
   "outputs": [
    {
     "name": "stdout",
     "output_type": "stream",
     "text": [
      "add(x1, x2, /, out=None, *, where=True, casting='same_kind', order='K', dtype=None, subok=True[, signature, extobj])\n",
      "\n",
      "Add arguments element-wise.\n",
      "\n",
      "Parameters\n",
      "----------\n",
      "x1, x2 : array_like\n",
      "    The arrays to be added.\n",
      "    If ``x1.shape != x2.shape``, they must be broadcastable to a common\n",
      "    shape (which becomes the shape of the output).\n",
      "out : ndarray, None, or tuple of ndarray and None, optional\n",
      "    A location into which the result is stored. If provided, it must have\n",
      "    a shape that the inputs broadcast to. If not provided or None,\n",
      "    a freshly-allocated array is returned. A tuple (possible only as a\n",
      "    keyword argument) must have length equal to the number of outputs.\n",
      "where : array_like, optional\n",
      "    This condition is broadcast over the input. At locations where the\n",
      "    condition is True, the `out` array will be set to the ufunc result.\n",
      "    Elsewhere, the `out` array will retain its original value.\n",
      "    Note that if an uninitialized `out` array is created via the default\n",
      "    ``out=None``, locations within it where the condition is False will\n",
      "    remain uninitialized.\n",
      "**kwargs\n",
      "    For other keyword-only arguments, see the\n",
      "    :ref:`ufunc docs <ufuncs.kwargs>`.\n",
      "\n",
      "Returns\n",
      "-------\n",
      "add : ndarray or scalar\n",
      "    The sum of `x1` and `x2`, element-wise.\n",
      "    This is a scalar if both `x1` and `x2` are scalars.\n",
      "\n",
      "Notes\n",
      "-----\n",
      "Equivalent to `x1` + `x2` in terms of array broadcasting.\n",
      "\n",
      "Examples\n",
      "--------\n",
      ">>> np.add(1.0, 4.0)\n",
      "5.0\n",
      ">>> x1 = np.arange(9.0).reshape((3, 3))\n",
      ">>> x2 = np.arange(3.0)\n",
      ">>> np.add(x1, x2)\n",
      "array([[  0.,   2.,   4.],\n",
      "       [  3.,   5.,   7.],\n",
      "       [  6.,   8.,  10.]])\n",
      "\n",
      "The ``+`` operator can be used as a shorthand for ``np.add`` on ndarrays.\n",
      "\n",
      ">>> x1 = np.arange(9.0).reshape((3, 3))\n",
      ">>> x2 = np.arange(3.0)\n",
      ">>> x1 + x2\n",
      "array([[ 0.,  2.,  4.],\n",
      "       [ 3.,  5.,  7.],\n",
      "       [ 6.,  8., 10.]])\n"
     ]
    }
   ],
   "source": [
    "#Q15.Write a NumPy program to get help on the add function.\n",
    "import numpy as np\n",
    "\n",
    "# Get help on the add function\n",
    "np.info(np.add)\n"
   ]
  },
  {
   "cell_type": "code",
   "execution_count": 33,
   "id": "7b1c56c4",
   "metadata": {},
   "outputs": [
    {
     "name": "stdout",
     "output_type": "stream",
     "text": [
      "Help on ufunc:\n",
      "\n",
      "add = <ufunc 'add'>\n",
      "    add(x1, x2, /, out=None, *, where=True, casting='same_kind', order='K', dtype=None, subok=True[, signature, extobj])\n",
      "    \n",
      "    Add arguments element-wise.\n",
      "    \n",
      "    Parameters\n",
      "    ----------\n",
      "    x1, x2 : array_like\n",
      "        The arrays to be added.\n",
      "        If ``x1.shape != x2.shape``, they must be broadcastable to a common\n",
      "        shape (which becomes the shape of the output).\n",
      "    out : ndarray, None, or tuple of ndarray and None, optional\n",
      "        A location into which the result is stored. If provided, it must have\n",
      "        a shape that the inputs broadcast to. If not provided or None,\n",
      "        a freshly-allocated array is returned. A tuple (possible only as a\n",
      "        keyword argument) must have length equal to the number of outputs.\n",
      "    where : array_like, optional\n",
      "        This condition is broadcast over the input. At locations where the\n",
      "        condition is True, the `out` array will be set to the ufunc result.\n",
      "        Elsewhere, the `out` array will retain its original value.\n",
      "        Note that if an uninitialized `out` array is created via the default\n",
      "        ``out=None``, locations within it where the condition is False will\n",
      "        remain uninitialized.\n",
      "    **kwargs\n",
      "        For other keyword-only arguments, see the\n",
      "        :ref:`ufunc docs <ufuncs.kwargs>`.\n",
      "    \n",
      "    Returns\n",
      "    -------\n",
      "    add : ndarray or scalar\n",
      "        The sum of `x1` and `x2`, element-wise.\n",
      "        This is a scalar if both `x1` and `x2` are scalars.\n",
      "    \n",
      "    Notes\n",
      "    -----\n",
      "    Equivalent to `x1` + `x2` in terms of array broadcasting.\n",
      "    \n",
      "    Examples\n",
      "    --------\n",
      "    >>> np.add(1.0, 4.0)\n",
      "    5.0\n",
      "    >>> x1 = np.arange(9.0).reshape((3, 3))\n",
      "    >>> x2 = np.arange(3.0)\n",
      "    >>> np.add(x1, x2)\n",
      "    array([[  0.,   2.,   4.],\n",
      "           [  3.,   5.,   7.],\n",
      "           [  6.,   8.,  10.]])\n",
      "    \n",
      "    The ``+`` operator can be used as a shorthand for ``np.add`` on ndarrays.\n",
      "    \n",
      "    >>> x1 = np.arange(9.0).reshape((3, 3))\n",
      "    >>> x2 = np.arange(3.0)\n",
      "    >>> x1 + x2\n",
      "    array([[ 0.,  2.,  4.],\n",
      "           [ 3.,  5.,  7.],\n",
      "           [ 6.,  8., 10.]])\n",
      "\n"
     ]
    }
   ],
   "source": [
    "help(np.add)"
   ]
  },
  {
   "cell_type": "code",
   "execution_count": null,
   "id": "eaf87077",
   "metadata": {},
   "outputs": [],
   "source": []
  }
 ],
 "metadata": {
  "kernelspec": {
   "display_name": "Python 3 (ipykernel)",
   "language": "python",
   "name": "python3"
  },
  "language_info": {
   "codemirror_mode": {
    "name": "ipython",
    "version": 3
   },
   "file_extension": ".py",
   "mimetype": "text/x-python",
   "name": "python",
   "nbconvert_exporter": "python",
   "pygments_lexer": "ipython3",
   "version": "3.10.6"
  }
 },
 "nbformat": 4,
 "nbformat_minor": 5
}
