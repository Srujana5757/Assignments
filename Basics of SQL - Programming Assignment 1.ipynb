{
 "cells": [
  {
   "cell_type": "code",
   "execution_count": null,
   "id": "c781262f",
   "metadata": {},
   "outputs": [],
   "source": [
    "# Q1.Write an SQL query to print the FIRST_NAME from worker table after removing white spaces from \n",
    "#  from the right side.\n",
    " Select RTRIM(FIRST_NAME) from Worker;"
   ]
  },
  {
   "cell_type": "code",
   "execution_count": null,
   "id": "763699d2",
   "metadata": {},
   "outputs": [],
   "source": [
    "# Q2.Write an SQL query to find the position of the alphabet ('a') in the first name column'Amitabh' \n",
    "#    from worker table.\n",
    "Select INSTR(FIRST_NAME, BINARY'a') from Worker where FIRST_NAME ='Amitabh';"
   ]
  },
  {
   "cell_type": "code",
   "execution_count": null,
   "id": "439e9cd6",
   "metadata": {},
   "outputs": [],
   "source": [
    "# Q3.Write an SQL query to print the first three characters of FIRST_NAME from worker table.\n",
    "Select substring(FIRST_NAME,1,3) from Worker;"
   ]
  },
  {
   "cell_type": "code",
   "execution_count": null,
   "id": "f561b30f",
   "metadata": {},
   "outputs": [],
   "source": [
    "# Q4.write an SQL query to fetch unique values of DEPARTMENT from Worker table.\n",
    "Select distinct DEPARTMENT from Worker;"
   ]
  },
  {
   "cell_type": "code",
   "execution_count": null,
   "id": "f1e16034",
   "metadata": {},
   "outputs": [],
   "source": [
    "# Q5.Write an SQL query to fetch \"FIRST_NAME\" from Worker table in upper case.\n",
    "Select upper(FIRST_NAME) from Worker;"
   ]
  },
  {
   "cell_type": "code",
   "execution_count": null,
   "id": "a13fd249",
   "metadata": {},
   "outputs": [],
   "source": [
    "# Q6.Write an SQL query to fetch \"FIRST_NAME\" from Worker table using the alias name as <WORKER_NAME>.\n",
    "Select FIRST_NAME AS WORKER_NAME from Worker;"
   ]
  },
  {
   "cell_type": "code",
   "execution_count": null,
   "id": "80b0fc34",
   "metadata": {},
   "outputs": [],
   "source": [
    "# Q7.Insert values in bonus table like the below:\n",
    "#   Column name:(WORKER_REF_ID, BOUNUS_AMOUNT, BONUS_DATE) VALUES\n",
    "#   Values: (001, 5000, '16-02-20'),\n",
    "#           (002, 3000, '16-06-11'),\n",
    "#           (003, 4000, '16-02-20'),\n",
    "#           (001, 4500, '16-02-20'),\n",
    "#           (002, 3500, '16-06-11')\n",
    "CREATE TABLE `Bonus` (\n",
    "        `WORKER_REF_ID` INT NOT NULL,\n",
    "        `BONUS_AMOUNT` INT(10) NOT NULL,\n",
    "        `BONUS_DATE` DATETIME NOT NULL,\n",
    "        FOREIGN KEY (WORKER_REF_ID),\n",
    "        REFERENCES Worker(WORKER_ID),\n",
    "        ON DELETE CASCADE\n",
    ");\n",
    " \n",
    " \n",
    "INSERT INTO Bonus\n",
    "(WORKER_REF_ID, BONUS_AMOUNT,BONUS_DATE)VALUES\n",
    "(001,5000,'16-02-20'),\n",
    "(002,3000,'16-06-11'),\n",
    "(003,4000,'16-02-20'),\n",
    "(001,4500,'16-02-20'),\n",
    "(002,3500,'16-06-11');"
   ]
  },
  {
   "cell_type": "code",
   "execution_count": null,
   "id": "8d4caaec",
   "metadata": {},
   "outputs": [],
   "source": [
    "# Q8.Create a foreign key connection of bonus table with worker table:\n",
    "\n",
    "A foreign key is a column or set of columns in a table that are used to establish a link between\n",
    "data in two tables. In this case, you would want to create a foreign key connection between the \n",
    "\"bonus\" table and the \"worker\" table, using the \"WORKER_REF_ID\" column in the \"bonus\" table as the\n",
    "foreign key.\n",
    "\n",
    "Here is an example of an SQL query you could use to create a foreign key connection between the\n",
    "\"bonus\" table and the \"worker\" table:\n",
    "\n",
    "ALTER TABLE bonus\n",
    "ADD FOREIGN KEY (WORKER_REF_ID)\n",
    "REFERENCES worker(WORKER_REF_ID);\n",
    "\n",
    "\n",
    "This query adds a foreign key constraint to the \"bonus\" table, using the \"WORKER_REF_ID\" column in\n",
    "the \"bonus\" table as the foreign key and referencing the \"WORKER_REF_ID\" column in the \"worker\" table\n",
    "as the primary key.\n",
    "\n",
    "It's important to note that the exact syntax may vary depending on the specific database management\n",
    "system you are using. Also, you will need the appropriate permissions and access to the database in\n",
    "order to execute this query, and you should also be familiar with the database management system you \n",
    "are using.\n",
    "\n",
    "Foreign Key constraints also provide referential integrity, these constraints make sure that the data\n",
    "in the foreign key table is consistent with the data in the primary key table, it ensures that the\n",
    "data in the foreign key table cannot be deleted or updated if it's referenced by data in the primary\n",
    "key table."
   ]
  },
  {
   "cell_type": "code",
   "execution_count": null,
   "id": "24c9239c",
   "metadata": {},
   "outputs": [],
   "source": [
    "# Q9.Insert data in each column of the worker table:\n",
    "#    Where column name are WORKER_ID,FIRST_NAME,LAST_NAME,SALARY,JOINING_DATE,DEPARTMENT\n",
    "#    And the values:\n",
    "#    (001,'Monika','Arora',100000,'14-02-20 09.00.00','HR'),\n",
    "#         (002,'Niharika','Verma',80000,'14-06-11 09.00.00','Admin'),\n",
    "INSERT INTO worker table(WORKER_ID,FIRST_NAME,LAST_NAME,SALARY,JOINING_DATE,DEPARTMENT) \n",
    "VALUES \n",
    "    (001,'Monika','Arora',100000,'14-02-20 09.00.00','HR'),\n",
    "    (002,'Niharika','Verma',80000,'14-06-11 09.00.00','Admin');"
   ]
  },
  {
   "cell_type": "code",
   "execution_count": null,
   "id": "dbb45615",
   "metadata": {},
   "outputs": [],
   "source": [
    "# Q10.Create a sample table Worker with column name id, first name,last name,salary,joining date,\n",
    "#      department.\n",
    "CREATE TABLE Worker (Id,First_Name,Last_Name,Salary,Joining_Date,Department);"
   ]
  },
  {
   "cell_type": "code",
   "execution_count": null,
   "id": "8e016808",
   "metadata": {},
   "outputs": [],
   "source": [
    "# Q11.Create a sample table Worker with column name worker_id and worker_id will be not null and make\n",
    "#      it primary key with auto-increment functionality.\n",
    "CREATE TABLE Worker (Worker_Id INT NOT NULL PRIMARY KEY AUTO_INCREMENT);"
   ]
  },
  {
   "cell_type": "code",
   "execution_count": null,
   "id": "5f908c3f",
   "metadata": {},
   "outputs": [],
   "source": [
    "# Q12.Create a sample table test_table with column name first name and last name with CHAR(25),\n",
    "#      column type\n",
    "\n",
    "CREATE TEST_TABLE(FIRST_NAME CHAR(25), LAST_NAME CHAR(25)); "
   ]
  },
  {
   "cell_type": "code",
   "execution_count": null,
   "id": "f4510bb2",
   "metadata": {},
   "outputs": [],
   "source": [
    "# Q13.Write a query to use the database name ekeeda_students\n",
    "USE ekeeda_students;"
   ]
  },
  {
   "cell_type": "code",
   "execution_count": null,
   "id": "22ea7b52",
   "metadata": {},
   "outputs": [],
   "source": [
    "# Q14.Create a database in SQL:\n",
    "CREATE DATABASE mydatabase;\n"
   ]
  },
  {
   "cell_type": "code",
   "execution_count": null,
   "id": "28943207",
   "metadata": {},
   "outputs": [],
   "source": [
    "# Q15.Write a query to show the available databases\n",
    "SELECT schema_name\n",
    "FROM information_schema.schemata;"
   ]
  }
 ],
 "metadata": {
  "kernelspec": {
   "display_name": "Python 3 (ipykernel)",
   "language": "python",
   "name": "python3"
  },
  "language_info": {
   "codemirror_mode": {
    "name": "ipython",
    "version": 3
   },
   "file_extension": ".py",
   "mimetype": "text/x-python",
   "name": "python",
   "nbconvert_exporter": "python",
   "pygments_lexer": "ipython3",
   "version": "3.10.6"
  }
 },
 "nbformat": 4,
 "nbformat_minor": 5
}
