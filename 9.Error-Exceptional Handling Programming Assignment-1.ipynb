{
 "cells": [
  {
   "cell_type": "code",
   "execution_count": 3,
   "id": "a995e46c",
   "metadata": {},
   "outputs": [
    {
     "name": "stdout",
     "output_type": "stream",
     "text": [
      "Result: 2.5\n",
      "This will always be executed\n"
     ]
    }
   ],
   "source": [
    "# Q1.Is it possible to keep other statements in between 'try','catch',and 'finally' blocks?\n",
    "try:\n",
    "   x = 5\n",
    "   y = 2\n",
    "   result = x / y\n",
    "except ZeroDivisionError:\n",
    "   print(\"Cannot divide by zero\")\n",
    "else:\n",
    "   print(\"Result:\", result)\n",
    "finally:\n",
    "   print(\"This will always be executed\")\n"
   ]
  },
  {
   "cell_type": "code",
   "execution_count": 2,
   "id": "336d8381",
   "metadata": {},
   "outputs": [
    {
     "name": "stdout",
     "output_type": "stream",
     "text": [
      "Cannot divide by zero\n"
     ]
    }
   ],
   "source": [
    "# Q2.How to catch specific exception? Give one example\n",
    "try:\n",
    "   x = 5\n",
    "   y = 0\n",
    "   # code that may raise an exception\n",
    "   result = x / y\n",
    "except ZeroDivisionError:\n",
    "   # code to handle the ZeroDivisionError exception\n",
    "   print(\"Cannot divide by zero\")\n"
   ]
  },
  {
   "cell_type": "code",
   "execution_count": 4,
   "id": "600f29a2",
   "metadata": {},
   "outputs": [
    {
     "name": "stdout",
     "output_type": "stream",
     "text": [
      "Cannot divide by zero\n"
     ]
    }
   ],
   "source": [
    "# Q3.How to handle multiple exceptions with a single except clause?\n",
    "#Give one example, We can also handle multiple exceptions with a single clause that we can use tuple\n",
    "#of values to specify multiple exceptions in an except clause.\n",
    "try:\n",
    "   x = 5\n",
    "   y = 0\n",
    "   result = x / y\n",
    "except ZeroDivisionError:\n",
    "   print(\"Cannot divide by zero\")\n",
    "except TypeError:\n",
    "   print(\"Operand type not supported\")\n"
   ]
  },
  {
   "cell_type": "code",
   "execution_count": 13,
   "id": "1a789016",
   "metadata": {},
   "outputs": [
    {
     "name": "stdout",
     "output_type": "stream",
     "text": [
      "File closed\n"
     ]
    },
    {
     "ename": "FileNotFoundError",
     "evalue": "[Errno 2] No such file or directory: 'myfile.txt'",
     "output_type": "error",
     "traceback": [
      "\u001b[1;31m---------------------------------------------------------------------------\u001b[0m",
      "\u001b[1;31mFileNotFoundError\u001b[0m                         Traceback (most recent call last)",
      "Cell \u001b[1;32mIn [13], line 3\u001b[0m\n\u001b[0;32m      1\u001b[0m \u001b[38;5;66;03m# Q4.Try showing one example of Using try with finally\u001b[39;00m\n\u001b[0;32m      2\u001b[0m \u001b[38;5;28;01mtry\u001b[39;00m:\n\u001b[1;32m----> 3\u001b[0m    file \u001b[38;5;241m=\u001b[39m \u001b[38;5;28mopen\u001b[39m(\u001b[38;5;124m\"\u001b[39m\u001b[38;5;124mmyfile.txt\u001b[39m\u001b[38;5;124m\"\u001b[39m, \u001b[38;5;124m\"\u001b[39m\u001b[38;5;124mr\u001b[39m\u001b[38;5;124m\"\u001b[39m)\n\u001b[0;32m      4\u001b[0m    \u001b[38;5;66;03m# perform file operations\u001b[39;00m\n\u001b[0;32m      5\u001b[0m    file\u001b[38;5;241m.\u001b[39mclose()\n",
      "\u001b[1;31mFileNotFoundError\u001b[0m: [Errno 2] No such file or directory: 'myfile.txt'"
     ]
    }
   ],
   "source": [
    "# Q4.Try showing one example of Using try with finally\n",
    "try:\n",
    "   file = open(\"myfile.txt\", \"r\")\n",
    "   # perform file operations\n",
    "   file.close()\n",
    "finally:\n",
    "   print(\"File closed\")\n"
   ]
  },
  {
   "cell_type": "code",
   "execution_count": 24,
   "id": "838b3d4d",
   "metadata": {},
   "outputs": [
    {
     "name": "stdout",
     "output_type": "stream",
     "text": [
      "Enter salary amount: 5500\n"
     ]
    }
   ],
   "source": [
    "# Q5.How to Customize Exception Classes?\n",
    "class SalaryNotInRangeError(Exception):\n",
    "    \"\"\"Exception raised for errors in the input salary.\n",
    "\n",
    "    Attributes:\n",
    "        salary -- input salary which caused the error\n",
    "        message -- explanation of the error\n",
    "    \"\"\"\n",
    "\n",
    "    def __init__(self, salary, message=\"Salary is not in (5000, 15000) range\"):\n",
    "        self.salary = salary\n",
    "        self.message = message\n",
    "        super().__init__(self.message)\n",
    "\n",
    "\n",
    "salary = int(input(\"Enter salary amount: \"))\n",
    "if not 5000 < salary < 15000:\n",
    "    raise SalaryNotInRangeError(salary)"
   ]
  },
  {
   "cell_type": "code",
   "execution_count": 16,
   "id": "d1660d92",
   "metadata": {},
   "outputs": [
    {
     "name": "stdout",
     "output_type": "stream",
     "text": [
      "Error code: 100, message: A custom error message\n"
     ]
    }
   ],
   "source": [
    "try:\n",
    "    # code that may raise MyException\n",
    "    raise MyException(100, \"A custom error message\")\n",
    "except MyException as e:\n",
    "    print(e)\n"
   ]
  },
  {
   "cell_type": "code",
   "execution_count": 17,
   "id": "6d34c6de",
   "metadata": {},
   "outputs": [],
   "source": [
    "# Q6.Every syntax error is an exception but every exception cannot be a syntax error.justify the\n",
    "#  statement.\n",
    "The statement \"Every syntax error is an exception but every exception cannot be a syntax error\" is \n",
    "correct.\n",
    "\n",
    "A syntax error is a type of exception that occurs when the Python interpreter encounters a statement\n",
    "that it cannot parse according to the rules of the Python language. It indicates that there is an \n",
    "error in the structure of the code, such as a missing parenthesis or a mis-typed keyword. \n",
    "These errors are typically caught by the interpreter when the code is being parsed, before it is \n",
    "executed.\n",
    "\n",
    "On the other hand, an exception is a broader term that refers to any error that occurs during the\n",
    "execution of a program. This includes syntax errors, but also includes other types of errors such as \n",
    "runtime errors, logical errors, and external errors (e.g. file not found, network failure).\n",
    "\n",
    "Syntax errors are a specific type of exception that occur due to an error in the structure of the \n",
    "code, while other types of exceptions occur due to an error in the logic or execution of the code.\n",
    "\n",
    "In summary, every syntax error is an exception, as it occurs during the execution of a program, but \n",
    "not every exception is a syntax error, as there are other types of exceptions that can occur during \n",
    "the execution of a program such as logical errors, runtime errors, external errors, and so on."
   ]
  },
  {
   "cell_type": "code",
   "execution_count": 11,
   "id": "52119cef",
   "metadata": {},
   "outputs": [],
   "source": [
    "# Q7. When are the following  built-in exceptions raised? Give examples to support your \n",
    "# answers.a) importErrorb) IOErrorc) NameErrord) ZeroDivisionError\n",
    "a) ImportError: This exception is raised when an import statement fails to find the specified module\n",
    "    or package. For example, if you try to import a module that does not exist, or if the module \n",
    "    exists but the import statement has a typo in the module name.\n",
    "    try:\n",
    "    \n",
    "    import non_existent_module\n",
    "except ImportError:\n",
    "    print(\"Module not found\")\n",
    "    \n",
    "In this example, when the import non_existent_module statement is executed, an ImportError is \n",
    "raised because the module does not exist.\n",
    "\n",
    "b) IOError: This exception is raised when an input/output operation fails. For example, when \n",
    "    trying to open a file that does not exist or when trying to read from a closed file.\n",
    "    try:\n",
    "    \n",
    "    f = open(\"non_existent_file.txt\", \"r\")\n",
    "except IOError:\n",
    "    print(\"File not found\")\n",
    "    \n",
    "In this example, when the open(\"non_existent_file.txt\", \"r\") statement is executed, an IOError is\n",
    "raised because the file does not exist.\n",
    "\n",
    "c) NameError: This exception is raised when a local or global variable is not found. For example,\n",
    "    when trying to use a variable that has not been defined, or when a variable name has a typo.\n",
    "    try:\n",
    "    \n",
    "    print(non_existent_variable)\n",
    "except NameError:\n",
    "    print(\"Variable not found\")\n",
    "    \n",
    "In this example, when the print(non_existent_variable) statement is executed, a NameError is raised\n",
    "because the variable does not exist.\n",
    "\n",
    "d) ZeroDivisionError: This exception is raised when attempting to divide a number by zero. For \n",
    "    example:\n",
    "    try:\n",
    "    x = 5\n",
    "    y = 0\n",
    "    result = x / y\n",
    "except ZeroDivisionError:\n",
    "    print(\"Cannot divide by zero\")\n",
    "    \n",
    "In this example, when the result = x / y statement is executed, a ZeroDivisionError is raised \n",
    "because y is 0.\n",
    "\n",
    "It's worth noting that these are just examples and in practice, the exceptions can be raised in \n",
    "various other scenarios and by different statements.\n"
   ]
  },
  {
   "cell_type": "code",
   "execution_count": 18,
   "id": "e670923c",
   "metadata": {},
   "outputs": [
    {
     "name": "stdout",
     "output_type": "stream",
     "text": [
      "Enter the numerator: 21\n",
      "Enter the denominator: 3\n",
      "Quotient: 7.0\n"
     ]
    }
   ],
   "source": [
    "# Q8.What is the  use of a raise statement?\n",
    "# Write a code to accept two numbers and display the quotient. Appropriate exception should be\n",
    "#raised if the user enters the second number(denominator) as zero (0).\n",
    "\n",
    "A raise statement is used to raise an exception in Python. It allows you to manually raise an \n",
    "exception, rather than relying on the interpreter to raise an exception when an error occurs. \n",
    "This allows you to create more specific and meaningful error messages, and to handle errors in a \n",
    "more controlled way.\n",
    "\n",
    "Here is an example of a code that accepts two numbers and displays the quotient, while raising an\n",
    "exception if the user enters the second number (denominator) as zero:\n",
    "\n",
    "try:\n",
    "    num1 = float(input(\"Enter the numerator: \"))\n",
    "    num2 = float(input(\"Enter the denominator: \"))\n",
    "    if num2 == 0:\n",
    "        raise ValueError(\"The denominator cannot be zero\")\n",
    "    quotient = num1 / num2\n",
    "    print(\"Quotient:\", quotient)\n",
    "except ValueError as e:\n",
    "    print(e)\n",
    "\n",
    "    \n",
    "  In this example, the input() function is used to accept two numbers from the user. The code then\n",
    "checks if the second number is equal to zero, and if it is, it raises a ValueError exception with the\n",
    "message \"The denominator cannot be zero\". If no exception is raised, the code calculates the quotient\n",
    "and prints the result.\n",
    "If the denominator entered by the user is zero, the exception will be raised and the message \n",
    "\"The denominator cannot be zero\" will be printed. If the denominator entered is non-zero, the \n",
    "quotient will be calculated and displayed.\n",
    "\n",
    "This way, you can provide a meaningful message to the user about why the exception occurred, and\n",
    "also you can prevent the program from crashing.  "
   ]
  },
  {
   "cell_type": "code",
   "execution_count": 1,
   "id": "614b4fea",
   "metadata": {},
   "outputs": [
    {
     "name": "stdout",
     "output_type": "stream",
     "text": [
      "Enter the numerator: 16\n",
      "Enter the denominator: 4\n",
      "Quotient: 4.0\n"
     ]
    }
   ],
   "source": [
    "# Q9.Use assert statement in Question No.3 to test the division expression in the program.\n",
    "num1 = float(input(\"Enter the numerator: \"))\n",
    "num2 = float(input(\"Enter the denominator: \"))\n",
    "assert num2 != 0, \"The denominator cannot be zero\"\n",
    "quotient = num1 / num2\n",
    "print(\"Quotient:\", quotient)\n"
   ]
  },
  {
   "cell_type": "code",
   "execution_count": null,
   "id": "1d767f23",
   "metadata": {},
   "outputs": [],
   "source": [
    "# Q10.Defining the following:a) Exception Handling b) Throwing an exception c) Catching an exception \n",
    "\n",
    "a) Exception Handling: Exception handling is a process of handling and responding to errors that \n",
    "    occur during the execution of a program. When an error occurs, an exception is raised, and the\n",
    "    program can handle the exception using a try-except block. Exception handling allows you to \n",
    "    handle errors in a controlled way, and can help prevent your program from crashing.\n",
    "\n",
    "b) Throwing an exception: Throwing an exception refers to the process of raising an exception. When \n",
    "    an error occurs, the program can throw an exception to indicate that an error has occurred. This\n",
    "    is typically done using the raise keyword. For example, if a user inputs an invalid value, the\n",
    "    program can throw a ValueError exception to indicate that an error has occurred.\n",
    "\n",
    "c) Catching an exception: Catching an exception refers to the process of handling an exception that \n",
    "    has been thrown. This is typically done using a try-except block. When an exception is thrown, \n",
    "    the program will enter the except block and execute the code inside it. This allows the program\n",
    "    to handle the exception and take appropriate action, such as displaying an error message or\n",
    "    retrying the operation.\n"
   ]
  }
 ],
 "metadata": {
  "kernelspec": {
   "display_name": "Python 3 (ipykernel)",
   "language": "python",
   "name": "python3"
  },
  "language_info": {
   "codemirror_mode": {
    "name": "ipython",
    "version": 3
   },
   "file_extension": ".py",
   "mimetype": "text/x-python",
   "name": "python",
   "nbconvert_exporter": "python",
   "pygments_lexer": "ipython3",
   "version": "3.10.6"
  }
 },
 "nbformat": 4,
 "nbformat_minor": 5
}
