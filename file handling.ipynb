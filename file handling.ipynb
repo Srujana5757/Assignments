{
 "cells": [
  {
   "cell_type": "code",
   "execution_count": 3,
   "id": "beb67d4f",
   "metadata": {},
   "outputs": [
    {
     "name": "stdout",
     "output_type": "stream",
     "text": [
      "HHHHHHHHHHHHHHHHH HHHH HHHHHHHHHHHHHHHHHHHH\n"
     ]
    }
   ],
   "source": [
    "# File Handling, open file\n",
    "f1 = open(\"file1.txt\",\"r\")   \n",
    "print(f1.read())"
   ]
  },
  {
   "cell_type": "code",
   "execution_count": 6,
   "id": "aed36677",
   "metadata": {},
   "outputs": [
    {
     "name": "stdout",
     "output_type": "stream",
     "text": [
      "India vs Pakistan, T\n"
     ]
    }
   ],
   "source": [
    "# File Handling, open file\n",
    "f1 = open(\"file2.txt\",\"r\")   \n",
    "print(f1.read(20))"
   ]
  },
  {
   "cell_type": "code",
   "execution_count": 2,
   "id": "8ebdff4e",
   "metadata": {},
   "outputs": [
    {
     "name": "stdout",
     "output_type": "stream",
     "text": [
      "India vs Pakistan, T20 World Cup, Super 12, Group 2 Highlights: Virat Kohli played one of the memorable innings in the history of T20 World Cup as he played an unbeaten knock of 82 as India defeated Pakistan by four wickets in a last-ball thriller at the Melbourne Cricket Ground. India were in trouble throughout the chase of 160, but Kohli first played an anchor role, and then he took on the mantle of hitting the big ones, and in the end, it was his class that helped India triumph over Pakistan. Earlier, Arshdeep Singh and Hardik Pandya took three wickets each as India restricted Pakistan to 159/8 in 20 overs.(SCORECARD)\n"
     ]
    }
   ],
   "source": [
    "f1 = open(\"file2.txt\",\"r\")   \n",
    "print(f1.readline())"
   ]
  },
  {
   "cell_type": "code",
   "execution_count": 9,
   "id": "033ae72d",
   "metadata": {},
   "outputs": [
    {
     "name": "stdout",
     "output_type": "stream",
     "text": [
      "India vs Pakistan, T20 World Cup, Super 12, Group 2 Highlights: Virat Kohli played one of the memorable innings in the history of T20 World Cup as he played an unbeaten knock of 82 as India defeated Pakistan by four wickets in a last-ball thriller at the Melbourne Cricket Ground. India were in trouble throughout the chase of 160, but Kohli first played an anchor role, and then he took on the mantle of hitting the big ones, and in the end, it was his class that helped India triumph over Pakistan. Earlier, Arshdeep Singh and Hardik Pandya took three wickets each as India restricted Pakistan to 159/8 in 20 overs.(SCORECARD)\n"
     ]
    }
   ],
   "source": [
    "f1 = open(\"file2.txt\",\"r\")   \n",
    "print(f1.readline())\n",
    "f1.close()"
   ]
  },
  {
   "cell_type": "code",
   "execution_count": 10,
   "id": "fe5056d9",
   "metadata": {},
   "outputs": [
    {
     "ename": "ValueError",
     "evalue": "I/O operation on closed file.",
     "output_type": "error",
     "traceback": [
      "\u001b[1;31m---------------------------------------------------------------------------\u001b[0m",
      "\u001b[1;31mValueError\u001b[0m                                Traceback (most recent call last)",
      "Cell \u001b[1;32mIn [10], line 1\u001b[0m\n\u001b[1;32m----> 1\u001b[0m \u001b[38;5;28mprint\u001b[39m(f1\u001b[38;5;241m.\u001b[39mreadline())\n",
      "\u001b[1;31mValueError\u001b[0m: I/O operation on closed file."
     ]
    }
   ],
   "source": [
    "print(f1.readline())"
   ]
  },
  {
   "cell_type": "code",
   "execution_count": 16,
   "id": "2883b8ea",
   "metadata": {},
   "outputs": [],
   "source": [
    "f1 = open(\"file1.txt\",\"w\")   \n",
    "f1.write(\"HHHHHHHHHHHHHHHHH HHHH HHHHHHHHHHHHHHHHHHHH\")\n",
    "f1.close()"
   ]
  },
  {
   "cell_type": "code",
   "execution_count": 3,
   "id": "83872199",
   "metadata": {},
   "outputs": [
    {
     "ename": "PermissionError",
     "evalue": "[WinError 32] The process cannot access the file because it is being used by another process: 'file2.txt'",
     "output_type": "error",
     "traceback": [
      "\u001b[1;31m---------------------------------------------------------------------------\u001b[0m",
      "\u001b[1;31mPermissionError\u001b[0m                           Traceback (most recent call last)",
      "Cell \u001b[1;32mIn [3], line 2\u001b[0m\n\u001b[0;32m      1\u001b[0m \u001b[38;5;28;01mimport\u001b[39;00m \u001b[38;5;21;01mos\u001b[39;00m\n\u001b[1;32m----> 2\u001b[0m os\u001b[38;5;241m.\u001b[39mremove(\u001b[38;5;124m\"\u001b[39m\u001b[38;5;124mfile2.txt\u001b[39m\u001b[38;5;124m\"\u001b[39m)\n",
      "\u001b[1;31mPermissionError\u001b[0m: [WinError 32] The process cannot access the file because it is being used by another process: 'file2.txt'"
     ]
    }
   ],
   "source": [
    "import os\n",
    "os.remove(\"file2.txt\")"
   ]
  },
  {
   "cell_type": "code",
   "execution_count": 18,
   "id": "6f53a230",
   "metadata": {},
   "outputs": [
    {
     "name": "stdout",
     "output_type": "stream",
     "text": [
      "There is no such file\n"
     ]
    }
   ],
   "source": [
    "import os\n",
    "if os.path.exists(\"file2.txt\"):\n",
    "    os.remove(\"file2.txt\")\n",
    "else:\n",
    "    print(\"There is no such file\")"
   ]
  },
  {
   "cell_type": "code",
   "execution_count": null,
   "id": "2d27ee46",
   "metadata": {},
   "outputs": [],
   "source": [
    "# delete a folder\n",
    "import os\n",
    "os.rmdir(\"\")"
   ]
  }
 ],
 "metadata": {
  "kernelspec": {
   "display_name": "Python 3 (ipykernel)",
   "language": "python",
   "name": "python3"
  },
  "language_info": {
   "codemirror_mode": {
    "name": "ipython",
    "version": 3
   },
   "file_extension": ".py",
   "mimetype": "text/x-python",
   "name": "python",
   "nbconvert_exporter": "python",
   "pygments_lexer": "ipython3",
   "version": "3.10.6"
  }
 },
 "nbformat": 4,
 "nbformat_minor": 5
}
