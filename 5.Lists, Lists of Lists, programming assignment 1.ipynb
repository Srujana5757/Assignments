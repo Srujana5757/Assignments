{
 "cells": [
  {
   "cell_type": "code",
   "execution_count": 1,
   "id": "255e7404",
   "metadata": {},
   "outputs": [
    {
     "name": "stdout",
     "output_type": "stream",
     "text": [
      "How many elements you want to enter? 7\n",
      "Enter 7 elements\n",
      "10\n",
      "20\n",
      "30\n",
      "40\n",
      "50\n",
      "60\n",
      "70\n",
      "Alternate elements are:\n",
      "10\n",
      "30\n",
      "50\n",
      "70\n"
     ]
    }
   ],
   "source": [
    "# Q1 Write a program that accepts a list from the from the user and print the alternate element of the list.\n",
    "mylist = []\n",
    "size = int(input('How many elements you want to enter? '))\n",
    "\n",
    "print('Enter',str(size),'elements')\n",
    "\n",
    "for i in range(size):\n",
    "    data = int(input())\n",
    "    mylist.append(data)\n",
    "\n",
    "print('Alternate elements are:')\n",
    "\n",
    "for i in range(0,size,2):\n",
    "    print(mylist[i])\n"
   ]
  },
  {
   "cell_type": "code",
   "execution_count": 2,
   "id": "b0003fc1",
   "metadata": {},
   "outputs": [
    {
     "name": "stdout",
     "output_type": "stream",
     "text": [
      "enter the total number of strings :5\n",
      "enter some random string or word :\n",
      "one\n",
      "enter some random string or word :\n",
      "two\n",
      "enter some random string or word :\n",
      "three\n",
      "enter some random string or word :\n",
      "four\n",
      "enter some random string or word :\n",
      "five\n",
      "Printing the longest length word :\n",
      "three\n"
     ]
    }
   ],
   "source": [
    "# Q2 Write a python program to input a list of strings,return the maximum length of strings.\n",
    "# Taking a empty list\n",
    "listWords = []\n",
    "# scanning the number of strings\n",
    "numb = int(input(\"enter the total number of strings :\"))\n",
    "# Using for loop\n",
    "for i in range(numb):\n",
    "    elem = input(\"enter some random string or word :\\n\")\n",
    "    listWords.append(elem)\n",
    "# taking the first element length as max length word\n",
    "maxLength = len(listWords[0])\n",
    "# Initializing a temp variable which stores the first word\n",
    "word = listWords[0]\n",
    "# Traversing the words list\n",
    "for i in listWords:\n",
    "    if(len(i) > maxLength):\n",
    "        maxLength = len(i)\n",
    "        word = i\n",
    "print(\"Printing the longest length word :\")\n",
    "print(word)"
   ]
  },
  {
   "cell_type": "code",
   "execution_count": 8,
   "id": "f0fd1dc7",
   "metadata": {},
   "outputs": [
    {
     "name": "stdout",
     "output_type": "stream",
     "text": [
      "Original List\n",
      "(5, 7, 9, 11, 13)\n",
      "Rotated List\n",
      "(13, 5, 7, 9, 11)\n"
     ]
    }
   ],
   "source": [
    "# Q3.Write a program rotates the elements of a list so that the element at the first index moves to the second index, the element in the second index moves to the third index, etc., and the element in the last index moves to the first index.\n",
    "#l = eval(input(\"Enter the list: \"))\n",
    "l = (5,7,9,11,13)\n",
    "print(\"Original List\")\n",
    "print(l)\n",
    "\n",
    "l = l[-1:] + l[:-1]\n",
    "\n",
    "print(\"Rotated List\")\n",
    "print(l)"
   ]
  },
  {
   "cell_type": "code",
   "execution_count": 11,
   "id": "4dd4cf28",
   "metadata": {},
   "outputs": [
    {
     "name": "stdout",
     "output_type": "stream",
     "text": [
      "\n",
      "Finding Sum of row:\n",
      "\n"
     ]
    },
    {
     "ename": "NameError",
     "evalue": "name 'arr' is not defined",
     "output_type": "error",
     "traceback": [
      "\u001b[1;31m---------------------------------------------------------------------------\u001b[0m",
      "\u001b[1;31mNameError\u001b[0m                                 Traceback (most recent call last)",
      "Cell \u001b[1;32mIn [11], line 18\u001b[0m\n\u001b[0;32m     14\u001b[0m \u001b[38;5;28;01mfor\u001b[39;00m i \u001b[38;5;129;01min\u001b[39;00m \u001b[38;5;28mrange\u001b[39m(m) :\n\u001b[0;32m     15\u001b[0m \t\u001b[38;5;28;01mfor\u001b[39;00m j \u001b[38;5;129;01min\u001b[39;00m \u001b[38;5;28mrange\u001b[39m(n) :\n\u001b[0;32m     16\u001b[0m \n\u001b[0;32m     17\u001b[0m \t\t\t\u001b[38;5;66;03m# Add the element\u001b[39;00m\n\u001b[1;32m---> 18\u001b[0m             \u001b[38;5;28msum\u001b[39m \u001b[38;5;241m+\u001b[39m\u001b[38;5;241m=\u001b[39m arr[i][j]\n\u001b[0;32m     20\u001b[0m \u001b[38;5;66;03m# Print the row sum\u001b[39;00m\n\u001b[0;32m     21\u001b[0m \u001b[38;5;28mprint\u001b[39m(\u001b[38;5;124m\"\u001b[39m\u001b[38;5;124mSum of the row\u001b[39m\u001b[38;5;124m\"\u001b[39m,i,\u001b[38;5;124m\"\u001b[39m\u001b[38;5;124m=\u001b[39m\u001b[38;5;124m\"\u001b[39m,\u001b[38;5;28msum\u001b[39m)\n",
      "\u001b[1;31mNameError\u001b[0m: name 'arr' is not defined"
     ]
    }
   ],
   "source": [
    "# Q4 Find the sum of each row of matrix of size m x n. For example for the following matrix output will be like this:\n",
    "# Sum of row 1 = 32\n",
    "# Sum of row 2 = 31\n",
    "# Sum of row 3 = 63\n",
    "import numpy as np \n",
    "m , n = 4, 4\t\n",
    "def row_sum(arr) :\n",
    "\n",
    "\tsum = 0\n",
    "\n",
    "print(\"\\nFinding Sum of row:\\n\")\n",
    "\n",
    "\t# finding the row sum\n",
    "for i in range(m) :\n",
    "\tfor j in range(n) :\n",
    "\n",
    "\t\t\t# Add the element\n",
    "            sum += arr[i][j]\n",
    "\n",
    "# Print the row sum\n",
    "print(\"Sum of the row\",i,\"=\",sum)\n",
    "sum=0"
   ]
  },
  {
   "cell_type": "code",
   "execution_count": 4,
   "id": "250fe31a",
   "metadata": {},
   "outputs": [
    {
     "name": "stdout",
     "output_type": "stream",
     "text": [
      "[17, 15, 4]\n",
      "[10, 12, 9]\n",
      "[11, 13, 18]\n"
     ]
    }
   ],
   "source": [
    "# Q5 Write a program to add two matrices of size n x m.\n",
    "# Program to add two matrices using list comprehension\n",
    "\n",
    "X = [[12,7,3],\n",
    "    [4 ,5,6],\n",
    "    [7 ,8,9]]\n",
    "\n",
    "Y = [[5,8,1],\n",
    "    [6,7,3],\n",
    "    [4,5,9]]\n",
    "\n",
    "result = [[X[i][j] + Y[i][j]  for j in range(len(X[0]))] for i in range(len(X))]\n",
    "\n",
    "for r in result:\n",
    "   print(r)"
   ]
  },
  {
   "cell_type": "code",
   "execution_count": 12,
   "id": "3f3e75bc",
   "metadata": {},
   "outputs": [
    {
     "name": "stdout",
     "output_type": "stream",
     "text": [
      "[114, 160, 60, 27]\n",
      "[74, 97, 73, 14]\n",
      "[119, 157, 112, 23]\n"
     ]
    }
   ],
   "source": [
    "# Q6 Write a program to multiply two matrices.\n",
    "# Program to multiply two matrices using nested loops\n",
    "\n",
    "# 3x3 matrix\n",
    "X = [[12,7,3],\n",
    "    [4 ,5,6],\n",
    "    [7 ,8,9]]\n",
    "# 3x4 matrix\n",
    "Y = [[5,8,1,2],\n",
    "    [6,7,3,0],\n",
    "    [4,5,9,1]]\n",
    "# result is 3x4\n",
    "result = [[0,0,0,0],\n",
    "         [0,0,0,0],\n",
    "         [0,0,0,0]]\n",
    "\n",
    "# iterate through rows of X\n",
    "for i in range(len(X)):\n",
    "   # iterate through columns of Y\n",
    "   for j in range(len(Y[0])):\n",
    "       # iterate through rows of Y\n",
    "       for k in range(len(Y)):\n",
    "           result[i][j] += X[i][k] * Y[k][j]\n",
    "\n",
    "for r in result:\n",
    "   print(r)"
   ]
  },
  {
   "cell_type": "code",
   "execution_count": 6,
   "id": "70bada17",
   "metadata": {},
   "outputs": [
    {
     "name": "stdout",
     "output_type": "stream",
     "text": [
      "1 1\n",
      "1 1\n",
      "1 1\n",
      "1 1\n",
      "1 1\n",
      "1 1\n",
      "6\n"
     ]
    }
   ],
   "source": [
    "# Q7 Give a list of N integers,and an integer K, find the number of pairs of elements in the array whose sum is equal to K.\n",
    "def countpairs(x,length,sum):\n",
    "    count = 0\n",
    "    for i in range(0,length):\n",
    "       for j in range(i+1,length):\n",
    "            print(x[i],x[j])   \n",
    "            if(x[i]+x[j]==sum):\n",
    "                count+=1\n",
    "    print(count)\n",
    "\n",
    "\n",
    "x  = [1, 1, 1, 1]\n",
    "sum = 2\n",
    "length=len(x)\n",
    "countpairs(x,length,sum)"
   ]
  },
  {
   "cell_type": "code",
   "execution_count": 1,
   "id": "450cb3c9",
   "metadata": {},
   "outputs": [
    {
     "name": "stdout",
     "output_type": "stream",
     "text": [
      "Enter two equal sized lists\n",
      "Enter first list: 100,80,60,40,20\n",
      "Enter second list: 100,90,60,40,20\n",
      "Lists differ at index 1\n"
     ]
    }
   ],
   "source": [
    "# Q8 python program to compare two equal sized list and print the first index where they differ.\n",
    "print(\"Enter two equal sized lists\")\n",
    "l1 = eval(input(\"Enter first list: \"))\n",
    "l2 = eval(input(\"Enter second list: \"))\n",
    "\n",
    "for i in range(len(l1)):\n",
    "    if l1[i] != l2[i]:\n",
    "        print(\"Lists differ at index\", i)\n",
    "        break;\n",
    "else:\n",
    "    print(\"Lists are equal\")"
   ]
  },
  {
   "cell_type": "code",
   "execution_count": 3,
   "id": "4762db87",
   "metadata": {},
   "outputs": [
    {
     "name": "stdout",
     "output_type": "stream",
     "text": [
      "Repeating Number:  5\n"
     ]
    }
   ],
   "source": [
    "# Q9 find out the first repeating element in a list.\n",
    "def find_repeat(arr,n):\n",
    "    final_array = [0 for i in range(n)]\n",
    "    l = [0,0]\n",
    "    for i in arr:\n",
    "        if(final_array[i-1]==1):\n",
    "            l[0] = i\n",
    "        else:\n",
    "            final_array[i-1] = 1\n",
    "    for i in range(len(final_array)):\n",
    "        if(final_array[i]==0):\n",
    "            l[1] = i+1\n",
    "    return l\n",
    " \n",
    "x = find_repeat([1,2,4,5,5,6],6)\n",
    "print(\"Repeating Number: \",x[0])"
   ]
  },
  {
   "cell_type": "code",
   "execution_count": 18,
   "id": "509b3f9a",
   "metadata": {},
   "outputs": [
    {
     "name": "stdout",
     "output_type": "stream",
     "text": [
      "Original list:\n",
      "[10, 20, 30, 40]\n",
      "S\n",
      "[[], [10], [20], [30], [40], [10, 20], [10, 30], [10, 40], [20, 30], [20, 40], [30, 40], [10, 20, 30], [10, 20, 40], [10, 30, 40], [20, 30, 40], [10, 20, 30, 40]]\n",
      "Sublists of the said list:\n",
      "[[], [10], [20], [30], [40], [10, 20], [10, 30], [10, 40], [20, 30], [20, 40], [30, 40], [10, 20, 30], [10, 20, 40], [10, 30, 40], [20, 30, 40], [10, 20, 30, 40]]\n",
      "\n",
      "Original list:\n",
      "['X', 'Y', 'Z']\n",
      "Sublists of the said list:\n",
      "[[], ['X'], ['Y'], ['Z'], ['X', 'Y'], ['X', 'Z'], ['Y', 'Z'], ['X', 'Y', 'Z']]\n"
     ]
    }
   ],
   "source": [
    "# Q10.Given an unsorted list A of size N that contains only non-negative integers,find a continuous \n",
    "#  sub-list which adds to a given number S.\n",
    "#   In case of multiple sub-lists, return the sub-list which comes first on moving from left to right.\n",
    "#N = 5, S = 12\n",
    "from itertools import combinations\n",
    "def sub_lists(my_list):\n",
    "\tsubs = []\n",
    "\tfor i in range(0, len(my_list)+1):\n",
    "\t  temp = [list(x) for x in combinations(my_list, i)]\n",
    "\t  if len(temp)>0:\n",
    "\t    subs.extend(temp)\n",
    "\treturn subs\n",
    "\n",
    "\n",
    "l1 = [10, 20, 30, 40]\n",
    "l2 = ['X', 'Y', 'Z']\n",
    "print(\"Original list:\")\n",
    "print(l1)\n",
    "print(\"S\")\n",
    "print(sub_lists(l1))\n",
    "print(\"Sublists of the said list:\")\n",
    "print(sub_lists(l1))\n",
    "print(\"\\nOriginal list:\")\n",
    "print(l2)\n",
    "print(\"Sublists of the said list:\")\n",
    "print(sub_lists(l2))"
   ]
  },
  {
   "cell_type": "code",
   "execution_count": 5,
   "id": "e135e998",
   "metadata": {},
   "outputs": [
    {
     "name": "stdout",
     "output_type": "stream",
     "text": [
      "Given list :  [1, 5, 6, 7, 11, 14]\n",
      "Missing elements from the list : [2, 3, 4, 8, 9, 10, 12, 13]\n"
     ]
    }
   ],
   "source": [
    "# Q11 find missing numbers in sorted list range.\n",
    "listA = [1,5,6, 7,11,14]\n",
    "\n",
    "# printing original list\n",
    "print(\"Given list : \",listA)\n",
    "\n",
    "# using zip\n",
    "res = []\n",
    "for m,n in zip(listA,listA[1:]):\n",
    "   if n - m > 1:\n",
    "      for i in range(m+1,n):\n",
    "         res.append(i)\n",
    "\n",
    "# Result\n",
    "print(\"Missing elements from the list :\" ,res) "
   ]
  },
  {
   "cell_type": "code",
   "execution_count": 6,
   "id": "63139d66",
   "metadata": {},
   "outputs": [
    {
     "name": "stdout",
     "output_type": "stream",
     "text": [
      "Length of the Longest contiguous subsequence is 3\n"
     ]
    }
   ],
   "source": [
    "# Q12 Given a list of integers.Find the length of the longest sub-sequence such that elements\n",
    "#  in the subsequence are consecutive integers, the concecutive numbers can be in any order.\n",
    "\n",
    "\n",
    "def findLongestConseqSubseq(arr, n):\n",
    " \n",
    "    ans = 0\n",
    "    count = 0\n",
    " \n",
    "    # Sort the array\n",
    "    arr.sort()\n",
    " \n",
    "    v = []\n",
    " \n",
    "    v.append(arr[0])\n",
    " \n",
    "    # Insert repeated elements only\n",
    "    # once in the vector\n",
    "    for i in range(1, n):\n",
    "        if (arr[i] != arr[i - 1]):\n",
    "            v.append(arr[i])\n",
    " \n",
    "    # Find the maximum length\n",
    "    # by traversing the array\n",
    "    for i in range(len(v)):\n",
    " \n",
    "        # Check if the current element is\n",
    "        # equal to previous element +1\n",
    "        if (i > 0 and v[i] == v[i - 1] + 1):\n",
    "            count += 1\n",
    " \n",
    "        # Reset the count\n",
    "        else:\n",
    "            count = 1\n",
    " \n",
    "        # Update the maximum\n",
    "        ans = max(ans, count)\n",
    " \n",
    "    return ans\n",
    " \n",
    " \n",
    "# Driver code\n",
    "arr = [1, 2, 2, 3]\n",
    "n = len(arr)\n",
    " \n",
    "print(\"Length of the Longest contiguous subsequence is\",\n",
    "      findLongestConseqSubseq(arr, n))\n",
    " \n",
    "# This code is contributed by avanitrachhadiya2155"
   ]
  },
  {
   "cell_type": "code",
   "execution_count": 8,
   "id": "ec67b49d",
   "metadata": {},
   "outputs": [
    {
     "name": "stdout",
     "output_type": "stream",
     "text": [
      "The original list 1 is : ['She', 'is', 'best']\n",
      "The original list 2 is : ['love', 'MSR']\n",
      "The paired combinations : ['She love', 'She MSR', 'is love', 'is MSR', 'best love', 'best MSR']\n"
     ]
    }
   ],
   "source": [
    "# Q13 Concatenate every element across lists using list comprehension.\n",
    "# Python3 code to demonstrate working of\n",
    "# All elements concatenation across lists\n",
    "# Using list comprehension\n",
    " \n",
    "# initializing lists\n",
    "test_list1 = [\"She\", \"is\", \"best\"]\n",
    "test_list2 = [\"love\", \"MSR\"]\n",
    " \n",
    "# printing original lists\n",
    "print(\"The original list 1 is : \" + str(test_list1))\n",
    "print(\"The original list 2 is : \" + str(test_list2))\n",
    " \n",
    "# forming pairs\n",
    "temp = [(a, b) for a in test_list1 for b in test_list2]\n",
    " \n",
    "# performing concatenation\n",
    "res = [x + ' ' + y for (x, y) in temp]\n",
    " \n",
    "# printing result\n",
    "print(\"The paired combinations : \" + str(res))"
   ]
  },
  {
   "cell_type": "code",
   "execution_count": 9,
   "id": "f69252dc",
   "metadata": {},
   "outputs": [
    {
     "name": "stdout",
     "output_type": "stream",
     "text": [
      "8 has occurred 5 times\n"
     ]
    }
   ],
   "source": [
    "# Q14 Count Occurrence of repeated elements in lists .\n",
    "# Python code to count the number of occurrences\n",
    "def countX(lst, x):\n",
    "    return lst.count(x)\n",
    " \n",
    " \n",
    "# Driver Code\n",
    "lst = [8, 6, 8, 10, 8, 20, 10, 8, 8]\n",
    "x = 8\n",
    "print('{} has occurred {} times'.format(x,\n",
    "                                        countX(lst, x)))"
   ]
  },
  {
   "cell_type": "code",
   "execution_count": 1,
   "id": "52b90dcb",
   "metadata": {},
   "outputs": [
    {
     "name": "stdout",
     "output_type": "stream",
     "text": [
      "[15, 14, 13, 12, 11, 10]\n"
     ]
    }
   ],
   "source": [
    "\n",
    "# Q15 Reverse a list using slice.\n",
    "# Reversing a list using slicing technique\n",
    "def Reverse(lst):\n",
    "    new_lst = lst[::-1]\n",
    "    return new_lst\n",
    " \n",
    " \n",
    "lst = [10, 11, 12, 13, 14, 15]\n",
    "print(Reverse(lst))"
   ]
  },
  {
   "cell_type": "code",
   "execution_count": null,
   "id": "3a57254f",
   "metadata": {},
   "outputs": [],
   "source": []
  }
 ],
 "metadata": {
  "kernelspec": {
   "display_name": "Python 3 (ipykernel)",
   "language": "python",
   "name": "python3"
  },
  "language_info": {
   "codemirror_mode": {
    "name": "ipython",
    "version": 3
   },
   "file_extension": ".py",
   "mimetype": "text/x-python",
   "name": "python",
   "nbconvert_exporter": "python",
   "pygments_lexer": "ipython3",
   "version": "3.10.6"
  }
 },
 "nbformat": 4,
 "nbformat_minor": 5
}
