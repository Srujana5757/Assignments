{
 "cells": [
  {
   "cell_type": "code",
   "execution_count": 14,
   "id": "91838eb8",
   "metadata": {},
   "outputs": [
    {
     "name": "stdout",
     "output_type": "stream",
     "text": [
      "Input lengths of the triangle sides: \n",
      "x: 6\n",
      "y: 8\n",
      "z: 12\n",
      "Scalene triangle\n"
     ]
    }
   ],
   "source": [
    "# Q1 Accept three sides of a triangle and check whether it is an equilateral, isosceles or scalene triangle.\n",
    "# Note:\n",
    "# An equilateral triangle is a triangle in which all three sides are equal.\n",
    "# A scalene triangle is a triangle with (at least) two equal sides.\n",
    "# An isosceles triangle is a triangle with (at least) two equal sides.\n",
    "print(\"Input lengths of the triangle sides: \")\n",
    "x = int(input(\"x: \"))\n",
    "y = int(input(\"y: \"))\n",
    "z = int(input(\"z: \"))\n",
    "\n",
    "if x == y == z:\n",
    "\tprint(\"Equilateral triangle\")\n",
    "elif x==y or y==z or z==x:\n",
    "\tprint(\"isosceles triangle\")\n",
    "else:\n",
    "\tprint(\"Scalene triangle\")\n"
   ]
  },
  {
   "cell_type": "code",
   "execution_count": 1,
   "id": "f4f6bd40",
   "metadata": {},
   "outputs": [
    {
     "name": "stdout",
     "output_type": "stream",
     "text": [
      "Please Enter any Number: 123456789\n",
      "The Last Digit in a Given Number 123456789 = 9\n"
     ]
    }
   ],
   "source": [
    "#  Q2 write a program to display last digit of a number.\n",
    "# hint : any number % 10 will return the last digit.\n",
    "# Python Program to find the Last Digit in a Number.\n",
    "\n",
    "def lastDigit(num):\n",
    "    return num % 10\n",
    "\n",
    "number = int(input(\"Please Enter any Number: \"))                               # Q2 \n",
    "\n",
    "last_digit = lastDigit(number)\n",
    "\n",
    "print(\"The Last Digit in a Given Number %d = %d\" %(number, last_digit))"
   ]
  },
  {
   "cell_type": "code",
   "execution_count": 2,
   "id": "0f250050",
   "metadata": {},
   "outputs": [
    {
     "name": "stdout",
     "output_type": "stream",
     "text": [
      "Enter a number:149\n",
      "9 is divisible by 3 \n"
     ]
    }
   ],
   "source": [
    "# Q3 write a program to check whether the last digit of a number(enterd by user) is divisible by 3 or not.\n",
    "num=int(input(\"Enter a number:\"))\n",
    "last_digit=num%10\n",
    "if(last_digit%3==0):\n",
    "    print(\"{} is divisible by 3 \".format(last_digit))\n",
    "else:\n",
    "    print(\"{} is not divisible by 3\".format(last_digit))"
   ]
  },
  {
   "cell_type": "code",
   "execution_count": 1,
   "id": "dba9b9d6",
   "metadata": {},
   "outputs": [
    {
     "name": "stdout",
     "output_type": "stream",
     "text": [
      "13 is a prime number\n"
     ]
    }
   ],
   "source": [
    "# Q4 write a python code to check whether 13 is a prime number or not?\n",
    "\n",
    "num = 13\n",
    "\n",
    "# To take input from the user\n",
    "#num = int(input(\"Enter a number: \"))\n",
    "\n",
    "# prime numbers are greater than 1\n",
    "if num > 1:\n",
    "   # check for factors\n",
    "   for i in range(2,num):\n",
    "       if (num % i) == 0:\n",
    "           print(num,\"is not a prime number\")\n",
    "           print(i,\"times\",num//i,\"is\",num)\n",
    "           break\n",
    "   else:\n",
    "       print(num,\"is a prime number\")\n",
    "       \n",
    "# if input number is less than\n",
    "# or equal to 1, it is not prime\n",
    "else:\n",
    "   print(num,\"is not a prime number\")"
   ]
  },
  {
   "cell_type": "code",
   "execution_count": 11,
   "id": "7344312a",
   "metadata": {},
   "outputs": [
    {
     "name": "stdout",
     "output_type": "stream",
     "text": [
      "2.0\n",
      "Cube root of 27 is 3.0\n",
      "49\n",
      "7.0\n"
     ]
    }
   ],
   "source": [
    "# Q5 Write a python program for the following:\n",
    "# a.if x is a even and positive take a square root,\n",
    "# b.if x is a odd and positive take cube root\n",
    "# c.if x is negative , take absolute of it and then take square root of it.\n",
    "import math as mt\n",
    "# a.\n",
    "x=mt.sqrt(4)\n",
    "print(x)\n",
    "# b.\n",
    "x = 27\n",
    "print(\"Cube root of\",x,\"is\",x**(1/3))\n",
    "# c.\n",
    "x = -49\n",
    "print(abs(x))\n",
    "x = mt.sqrt(49)\n",
    "print(x)"
   ]
  },
  {
   "cell_type": "code",
   "execution_count": 12,
   "id": "147d8b60",
   "metadata": {},
   "outputs": [
    {
     "name": "stdout",
     "output_type": "stream",
     "text": [
      "Input your birth year: 1990\n",
      "Your Zodiac sign : Horse\n"
     ]
    }
   ],
   "source": [
    "# Q6 Write a python program to display the sign of the Chinese Zodiac for given year in which you were born.\n",
    "# (year-0-zodiac sign-dragon\n",
    "# 1-snake,2-horse,3-sheep,4-monkey,5-rooster,6-dog,7-pig,8-rat,9-ox,10-tiger)\n",
    "year = int(input(\"Input your birth year: \"))\n",
    "if (year - 2000) % 12 == 0:\n",
    "    sign = 'Dragon'\n",
    "elif (year - 2000) % 12 == 1:\n",
    "    sign = 'Snake'\n",
    "elif (year - 2000) % 12 == 2:\n",
    "    sign = 'Horse'\n",
    "elif (year - 2000) % 12 == 3:\n",
    "    sign = 'sheep'\n",
    "elif (year - 2000) % 12 == 4:\n",
    "    sign = 'Monkey'\n",
    "elif (year - 2000) % 12 == 5:\n",
    "    sign = 'Rooster'\n",
    "elif (year - 2000) % 12 == 6:\n",
    "    sign = 'Dog'\n",
    "elif (year - 2000) % 12 == 7:\n",
    "    sign = 'Pig'\n",
    "elif (year - 2000) % 12 == 8:\n",
    "    sign = 'Rat'\n",
    "elif (year - 2000) % 12 == 9:\n",
    "    sign = 'Ox'\n",
    "elif (year - 2000) % 12 == 10:\n",
    "    sign = 'Tiger'\n",
    "else:\n",
    "    sign = 'Hare'\n",
    "\n",
    "print(\"Your Zodiac sign :\",sign)\n"
   ]
  },
  {
   "cell_type": "code",
   "execution_count": 15,
   "id": "7c764123",
   "metadata": {},
   "outputs": [
    {
     "name": "stdout",
     "output_type": "stream",
     "text": [
      "Enter a number: 2\n",
      "Positive number\n"
     ]
    }
   ],
   "source": [
    "# Q7 write a program to check whether a number is positive, negative or Zero (use if-elif)\n",
    "num = float(input(\"Enter a number: \"))\n",
    "if num > 0:\n",
    "   print(\"Positive number\")\n",
    "elif num == 0:\n",
    "   print(\"Zero\")\n",
    "elif num == 0:\n",
    "   print(\"Negative number\")\n"
   ]
  },
  {
   "cell_type": "code",
   "execution_count": 16,
   "id": "9033047b",
   "metadata": {},
   "outputs": [
    {
     "name": "stdout",
     "output_type": "stream",
     "text": [
      "4\n"
     ]
    }
   ],
   "source": [
    "# Q8 write a code to print the maximum of two numbers(use if-else).\n",
    "# Python program to find the\n",
    "# maximum of two numbers\n",
    " \n",
    " \n",
    "def maximum(a, b):\n",
    "                                                         # method 1\n",
    "    if a >= b:\n",
    "        return a\n",
    "    else:\n",
    "        return b\n",
    "     \n",
    "# Driver code\n",
    "a = 2\n",
    "b = 4\n",
    "print(maximum(a, b))"
   ]
  },
  {
   "cell_type": "code",
   "execution_count": null,
   "id": "f781cd14",
   "metadata": {},
   "outputs": [],
   "source": [
    "# Q8 write a code to print the maximum of two numbers(use if-else).\n",
    "# Python program to find the\n",
    "# maximum of two numbers\n",
    "\n",
    "\n",
    "# Python program to find the\n",
    "# maximum of two numbers                                   # method 2 (using max() function)\n",
    " \n",
    " \n",
    "a = 2\n",
    "b = 4\n",
    " \n",
    "maximum = max(a, b)\n",
    "print(maximum)"
   ]
  },
  {
   "cell_type": "code",
   "execution_count": 17,
   "id": "0f62525a",
   "metadata": {},
   "outputs": [
    {
     "name": "stdout",
     "output_type": "stream",
     "text": [
      "4\n"
     ]
    }
   ],
   "source": [
    "# Q8 write a code to print the maximum of two numbers(use if-else).\n",
    "# Python program to find the\n",
    "# maximum of two numbers\n",
    "\n",
    "\n",
    "# Python program to find the\n",
    "# maximum of two numbers\n",
    "     \n",
    "# Driver code                                                     # method 3 ( using Ternary operator)\n",
    "a = 2\n",
    "b = 4\n",
    " \n",
    "# Use of ternary operator\n",
    "print(a if a >= b else b)\n",
    " \n",
    "# This code is contributed by AnkThon"
   ]
  },
  {
   "cell_type": "code",
   "execution_count": 18,
   "id": "7ab0ad41",
   "metadata": {},
   "outputs": [
    {
     "name": "stdout",
     "output_type": "stream",
     "text": [
      "4 is a maximum number\n"
     ]
    }
   ],
   "source": [
    "# Q8 write a code to print the maximum of two numbers(use if-else).\n",
    "# Python program to find the\n",
    "# maximum of two numbers\n",
    "\n",
    "# python code to find maximum of two numbers                     # method 4 (using lambda function)\n",
    " \n",
    "a=2;b=4\n",
    "maximum = lambda a,b:a if a > b else b\n",
    "print(f'{maximum(a,b)} is a maximum number')"
   ]
  },
  {
   "cell_type": "code",
   "execution_count": 19,
   "id": "72ac9bd9",
   "metadata": {},
   "outputs": [
    {
     "name": "stdout",
     "output_type": "stream",
     "text": [
      "maximum number is: [4]\n"
     ]
    }
   ],
   "source": [
    "# Q8 write a code to print the maximum of two numbers(use if-else).\n",
    "# Python program to find the\n",
    "# maximum of two numbers\n",
    "                                                                  # method 5 (using list comprehension)\n",
    "a=2;b=4\n",
    "x=[a if a>b else b]\n",
    "print(\"maximum number is:\",x)"
   ]
  },
  {
   "cell_type": "code",
   "execution_count": 20,
   "id": "bcd66593",
   "metadata": {},
   "outputs": [
    {
     "name": "stdout",
     "output_type": "stream",
     "text": [
      "Enter any Positive Number: 17\n",
      "Given Number 17 is Not Divisible by 3 and 7\n"
     ]
    }
   ],
   "source": [
    "# example: # Q9 write a program to check whether a given number is multiple of 7 (use if statement)\n",
    "# Python Program to Check if a Number is Divisible by 3 and 7 or Not\n",
    "\n",
    "# Take the Input From the User\n",
    "number = int(input(\"Enter any Positive Number: \"))\n",
    "\n",
    "if((number % 3 == 0) and (number % 7 == 0)):\n",
    "    print(\"Given Number {0} is Divisible by 3 and 7\".format(number))\n",
    "else:\n",
    "    print(\"Given Number {0} is Not Divisible by 3 and 7\".format(number))"
   ]
  },
  {
   "cell_type": "code",
   "execution_count": 21,
   "id": "a2bfcf8a",
   "metadata": {},
   "outputs": [
    {
     "name": "stdout",
     "output_type": "stream",
     "text": [
      "Enter any Positive Number: 21\n",
      "Given Number 21 is Divisible by 7\n"
     ]
    }
   ],
   "source": [
    "# Q9 write a program to check whether a given number is multiple of 7 (use if statement)\n",
    "number = int(input(\"Enter any Positive Number: \"))\n",
    "\n",
    "if(number % 7 == 0):\n",
    "    print(\"Given Number {0} is Divisible by 7\".format(number))"
   ]
  },
  {
   "cell_type": "code",
   "execution_count": 22,
   "id": "8de2aad2",
   "metadata": {},
   "outputs": [
    {
     "name": "stdout",
     "output_type": "stream",
     "text": [
      "Input a letter of the alphabet: c\n",
      "c is a consonant.\n"
     ]
    }
   ],
   "source": [
    "# Q10 write a program to check whether an alphabet is a vowel or constant.\n",
    "l = input(\"Input a letter of the alphabet: \")\n",
    "\n",
    "if l in ('a', 'e', 'i', 'o', 'u'):\n",
    "    print(\"%s is a vowel.\" % l)\n",
    "elif l == 'y':\n",
    "    print(\"Sometimes letter y stand for vowel, sometimes stand for consonant.\")\n",
    "else:\n",
    "    print(\"%s is a consonant.\" % l) "
   ]
  },
  {
   "cell_type": "code",
   "execution_count": 1,
   "id": "64556022",
   "metadata": {},
   "outputs": [
    {
     "name": "stdout",
     "output_type": "stream",
     "text": [
      "Input a dog's age in human years: 21\n",
      "The dog's age in dog's years is 97\n"
     ]
    }
   ],
   "source": [
    "# Q11 Write a python program to calculate a dog's age in dog's years.\n",
    "# Note: For the first two years, a dog year is equal to 10.5 human years. After that,each dog year equals 4 human years.Expected Output:\n",
    "# Input a dogs age in human years: 15\n",
    "# The dos's age in dog's years is 73\n",
    "h_age = int(input(\"Input a dog's age in human years: \"))\n",
    "\n",
    "if h_age < 0:\n",
    "\tprint(\"Age must be positive number.\")\n",
    "\texit()\n",
    "elif h_age <= 2:\n",
    "\td_age = h_age * 10.5\n",
    "else:\n",
    "\td_age = 21 + (h_age - 2)*4\n",
    "\n",
    "print(\"The dog's age in dog's years is\", d_age)"
   ]
  },
  {
   "cell_type": "code",
   "execution_count": 3,
   "id": "96584871",
   "metadata": {},
   "outputs": [
    {
     "name": "stdout",
     "output_type": "stream",
     "text": [
      "Input first number: 21\n",
      "Input second number: 02\n",
      "Input third number: 13\n",
      "The median is 13.0\n"
     ]
    }
   ],
   "source": [
    "# Q12 Write a python program to find the median of these values.\n",
    "\n",
    "a = float(input(\"Input first number: \"))\n",
    "b = float(input(\"Input second number: \"))\n",
    "c = float(input(\"Input third number: \"))\n",
    "if a > b:\n",
    "    if a < c:\n",
    "        median = a\n",
    "    elif b > c:\n",
    "        median = b\n",
    "    else:\n",
    "        median = c\n",
    "else:\n",
    "    if a > c:\n",
    "        median = a\n",
    "    elif b < c:\n",
    "        median = b\n",
    "    else:\n",
    "        median = c\n",
    "\n",
    "print(\"The median is\", median)"
   ]
  },
  {
   "cell_type": "code",
   "execution_count": 6,
   "id": "d492ac19",
   "metadata": {},
   "outputs": [
    {
     "name": "stdout",
     "output_type": "stream",
     "text": [
      "Input a string: 123456789\n",
      "The string is an integer.\n"
     ]
    }
   ],
   "source": [
    "# Q13 Write a python program to check if a string represents an integer or not.\n",
    "\n",
    "text = input(\"Input a string: \")\n",
    "text = text.strip()\n",
    "if len(text) < 1:\n",
    "    print(\"Input a valid text\")\n",
    "else:\n",
    "    if all(text[i] in \"0123456789\" for i in range(len(text))):\n",
    "        print(\"The string is an integer.\")\n",
    "    elif (text[0] in \"+-\") and \\\n",
    "         all(text[i] in \"0123456789\" for i in range(1,len(text))):\n",
    "         print(\"The string is an integer.\")\n",
    "    else:\n",
    "        print(\"The string is not an integer.\") "
   ]
  },
  {
   "cell_type": "code",
   "execution_count": 7,
   "id": "9b702d6d",
   "metadata": {},
   "outputs": [
    {
     "name": "stdout",
     "output_type": "stream",
     "text": [
      "The string is an integer.\n"
     ]
    }
   ],
   "source": [
    "# Example: Q13 Write a python program to check if a string represents an integer or not.\n",
    "\n",
    "text = (\"12345678 \")\n",
    "text = text.strip()\n",
    "if len(text) < 1:\n",
    "    print(\"12345678\") \n",
    "else:\n",
    "    if all(text[i] in \"0123456789\" for i in range(len(text))):\n",
    "        print(\"The string is an integer.\")\n",
    "    elif (text[0] in \"+-\") and \\\n",
    "         all(text[i] in \"0123456789\" for i in range(1,len(text))):\n",
    "         print(\"The string is an integer.\")\n",
    "    else:\n",
    "        print(\"The string is not an integer.\") "
   ]
  },
  {
   "cell_type": "code",
   "execution_count": 8,
   "id": "dcb5be99",
   "metadata": {},
   "outputs": [
    {
     "name": "stdout",
     "output_type": "stream",
     "text": [
      "20\n",
      "12\n",
      "22\n"
     ]
    }
   ],
   "source": [
    "# Q14 Write a python program to sum of two given integers.However,if the sum is between 15 to 20 it will return 20.\n",
    "def sum(x, y):\n",
    "    sum = x + y\n",
    "    if sum in range(15, 20):\n",
    "        return 20\n",
    "    else:\n",
    "        return sum\n",
    "\n",
    "print(sum(10, 6))\n",
    "print(sum(10, 2))\n",
    "print(sum(10, 12))"
   ]
  },
  {
   "cell_type": "code",
   "execution_count": 9,
   "id": "b11bc573",
   "metadata": {},
   "outputs": [
    {
     "name": "stdout",
     "output_type": "stream",
     "text": [
      "Number of even numbers : 4\n",
      "Number of odd numbers : 5\n"
     ]
    }
   ],
   "source": [
    "# Q15 Write a python program to count the number of even and odd numbers from a series of numbers.\n",
    "numbers = (1, 2, 3, 4, 5, 6, 7, 8, 9) # Declaring the tuple\n",
    "count_odd = 0\n",
    "count_even = 0\n",
    "for x in numbers:\n",
    "        if not x % 2:\n",
    "    \t     count_even+=1\n",
    "        else:\n",
    "    \t     count_odd+=1\n",
    "print(\"Number of even numbers :\",count_even)\n",
    "print(\"Number of odd numbers :\",count_odd)"
   ]
  },
  {
   "cell_type": "code",
   "execution_count": null,
   "id": "bfa29ed3",
   "metadata": {},
   "outputs": [],
   "source": []
  }
 ],
 "metadata": {
  "kernelspec": {
   "display_name": "Python 3 (ipykernel)",
   "language": "python",
   "name": "python3"
  },
  "language_info": {
   "codemirror_mode": {
    "name": "ipython",
    "version": 3
   },
   "file_extension": ".py",
   "mimetype": "text/x-python",
   "name": "python",
   "nbconvert_exporter": "python",
   "pygments_lexer": "ipython3",
   "version": "3.10.6"
  }
 },
 "nbformat": 4,
 "nbformat_minor": 5
}
